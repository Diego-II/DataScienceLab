{
 "cells": [
  {
   "cell_type": "code",
   "execution_count": 1,
   "metadata": {
    "ExecuteTime": {
     "end_time": "2020-04-14T03:35:59.280774Z",
     "start_time": "2020-04-14T03:35:58.535114Z"
    },
    "lang": "en"
   },
   "outputs": [],
   "source": [
    "import glob\n",
    "import pandas as pd\n",
    "import numpy as np\n",
    "import seaborn as sns\n",
    "import sys\n",
    "import matplotlib.pyplot as plt\n",
    "# sys.path"
   ]
  },
  {
   "cell_type": "markdown",
   "metadata": {
    "lang": "es"
   },
   "source": [
    "importación glob\n",
    "importar pandas como pd\n",
    "importar numpy como np"
   ]
  },
  {
   "cell_type": "markdown",
   "metadata": {
    "lang": "es"
   },
   "source": [
    "# Llenado de valores faltantes\n",
    "\n",
    "**Objetivo**: El objetivo de esta sección es mostrar algunas de las técnicas que pueden ser usadas para rellenar datos faltantes. En este caso de estudio abordaremos los métodos `fillna` e `interpolate` de la librería `pandas`.\n",
    "\n",
    "## Calidad del aire de Beijing\n",
    "\n",
    "El caso de estudio se centra en un conjunto de datos de la siguiente publicación\n",
    "\n",
    "- \\[1\\] [Zhang, S., Guo, B., Dong, A., He, J., Xu, Z. and Chen, S.X. (2017) Cautionary Tales on Air-Quality Improvement in Beijing. Proceedings of the Royal Society A, Volume 473, No. 2205, Pages 20170457.](https://royalsocietypublishing.org/doi/pdf/10.1098/rspa.2017.0457)\n",
    "\n",
    "Disponible en el repositorio de [UCI](https://archive.ics.uci.edu/ml/datasets/Beijing+Multi-Site+Air-Quality+Data)\n",
    "\n",
    "Las columnas incluidas en este conjunto de datos son las siguientes:\n",
    "\n",
    "- No: número de fila\n",
    "- year: año de datos en esta fila\n",
    "- month: mes de datos en esta fila\n",
    "- day: día de datos en esta fila\n",
    "- hour: hora de datos en esta fila\n",
    "- PM2.5: concentración de PM2.5 (ug / m ^ 3)\n",
    "- PM10: concentración de PM10 (ug / m ^ 3)\n",
    "- SO2: concentración de SO2 (ug / m ^ 3)\n",
    "- NO2: concentración de NO2 (ug / m ^ 3)\n",
    "- CO: concentración de CO (ug / m ^ 3)\n",
    "- O3: concentración de O3 (ug / m ^ 3)\n",
    "- TEMP: temperatura (grado Celsius)\n",
    "- PRES: presión (hPa)\n",
    "- DEWP: temperatura de rocío (grados Celsius) - temperatura de rocío es la más alta temperatura a la que empieza a condensarse el vapor de agua contenido en el aire.\n",
    "- RAIN: precipitación (mm)\n",
    "- wd: dirección del viento\n",
    "- WSPM: velocidad del viento (m / s)\n",
    "- station: nombre del sitio de monitoreo de la calidad del aire\n",
    "\n",
    "Las estaciones están todas ubicadas en el área metropolitana de Beijing. En la siguiente figura los puntos violetas muestran su ubicación, los triángulos son estaciones meteorológicas y los puntos rojos son otras estaciones no incluidas en el conjunto de datos. Las lineas azul y naranjas fividen a la metropolis en zona norte, centro y sur.     \n",
    "\n",
    "<img src=\"img/Beijing_AQ.png\" style='width:600px'>\n",
    "<center><b>Figura 1:</b> Ubicación de las estaciones de monitoreo - Fuente [1].</center>"
   ]
  },
  {
   "cell_type": "markdown",
   "metadata": {},
   "source": [
    "**Consolidar conjunto de datos**  \n",
    "En primer lugar cargamos el conjunto de datos en memoria. Cada csv contiene las series de tiempo con frecuencia horaria de las 12 estaciones mencionadas, para 4 años calendario, desde marzo 2013 hasta febrero 2017. Por este motivo, todos los archivos tienen la misma cantidad de filas y columnas.\n",
    "\n",
    "Para trabajar todo el conjunto de datos en un solo archivo, construimos un `DataFrame` con un multiíndice en las columnas. En el primer nivel usaremos el nombre de la estación y en la segunda las variables anteriormente descritas. "
   ]
  },
  {
   "cell_type": "code",
   "execution_count": 2,
   "metadata": {
    "ExecuteTime": {
     "end_time": "2020-04-14T03:35:59.384027Z",
     "start_time": "2020-04-14T03:35:59.282240Z"
    }
   },
   "outputs": [
    {
     "ename": "ValueError",
     "evalue": "No objects to concatenate",
     "output_type": "error",
     "traceback": [
      "\u001b[0;31m---------------------------------------------------------------------------\u001b[0m",
      "\u001b[0;31mValueError\u001b[0m                                Traceback (most recent call last)",
      "\u001b[0;32m<ipython-input-2-f77b3b8dcc4e>\u001b[0m in \u001b[0;36m<module>\u001b[0;34m\u001b[0m\n\u001b[1;32m     19\u001b[0m \u001b[0;34m\u001b[0m\u001b[0m\n\u001b[1;32m     20\u001b[0m \u001b[0;31m# construye el DataFrame consolidado\u001b[0m\u001b[0;34m\u001b[0m\u001b[0;34m\u001b[0m\u001b[0;34m\u001b[0m\u001b[0m\n\u001b[0;32m---> 21\u001b[0;31m \u001b[0mbaq_df\u001b[0m \u001b[0;34m=\u001b[0m \u001b[0mpd\u001b[0m\u001b[0;34m.\u001b[0m\u001b[0mconcat\u001b[0m\u001b[0;34m(\u001b[0m\u001b[0mdf_dict\u001b[0m\u001b[0;34m,\u001b[0m \u001b[0maxis\u001b[0m\u001b[0;34m=\u001b[0m\u001b[0;36m1\u001b[0m\u001b[0;34m)\u001b[0m\u001b[0;34m\u001b[0m\u001b[0;34m\u001b[0m\u001b[0m\n\u001b[0m\u001b[1;32m     22\u001b[0m \u001b[0mbaq_df\u001b[0m\u001b[0;34m\u001b[0m\u001b[0;34m\u001b[0m\u001b[0m\n",
      "\u001b[0;32m~/anaconda3/envs/selenium36/lib/python3.6/site-packages/pandas/core/reshape/concat.py\u001b[0m in \u001b[0;36mconcat\u001b[0;34m(objs, axis, join, ignore_index, keys, levels, names, verify_integrity, sort, copy)\u001b[0m\n\u001b[1;32m    279\u001b[0m         \u001b[0mverify_integrity\u001b[0m\u001b[0;34m=\u001b[0m\u001b[0mverify_integrity\u001b[0m\u001b[0;34m,\u001b[0m\u001b[0;34m\u001b[0m\u001b[0;34m\u001b[0m\u001b[0m\n\u001b[1;32m    280\u001b[0m         \u001b[0mcopy\u001b[0m\u001b[0;34m=\u001b[0m\u001b[0mcopy\u001b[0m\u001b[0;34m,\u001b[0m\u001b[0;34m\u001b[0m\u001b[0;34m\u001b[0m\u001b[0m\n\u001b[0;32m--> 281\u001b[0;31m         \u001b[0msort\u001b[0m\u001b[0;34m=\u001b[0m\u001b[0msort\u001b[0m\u001b[0;34m,\u001b[0m\u001b[0;34m\u001b[0m\u001b[0;34m\u001b[0m\u001b[0m\n\u001b[0m\u001b[1;32m    282\u001b[0m     )\n\u001b[1;32m    283\u001b[0m \u001b[0;34m\u001b[0m\u001b[0m\n",
      "\u001b[0;32m~/anaconda3/envs/selenium36/lib/python3.6/site-packages/pandas/core/reshape/concat.py\u001b[0m in \u001b[0;36m__init__\u001b[0;34m(self, objs, axis, join, keys, levels, names, ignore_index, verify_integrity, copy, sort)\u001b[0m\n\u001b[1;32m    327\u001b[0m \u001b[0;34m\u001b[0m\u001b[0m\n\u001b[1;32m    328\u001b[0m         \u001b[0;32mif\u001b[0m \u001b[0mlen\u001b[0m\u001b[0;34m(\u001b[0m\u001b[0mobjs\u001b[0m\u001b[0;34m)\u001b[0m \u001b[0;34m==\u001b[0m \u001b[0;36m0\u001b[0m\u001b[0;34m:\u001b[0m\u001b[0;34m\u001b[0m\u001b[0;34m\u001b[0m\u001b[0m\n\u001b[0;32m--> 329\u001b[0;31m             \u001b[0;32mraise\u001b[0m \u001b[0mValueError\u001b[0m\u001b[0;34m(\u001b[0m\u001b[0;34m\"No objects to concatenate\"\u001b[0m\u001b[0;34m)\u001b[0m\u001b[0;34m\u001b[0m\u001b[0;34m\u001b[0m\u001b[0m\n\u001b[0m\u001b[1;32m    330\u001b[0m \u001b[0;34m\u001b[0m\u001b[0m\n\u001b[1;32m    331\u001b[0m         \u001b[0;32mif\u001b[0m \u001b[0mkeys\u001b[0m \u001b[0;32mis\u001b[0m \u001b[0;32mNone\u001b[0m\u001b[0;34m:\u001b[0m\u001b[0;34m\u001b[0m\u001b[0;34m\u001b[0m\u001b[0m\n",
      "\u001b[0;31mValueError\u001b[0m: No objects to concatenate"
     ]
    }
   ],
   "source": [
    "# contruye una lista con las rutas de los archivos csv a cargar\n",
    "rutas_csv = sorted(glob.glob('data_UCI/PRSA_Data_20130301-20170228/*'))\n",
    "\n",
    "# inicializa el diccionario que contendra los DataFrame de cadad estacion\n",
    "df_dict = {}\n",
    "\n",
    "for csv_p in rutas_csv:\n",
    "    \n",
    "    # reporta el archivo cargado y su numero de filas y columas\n",
    "    print(f'cargando el archivo: {csv_p}')\n",
    "    df_ = pd.read_csv(csv_p, index_col=0)\n",
    "    print(f'shape: {df_.shape}\\n')\n",
    "    \n",
    "    # obten el nombre de la estacion ara usarla como llave del diccionario\n",
    "    estacion_arreglo = df_.station.unique()\n",
    "    estacion_name = estacion_arreglo[0]\n",
    "\n",
    "    df_dict[estacion_name] = df_\n",
    "\n",
    "# construye el DataFrame consolidado \n",
    "baq_df = pd.concat(df_dict, axis=1)\n",
    "baq_df"
   ]
  },
  {
   "cell_type": "markdown",
   "metadata": {},
   "source": [
    "**Contar número de valores nulos**  \n",
    "Para mostrar las diferentes maneras de llenado de valores faltantes primero estudiaremos la cantidad de valores nulos que presentan los datos."
   ]
  },
  {
   "cell_type": "code",
   "execution_count": null,
   "metadata": {
    "ExecuteTime": {
     "end_time": "2020-04-14T03:35:59.385707Z",
     "start_time": "2020-04-14T03:35:58.806Z"
    }
   },
   "outputs": [],
   "source": [
    "# cuenta el numero de valores nulos y agrupa por columna en el segundo nivel\n",
    "grupo = baq_df.isnull().sum().groupby(level=1, sort=False)\n",
    "\n",
    "# suma los valos nulos de cada grupo\n",
    "n_nulos = grupo.sum()\n",
    "\n",
    "# reporta los resultados en numero absoluto y porcentaje \n",
    "df_nulos = pd.concat([n_nulos, n_nulos * 100 / (len(df_dict) * baq_df.shape[0])],\n",
    "                     keys=['n_nulos', 'porcentaje'], axis=1)\n",
    "df_nulos"
   ]
  },
  {
   "cell_type": "markdown",
   "metadata": {},
   "source": [
    "**Contar la cantidad máxima de valores nulos contiguos**  \n",
    "Además de contar la cantidad de nulos, dado que se trata de series de tiempo, nos interesa saber la cantidad máxima de valores nulos contiguos."
   ]
  },
  {
   "cell_type": "code",
   "execution_count": null,
   "metadata": {
    "ExecuteTime": {
     "end_time": "2020-04-14T03:35:59.386337Z",
     "start_time": "2020-04-14T03:35:58.939Z"
    }
   },
   "outputs": [],
   "source": [
    "def encontrar_max_contiguo(srs):\n",
    "    '''\n",
    "    Encuentra la maxima suma de `1` adyacentes en una\n",
    "    en un `iterable` de `0` y `1`\n",
    "    \n",
    "    Parametros\n",
    "    ----------\n",
    "    srs : iterable,\n",
    "        compuesto solo por elementos `0` o `1`.\n",
    "        \n",
    "    Retorna\n",
    "    -------\n",
    "    max : int,\n",
    "        el numero maximo de `1` contiguos\n",
    "    '''\n",
    "    \n",
    "    # inicializa valores maximos\n",
    "    max_ = 0\n",
    "    contiguo_max = 0\n",
    "    \n",
    "    # recorre los\n",
    "    for a in srs:\n",
    "        if a != 0:\n",
    "            contiguo_max += a\n",
    "            if max_ < contiguo_max:\n",
    "                max_ = contiguo_max\n",
    "        else:\n",
    "            contiguo_max = 0\n",
    "    return max_"
   ]
  },
  {
   "cell_type": "code",
   "execution_count": null,
   "metadata": {
    "ExecuteTime": {
     "end_time": "2020-04-14T03:35:59.387109Z",
     "start_time": "2020-04-14T03:35:59.003Z"
    }
   },
   "outputs": [],
   "source": [
    "# calcula cantidad maxima de valores nulos contiguos en las\n",
    "# columnas que presentan valores nulos\n",
    "nulos_contiguos = baq_df.isnull().loc[:, baq_df.isnull().any(0)].apply(encontrar_max_contiguo)\n",
    "nulos_contiguos"
   ]
  },
  {
   "cell_type": "code",
   "execution_count": null,
   "metadata": {
    "ExecuteTime": {
     "end_time": "2020-04-14T03:35:59.387789Z",
     "start_time": "2020-04-14T03:35:59.052Z"
    }
   },
   "outputs": [],
   "source": [
    "# calcula  el promedio de nulos contiguos por variable\n",
    "grupo_nulos_contiguos = nulos_contiguos.groupby(level=1, sort=False)\n",
    "grupo_nulos_contiguos.describe()"
   ]
  },
  {
   "cell_type": "markdown",
   "metadata": {},
   "source": [
    "### Método `fillna`\n",
    "Para las columnas en las que el porcentaje de nulos es menor al 1% llenaremos los valores faltantes con métodos simples que están disponibles en el método `fillna`. Además, en estas columnas los valores faltantes consisten en a lo más un periodo de 13 horas y en su mayoría no sobrepasa las 6 horas corridas (ver celda anterior)."
   ]
  },
  {
   "cell_type": "code",
   "execution_count": null,
   "metadata": {
    "ExecuteTime": {
     "end_time": "2020-04-14T03:35:59.388726Z",
     "start_time": "2020-04-14T03:35:59.151Z"
    }
   },
   "outputs": [],
   "source": [
    "# este objeto sera util para trabajar con índices multiples\n",
    "idx = pd.IndexSlice\n",
    "\n",
    "# muestra en pantalla las variables que presentan valores nulos menores al 1%\n",
    "df_nulos.index[(df_nulos['porcentaje'] < 1) & (df_nulos['porcentaje'] > 0)]"
   ]
  },
  {
   "cell_type": "markdown",
   "metadata": {},
   "source": [
    "**Llenado con una constante**  \n",
    "Para la variable `'RAIN'` asumiremos arbitrariamente que si el valor es nulo, se debe a ausencia de lluvia"
   ]
  },
  {
   "cell_type": "code",
   "execution_count": null,
   "metadata": {
    "ExecuteTime": {
     "end_time": "2020-04-14T03:35:59.389487Z",
     "start_time": "2020-04-14T03:35:59.244Z"
    }
   },
   "outputs": [],
   "source": [
    "# muestra en pantalla las filas con valores nulos\n",
    "col_a_llenar = 'RAIN'\n",
    "filas_con_nulos = baq_df.loc(axis=1)[:, col_a_llenar].isnull().any(1)\n",
    "baq_df.loc[filas_con_nulos, idx[:, col_a_llenar]]"
   ]
  },
  {
   "cell_type": "code",
   "execution_count": null,
   "metadata": {
    "ExecuteTime": {
     "end_time": "2020-04-14T03:35:59.390158Z",
     "start_time": "2020-04-14T03:35:59.316Z"
    }
   },
   "outputs": [],
   "source": [
    "# rellena los valores nulos\n",
    "baq_df.loc(axis=1)[:, col_a_llenar] = baq_df.loc(axis=1)[:, col_a_llenar].fillna(0)\n",
    "baq_df.loc[filas_con_nulos, idx[:, col_a_llenar]]"
   ]
  },
  {
   "cell_type": "markdown",
   "metadata": {},
   "source": [
    "**Llenado con la moda**  \n",
    "Para nuestra única variable categórica, `'wd'` (dirección del viento). "
   ]
  },
  {
   "cell_type": "code",
   "execution_count": 3,
   "metadata": {
    "ExecuteTime": {
     "end_time": "2020-04-14T03:35:59.502644Z",
     "start_time": "2020-04-14T03:35:59.492029Z"
    }
   },
   "outputs": [
    {
     "ename": "NameError",
     "evalue": "name 'baq_df' is not defined",
     "output_type": "error",
     "traceback": [
      "\u001b[0;31m---------------------------------------------------------------------------\u001b[0m",
      "\u001b[0;31mNameError\u001b[0m                                 Traceback (most recent call last)",
      "\u001b[0;32m<ipython-input-3-df4f0f31ad9c>\u001b[0m in \u001b[0;36m<module>\u001b[0;34m\u001b[0m\n\u001b[1;32m      1\u001b[0m \u001b[0;31m# muestra en pantalla las filas con valores nulos\u001b[0m\u001b[0;34m\u001b[0m\u001b[0;34m\u001b[0m\u001b[0;34m\u001b[0m\u001b[0m\n\u001b[1;32m      2\u001b[0m \u001b[0mcol_a_llenar\u001b[0m \u001b[0;34m=\u001b[0m \u001b[0;34m'wd'\u001b[0m\u001b[0;34m\u001b[0m\u001b[0;34m\u001b[0m\u001b[0m\n\u001b[0;32m----> 3\u001b[0;31m \u001b[0mfilas_con_nulos\u001b[0m \u001b[0;34m=\u001b[0m \u001b[0mbaq_df\u001b[0m\u001b[0;34m.\u001b[0m\u001b[0mloc\u001b[0m\u001b[0;34m(\u001b[0m\u001b[0maxis\u001b[0m\u001b[0;34m=\u001b[0m\u001b[0;36m1\u001b[0m\u001b[0;34m)\u001b[0m\u001b[0;34m[\u001b[0m\u001b[0;34m:\u001b[0m\u001b[0;34m,\u001b[0m \u001b[0mcol_a_llenar\u001b[0m\u001b[0;34m]\u001b[0m\u001b[0;34m.\u001b[0m\u001b[0misnull\u001b[0m\u001b[0;34m(\u001b[0m\u001b[0;34m)\u001b[0m\u001b[0;34m.\u001b[0m\u001b[0many\u001b[0m\u001b[0;34m(\u001b[0m\u001b[0;36m1\u001b[0m\u001b[0;34m)\u001b[0m\u001b[0;34m\u001b[0m\u001b[0;34m\u001b[0m\u001b[0m\n\u001b[0m\u001b[1;32m      4\u001b[0m \u001b[0mbaq_df\u001b[0m\u001b[0;34m.\u001b[0m\u001b[0mloc\u001b[0m\u001b[0;34m[\u001b[0m\u001b[0mfilas_con_nulos\u001b[0m\u001b[0;34m,\u001b[0m \u001b[0midx\u001b[0m\u001b[0;34m[\u001b[0m\u001b[0;34m:\u001b[0m\u001b[0;34m,\u001b[0m \u001b[0mcol_a_llenar\u001b[0m\u001b[0;34m]\u001b[0m\u001b[0;34m]\u001b[0m\u001b[0;34m\u001b[0m\u001b[0;34m\u001b[0m\u001b[0m\n",
      "\u001b[0;31mNameError\u001b[0m: name 'baq_df' is not defined"
     ]
    }
   ],
   "source": [
    "# muestra en pantalla las filas con valores nulos\n",
    "col_a_llenar = 'wd'\n",
    "filas_con_nulos = baq_df.loc(axis=1)[:, col_a_llenar].isnull().any(1)\n",
    "baq_df.loc[filas_con_nulos, idx[:, col_a_llenar]]"
   ]
  },
  {
   "cell_type": "code",
   "execution_count": null,
   "metadata": {
    "ExecuteTime": {
     "end_time": "2020-04-14T03:35:59.504475Z",
     "start_time": "2020-04-14T03:35:59.463Z"
    }
   },
   "outputs": [],
   "source": [
    "# calcula la moda por columna\n",
    "moda_wd = baq_df.loc(axis=1)[:, col_a_llenar].mode()\n",
    "moda_wd.iloc[0]"
   ]
  },
  {
   "cell_type": "code",
   "execution_count": 4,
   "metadata": {
    "ExecuteTime": {
     "end_time": "2020-04-14T03:35:59.615031Z",
     "start_time": "2020-04-14T03:35:59.606813Z"
    }
   },
   "outputs": [
    {
     "ename": "NameError",
     "evalue": "name 'baq_df' is not defined",
     "output_type": "error",
     "traceback": [
      "\u001b[0;31m---------------------------------------------------------------------------\u001b[0m",
      "\u001b[0;31mNameError\u001b[0m                                 Traceback (most recent call last)",
      "\u001b[0;32m<ipython-input-4-c828fb75089e>\u001b[0m in \u001b[0;36m<module>\u001b[0;34m\u001b[0m\n\u001b[1;32m      1\u001b[0m \u001b[0;31m# rellena los valores nulos\u001b[0m\u001b[0;34m\u001b[0m\u001b[0;34m\u001b[0m\u001b[0;34m\u001b[0m\u001b[0m\n\u001b[0;32m----> 2\u001b[0;31m baq_df.loc(axis=1)[:, col_a_llenar] = baq_df.loc(axis=1)[:, col_a_llenar].fillna(\n\u001b[0m\u001b[1;32m      3\u001b[0m     moda_wd.iloc[0], axis=0)\n\u001b[1;32m      4\u001b[0m \u001b[0mbaq_df\u001b[0m\u001b[0;34m.\u001b[0m\u001b[0mloc\u001b[0m\u001b[0;34m[\u001b[0m\u001b[0mfilas_con_nulos\u001b[0m\u001b[0;34m,\u001b[0m \u001b[0midx\u001b[0m\u001b[0;34m[\u001b[0m\u001b[0;34m:\u001b[0m\u001b[0;34m,\u001b[0m \u001b[0mcol_a_llenar\u001b[0m\u001b[0;34m]\u001b[0m\u001b[0;34m]\u001b[0m\u001b[0;34m\u001b[0m\u001b[0;34m\u001b[0m\u001b[0m\n",
      "\u001b[0;31mNameError\u001b[0m: name 'baq_df' is not defined"
     ]
    }
   ],
   "source": [
    "# rellena los valores nulos\n",
    "baq_df.loc(axis=1)[:, col_a_llenar] = baq_df.loc(axis=1)[:, col_a_llenar].fillna(\n",
    "    moda_wd.iloc[0], axis=0)\n",
    "baq_df.loc[filas_con_nulos, idx[:, col_a_llenar]]"
   ]
  },
  {
   "cell_type": "markdown",
   "metadata": {
    "ExecuteTime": {
     "end_time": "2020-04-06T03:39:55.544072Z",
     "start_time": "2020-04-06T03:39:55.505298Z"
    }
   },
   "source": [
    "**Llenado con la mediana**  \n",
    "Para la columna `'WSPM'` (velocidad del viento). "
   ]
  },
  {
   "cell_type": "code",
   "execution_count": null,
   "metadata": {
    "ExecuteTime": {
     "end_time": "2020-04-14T03:35:59.616521Z",
     "start_time": "2020-04-14T03:35:59.590Z"
    }
   },
   "outputs": [],
   "source": [
    "# muestra en pantalla las filas con valores nulos\n",
    "col_a_llenar = 'WSPM'\n",
    "filas_con_nulos = baq_df.loc(axis=1)[:, col_a_llenar].isnull().any(1)\n",
    "baq_df.loc[filas_con_nulos, idx[:, col_a_llenar]]"
   ]
  },
  {
   "cell_type": "code",
   "execution_count": 5,
   "metadata": {
    "ExecuteTime": {
     "end_time": "2020-04-14T03:35:59.725617Z",
     "start_time": "2020-04-14T03:35:59.718261Z"
    }
   },
   "outputs": [
    {
     "ename": "NameError",
     "evalue": "name 'baq_df' is not defined",
     "output_type": "error",
     "traceback": [
      "\u001b[0;31m---------------------------------------------------------------------------\u001b[0m",
      "\u001b[0;31mNameError\u001b[0m                                 Traceback (most recent call last)",
      "\u001b[0;32m<ipython-input-5-03cbc472573c>\u001b[0m in \u001b[0;36m<module>\u001b[0;34m\u001b[0m\n\u001b[1;32m      1\u001b[0m \u001b[0;31m# calcula la mediana por columna\u001b[0m\u001b[0;34m\u001b[0m\u001b[0;34m\u001b[0m\u001b[0;34m\u001b[0m\u001b[0m\n\u001b[0;32m----> 2\u001b[0;31m \u001b[0mmediana_wspm\u001b[0m \u001b[0;34m=\u001b[0m \u001b[0mbaq_df\u001b[0m\u001b[0;34m.\u001b[0m\u001b[0mloc\u001b[0m\u001b[0;34m(\u001b[0m\u001b[0maxis\u001b[0m\u001b[0;34m=\u001b[0m\u001b[0;36m1\u001b[0m\u001b[0;34m)\u001b[0m\u001b[0;34m[\u001b[0m\u001b[0;34m:\u001b[0m\u001b[0;34m,\u001b[0m \u001b[0mcol_a_llenar\u001b[0m\u001b[0;34m]\u001b[0m\u001b[0;34m.\u001b[0m\u001b[0mmedian\u001b[0m\u001b[0;34m(\u001b[0m\u001b[0;34m)\u001b[0m\u001b[0;34m\u001b[0m\u001b[0;34m\u001b[0m\u001b[0m\n\u001b[0m\u001b[1;32m      3\u001b[0m \u001b[0mmediana_wspm\u001b[0m\u001b[0;34m\u001b[0m\u001b[0;34m\u001b[0m\u001b[0m\n",
      "\u001b[0;31mNameError\u001b[0m: name 'baq_df' is not defined"
     ]
    }
   ],
   "source": [
    "# calcula la mediana por columna\n",
    "mediana_wspm = baq_df.loc(axis=1)[:, col_a_llenar].median()\n",
    "mediana_wspm"
   ]
  },
  {
   "cell_type": "code",
   "execution_count": null,
   "metadata": {
    "ExecuteTime": {
     "end_time": "2020-04-14T03:35:59.727348Z",
     "start_time": "2020-04-14T03:35:59.702Z"
    }
   },
   "outputs": [],
   "source": [
    "# rellena los valores nulos\n",
    "baq_df.loc(axis=1)[:, col_a_llenar] = baq_df.loc(axis=1)[:, col_a_llenar].fillna(\n",
    "    mediana_wspm, axis=0)\n",
    "baq_df.loc[filas_con_nulos, idx[:, col_a_llenar]]"
   ]
  },
  {
   "cell_type": "markdown",
   "metadata": {},
   "source": [
    "**Llenado con el promedio**  \n",
    "Para las columna `'PRES'` (presión)."
   ]
  },
  {
   "cell_type": "code",
   "execution_count": 6,
   "metadata": {
    "ExecuteTime": {
     "end_time": "2020-04-14T03:35:59.837824Z",
     "start_time": "2020-04-14T03:35:59.829908Z"
    }
   },
   "outputs": [
    {
     "ename": "NameError",
     "evalue": "name 'baq_df' is not defined",
     "output_type": "error",
     "traceback": [
      "\u001b[0;31m---------------------------------------------------------------------------\u001b[0m",
      "\u001b[0;31mNameError\u001b[0m                                 Traceback (most recent call last)",
      "\u001b[0;32m<ipython-input-6-844964f5d602>\u001b[0m in \u001b[0;36m<module>\u001b[0;34m\u001b[0m\n\u001b[1;32m      1\u001b[0m \u001b[0;31m# muestra en pantalla las filas con valores nulos\u001b[0m\u001b[0;34m\u001b[0m\u001b[0;34m\u001b[0m\u001b[0;34m\u001b[0m\u001b[0m\n\u001b[1;32m      2\u001b[0m \u001b[0mcol_a_llenar\u001b[0m \u001b[0;34m=\u001b[0m \u001b[0;34m'PRES'\u001b[0m\u001b[0;34m\u001b[0m\u001b[0;34m\u001b[0m\u001b[0m\n\u001b[0;32m----> 3\u001b[0;31m \u001b[0mfilas_con_nulos\u001b[0m \u001b[0;34m=\u001b[0m \u001b[0mbaq_df\u001b[0m\u001b[0;34m.\u001b[0m\u001b[0mloc\u001b[0m\u001b[0;34m(\u001b[0m\u001b[0maxis\u001b[0m\u001b[0;34m=\u001b[0m\u001b[0;36m1\u001b[0m\u001b[0;34m)\u001b[0m\u001b[0;34m[\u001b[0m\u001b[0;34m:\u001b[0m\u001b[0;34m,\u001b[0m \u001b[0mcol_a_llenar\u001b[0m\u001b[0;34m]\u001b[0m\u001b[0;34m.\u001b[0m\u001b[0misnull\u001b[0m\u001b[0;34m(\u001b[0m\u001b[0;34m)\u001b[0m\u001b[0;34m.\u001b[0m\u001b[0many\u001b[0m\u001b[0;34m(\u001b[0m\u001b[0;36m1\u001b[0m\u001b[0;34m)\u001b[0m\u001b[0;34m\u001b[0m\u001b[0;34m\u001b[0m\u001b[0m\n\u001b[0m\u001b[1;32m      4\u001b[0m \u001b[0mbaq_df\u001b[0m\u001b[0;34m.\u001b[0m\u001b[0mloc\u001b[0m\u001b[0;34m[\u001b[0m\u001b[0mfilas_con_nulos\u001b[0m\u001b[0;34m,\u001b[0m \u001b[0midx\u001b[0m\u001b[0;34m[\u001b[0m\u001b[0;34m:\u001b[0m\u001b[0;34m,\u001b[0m \u001b[0mcol_a_llenar\u001b[0m\u001b[0;34m]\u001b[0m\u001b[0;34m]\u001b[0m\u001b[0;34m\u001b[0m\u001b[0;34m\u001b[0m\u001b[0m\n",
      "\u001b[0;31mNameError\u001b[0m: name 'baq_df' is not defined"
     ]
    }
   ],
   "source": [
    "# muestra en pantalla las filas con valores nulos\n",
    "col_a_llenar = 'PRES'\n",
    "filas_con_nulos = baq_df.loc(axis=1)[:, col_a_llenar].isnull().any(1)\n",
    "baq_df.loc[filas_con_nulos, idx[:, col_a_llenar]]"
   ]
  },
  {
   "cell_type": "code",
   "execution_count": 7,
   "metadata": {
    "ExecuteTime": {
     "end_time": "2020-04-14T03:35:59.948052Z",
     "start_time": "2020-04-14T03:35:59.940465Z"
    }
   },
   "outputs": [
    {
     "ename": "NameError",
     "evalue": "name 'baq_df' is not defined",
     "output_type": "error",
     "traceback": [
      "\u001b[0;31m---------------------------------------------------------------------------\u001b[0m",
      "\u001b[0;31mNameError\u001b[0m                                 Traceback (most recent call last)",
      "\u001b[0;32m<ipython-input-7-29452a715754>\u001b[0m in \u001b[0;36m<module>\u001b[0;34m\u001b[0m\n\u001b[1;32m      1\u001b[0m \u001b[0;31m# calcula la moda por columna\u001b[0m\u001b[0;34m\u001b[0m\u001b[0;34m\u001b[0m\u001b[0;34m\u001b[0m\u001b[0m\n\u001b[0;32m----> 2\u001b[0;31m \u001b[0mpromedio_pres\u001b[0m \u001b[0;34m=\u001b[0m \u001b[0mbaq_df\u001b[0m\u001b[0;34m.\u001b[0m\u001b[0mloc\u001b[0m\u001b[0;34m(\u001b[0m\u001b[0maxis\u001b[0m\u001b[0;34m=\u001b[0m\u001b[0;36m1\u001b[0m\u001b[0;34m)\u001b[0m\u001b[0;34m[\u001b[0m\u001b[0;34m:\u001b[0m\u001b[0;34m,\u001b[0m \u001b[0mcol_a_llenar\u001b[0m\u001b[0;34m]\u001b[0m\u001b[0;34m.\u001b[0m\u001b[0mmean\u001b[0m\u001b[0;34m(\u001b[0m\u001b[0;34m)\u001b[0m\u001b[0;34m\u001b[0m\u001b[0;34m\u001b[0m\u001b[0m\n\u001b[0m\u001b[1;32m      3\u001b[0m \u001b[0mpromedio_pres\u001b[0m\u001b[0;34m\u001b[0m\u001b[0;34m\u001b[0m\u001b[0m\n",
      "\u001b[0;31mNameError\u001b[0m: name 'baq_df' is not defined"
     ]
    }
   ],
   "source": [
    "# calcula la moda por columna\n",
    "promedio_pres = baq_df.loc(axis=1)[:, col_a_llenar].mean()\n",
    "promedio_pres"
   ]
  },
  {
   "cell_type": "code",
   "execution_count": null,
   "metadata": {
    "ExecuteTime": {
     "end_time": "2020-04-14T03:35:59.949367Z",
     "start_time": "2020-04-14T03:35:59.891Z"
    }
   },
   "outputs": [],
   "source": [
    "# rellena los valores nulos\n",
    "baq_df.loc(axis=1)[:, col_a_llenar] = baq_df.loc(axis=1)[:, col_a_llenar].fillna(\n",
    "    promedio_pres, axis=0)\n",
    "baq_df.loc[filas_con_nulos, idx[:, col_a_llenar]]"
   ]
  },
  {
   "cell_type": "markdown",
   "metadata": {},
   "source": [
    "**Llenado con métodos `'ffill'` y `'bfill'`**  \n",
    "\n",
    "El método `fillna` tiene dos métodos que son útiles para DataFrame's donde que dos valores sean contiguos implica alguna noción de proximidad. En el caso de estudio, al tratarse de series de tiempo, dos valores contiguos  ocurren cerca el espacio temporal. Estos métodos son:\n",
    "1. Llenado hacia adelante (`'ffill'`): donde el último valor no nulo es propagado hacia adelante\n",
    "2. Llenado hacia atrás (`'bfill'`): donde los valores nulos son reemplazados por el siguiente valor no nulo.\n",
    "  \n",
    "<bk>  \n",
    "    \n",
    "- Así, para la columna `'Temp'` (temperatura), usaremos el método de llenado hacia adelante"
   ]
  },
  {
   "cell_type": "code",
   "execution_count": 8,
   "metadata": {
    "ExecuteTime": {
     "end_time": "2020-04-14T03:36:00.097561Z",
     "start_time": "2020-04-14T03:36:00.051380Z"
    }
   },
   "outputs": [
    {
     "ename": "NameError",
     "evalue": "name 'baq_df' is not defined",
     "output_type": "error",
     "traceback": [
      "\u001b[0;31m---------------------------------------------------------------------------\u001b[0m",
      "\u001b[0;31mNameError\u001b[0m                                 Traceback (most recent call last)",
      "\u001b[0;32m<ipython-input-8-9f4ec6e27223>\u001b[0m in \u001b[0;36m<module>\u001b[0;34m\u001b[0m\n\u001b[1;32m      1\u001b[0m \u001b[0;31m# muestra en pantalla las filas con valores nulos\u001b[0m\u001b[0;34m\u001b[0m\u001b[0;34m\u001b[0m\u001b[0;34m\u001b[0m\u001b[0m\n\u001b[1;32m      2\u001b[0m \u001b[0mcol_a_llenar\u001b[0m \u001b[0;34m=\u001b[0m \u001b[0;34m'TEMP'\u001b[0m\u001b[0;34m\u001b[0m\u001b[0;34m\u001b[0m\u001b[0m\n\u001b[0;32m----> 3\u001b[0;31m \u001b[0mfilas_con_nulos\u001b[0m \u001b[0;34m=\u001b[0m \u001b[0mbaq_df\u001b[0m\u001b[0;34m.\u001b[0m\u001b[0mloc\u001b[0m\u001b[0;34m(\u001b[0m\u001b[0maxis\u001b[0m\u001b[0;34m=\u001b[0m\u001b[0;36m1\u001b[0m\u001b[0;34m)\u001b[0m\u001b[0;34m[\u001b[0m\u001b[0;34m:\u001b[0m\u001b[0;34m,\u001b[0m \u001b[0mcol_a_llenar\u001b[0m\u001b[0;34m]\u001b[0m\u001b[0;34m.\u001b[0m\u001b[0misnull\u001b[0m\u001b[0;34m(\u001b[0m\u001b[0;34m)\u001b[0m\u001b[0;34m.\u001b[0m\u001b[0many\u001b[0m\u001b[0;34m(\u001b[0m\u001b[0;36m1\u001b[0m\u001b[0;34m)\u001b[0m\u001b[0;34m\u001b[0m\u001b[0;34m\u001b[0m\u001b[0m\n\u001b[0m\u001b[1;32m      4\u001b[0m \u001b[0mbaq_df\u001b[0m\u001b[0;34m.\u001b[0m\u001b[0mloc\u001b[0m\u001b[0;34m[\u001b[0m\u001b[0mfilas_con_nulos\u001b[0m\u001b[0;34m,\u001b[0m \u001b[0midx\u001b[0m\u001b[0;34m[\u001b[0m\u001b[0;34m:\u001b[0m\u001b[0;34m,\u001b[0m \u001b[0mcol_a_llenar\u001b[0m\u001b[0;34m]\u001b[0m\u001b[0;34m]\u001b[0m\u001b[0;34m\u001b[0m\u001b[0;34m\u001b[0m\u001b[0m\n",
      "\u001b[0;31mNameError\u001b[0m: name 'baq_df' is not defined"
     ]
    }
   ],
   "source": [
    "# muestra en pantalla las filas con valores nulos\n",
    "col_a_llenar = 'TEMP'\n",
    "filas_con_nulos = baq_df.loc(axis=1)[:, col_a_llenar].isnull().any(1)\n",
    "baq_df.loc[filas_con_nulos, idx[:, col_a_llenar]]"
   ]
  },
  {
   "cell_type": "code",
   "execution_count": null,
   "metadata": {
    "ExecuteTime": {
     "end_time": "2020-04-14T03:36:00.098978Z",
     "start_time": "2020-04-14T03:36:00.026Z"
    }
   },
   "outputs": [],
   "source": [
    "# rellena los valores nulos\n",
    "baq_df.loc(axis=1)[:, col_a_llenar] = baq_df.loc(axis=1)[:, col_a_llenar].fillna(\n",
    "    method='ffill')\n",
    "baq_df.loc[filas_con_nulos, idx[:, col_a_llenar]]"
   ]
  },
  {
   "cell_type": "markdown",
   "metadata": {},
   "source": [
    "- Por su parte para la columna `'DEWP'`, usaremos el método de llenado hacia atrás."
   ]
  },
  {
   "cell_type": "code",
   "execution_count": 9,
   "metadata": {
    "ExecuteTime": {
     "end_time": "2020-04-14T03:36:00.209828Z",
     "start_time": "2020-04-14T03:36:00.201232Z"
    }
   },
   "outputs": [
    {
     "ename": "NameError",
     "evalue": "name 'baq_df' is not defined",
     "output_type": "error",
     "traceback": [
      "\u001b[0;31m---------------------------------------------------------------------------\u001b[0m",
      "\u001b[0;31mNameError\u001b[0m                                 Traceback (most recent call last)",
      "\u001b[0;32m<ipython-input-9-11ae0e1f1a5f>\u001b[0m in \u001b[0;36m<module>\u001b[0;34m\u001b[0m\n\u001b[1;32m      1\u001b[0m \u001b[0;31m# muestra en pantalla las filas con valores nulos\u001b[0m\u001b[0;34m\u001b[0m\u001b[0;34m\u001b[0m\u001b[0;34m\u001b[0m\u001b[0m\n\u001b[1;32m      2\u001b[0m \u001b[0mcol_a_llenar\u001b[0m \u001b[0;34m=\u001b[0m \u001b[0;34m'DEWP'\u001b[0m\u001b[0;34m\u001b[0m\u001b[0;34m\u001b[0m\u001b[0m\n\u001b[0;32m----> 3\u001b[0;31m \u001b[0mfilas_con_nulos\u001b[0m \u001b[0;34m=\u001b[0m \u001b[0mbaq_df\u001b[0m\u001b[0;34m.\u001b[0m\u001b[0mloc\u001b[0m\u001b[0;34m(\u001b[0m\u001b[0maxis\u001b[0m\u001b[0;34m=\u001b[0m\u001b[0;36m1\u001b[0m\u001b[0;34m)\u001b[0m\u001b[0;34m[\u001b[0m\u001b[0;34m:\u001b[0m\u001b[0;34m,\u001b[0m \u001b[0mcol_a_llenar\u001b[0m\u001b[0;34m]\u001b[0m\u001b[0;34m.\u001b[0m\u001b[0misnull\u001b[0m\u001b[0;34m(\u001b[0m\u001b[0;34m)\u001b[0m\u001b[0;34m.\u001b[0m\u001b[0many\u001b[0m\u001b[0;34m(\u001b[0m\u001b[0;36m1\u001b[0m\u001b[0;34m)\u001b[0m\u001b[0;34m\u001b[0m\u001b[0;34m\u001b[0m\u001b[0m\n\u001b[0m\u001b[1;32m      4\u001b[0m \u001b[0mbaq_df\u001b[0m\u001b[0;34m.\u001b[0m\u001b[0mloc\u001b[0m\u001b[0;34m[\u001b[0m\u001b[0mfilas_con_nulos\u001b[0m\u001b[0;34m,\u001b[0m \u001b[0midx\u001b[0m\u001b[0;34m[\u001b[0m\u001b[0;34m:\u001b[0m\u001b[0;34m,\u001b[0m \u001b[0mcol_a_llenar\u001b[0m\u001b[0;34m]\u001b[0m\u001b[0;34m]\u001b[0m\u001b[0;34m\u001b[0m\u001b[0;34m\u001b[0m\u001b[0m\n",
      "\u001b[0;31mNameError\u001b[0m: name 'baq_df' is not defined"
     ]
    }
   ],
   "source": [
    "# muestra en pantalla las filas con valores nulos\n",
    "col_a_llenar = 'DEWP'\n",
    "filas_con_nulos = baq_df.loc(axis=1)[:, col_a_llenar].isnull().any(1)\n",
    "baq_df.loc[filas_con_nulos, idx[:, col_a_llenar]]"
   ]
  },
  {
   "cell_type": "code",
   "execution_count": null,
   "metadata": {
    "ExecuteTime": {
     "end_time": "2020-04-14T03:36:00.211729Z",
     "start_time": "2020-04-14T03:36:00.156Z"
    }
   },
   "outputs": [],
   "source": [
    "# rellena los valores nulos\n",
    "baq_df.loc(axis=1)[:, col_a_llenar] = baq_df.loc(axis=1)[:, col_a_llenar].fillna(\n",
    "    method='bfill')\n",
    "baq_df.loc[filas_con_nulos, idx[:, col_a_llenar]]"
   ]
  },
  {
   "cell_type": "markdown",
   "metadata": {},
   "source": [
    "**Comprobar el procedimiento**  \n",
    "Ahora que ya hemos llenado los valores nulos de todas las columnas que presentaban un porcentaje menor a 1%, comprobemos que esto se ha ejecutado satisfactoriamente, calculando nuevamente los valores faltantes por columna."
   ]
  },
  {
   "cell_type": "code",
   "execution_count": 10,
   "metadata": {
    "ExecuteTime": {
     "end_time": "2020-04-14T03:36:00.323218Z",
     "start_time": "2020-04-14T03:36:00.313678Z"
    }
   },
   "outputs": [
    {
     "ename": "NameError",
     "evalue": "name 'baq_df' is not defined",
     "output_type": "error",
     "traceback": [
      "\u001b[0;31m---------------------------------------------------------------------------\u001b[0m",
      "\u001b[0;31mNameError\u001b[0m                                 Traceback (most recent call last)",
      "\u001b[0;32m<ipython-input-10-090a55ff8f7f>\u001b[0m in \u001b[0;36m<module>\u001b[0;34m\u001b[0m\n\u001b[1;32m      1\u001b[0m \u001b[0;31m# cuenta el numero de valores nulos y agrupa por columna en el segundo nivel\u001b[0m\u001b[0;34m\u001b[0m\u001b[0;34m\u001b[0m\u001b[0;34m\u001b[0m\u001b[0m\n\u001b[0;32m----> 2\u001b[0;31m \u001b[0mgrupo_despues_fillna\u001b[0m \u001b[0;34m=\u001b[0m \u001b[0mbaq_df\u001b[0m\u001b[0;34m.\u001b[0m\u001b[0misnull\u001b[0m\u001b[0;34m(\u001b[0m\u001b[0;34m)\u001b[0m\u001b[0;34m.\u001b[0m\u001b[0msum\u001b[0m\u001b[0;34m(\u001b[0m\u001b[0;34m)\u001b[0m\u001b[0;34m.\u001b[0m\u001b[0mgroupby\u001b[0m\u001b[0;34m(\u001b[0m\u001b[0mlevel\u001b[0m\u001b[0;34m=\u001b[0m\u001b[0;36m1\u001b[0m\u001b[0;34m,\u001b[0m \u001b[0msort\u001b[0m\u001b[0;34m=\u001b[0m\u001b[0;32mFalse\u001b[0m\u001b[0;34m)\u001b[0m\u001b[0;34m\u001b[0m\u001b[0;34m\u001b[0m\u001b[0m\n\u001b[0m\u001b[1;32m      3\u001b[0m \u001b[0;34m\u001b[0m\u001b[0m\n\u001b[1;32m      4\u001b[0m \u001b[0;31m# suma los valos nulos de cada grupo\u001b[0m\u001b[0;34m\u001b[0m\u001b[0;34m\u001b[0m\u001b[0;34m\u001b[0m\u001b[0m\n\u001b[1;32m      5\u001b[0m \u001b[0mn_nulos_despues_fillna\u001b[0m \u001b[0;34m=\u001b[0m \u001b[0mgrupo_despues_fillna\u001b[0m\u001b[0;34m.\u001b[0m\u001b[0msum\u001b[0m\u001b[0;34m(\u001b[0m\u001b[0;34m)\u001b[0m\u001b[0;34m\u001b[0m\u001b[0;34m\u001b[0m\u001b[0m\n",
      "\u001b[0;31mNameError\u001b[0m: name 'baq_df' is not defined"
     ]
    }
   ],
   "source": [
    "# cuenta el numero de valores nulos y agrupa por columna en el segundo nivel\n",
    "grupo_despues_fillna = baq_df.isnull().sum().groupby(level=1, sort=False)\n",
    "\n",
    "# suma los valos nulos de cada grupo\n",
    "n_nulos_despues_fillna = grupo_despues_fillna.sum()\n",
    "\n",
    "# reporta los resultados en numero absoluto y porcentaje \n",
    "df_nulos_despues_fillna = pd.concat([n_nulos_despues_fillna, n_nulos_despues_fillna * 100 / (len(df_dict) * baq_df.shape[0])],\n",
    "                     keys=['n_nulos', 'porcentaje'], axis=1)\n",
    "print('antes fillna'); display(df_nulos)\n",
    "print('\\n\\ndespues fillna'); display(df_nulos_despues_fillna)"
   ]
  },
  {
   "cell_type": "markdown",
   "metadata": {},
   "source": [
    "### Método `interpolate`\n",
    "Los valores que faltantes restantes, serán rellenados mediante el método `interpolate` (su nombre es autoexplicativo).\n",
    "- Se podría estudiar cual es la interpolación que tiene mejor fit con cada una de los contaminantes. (**Ejercicio?:** 80, 20 para train y test y medida de performance RMSE.)\n"
   ]
  },
  {
   "cell_type": "code",
   "execution_count": 11,
   "metadata": {
    "ExecuteTime": {
     "end_time": "2020-04-14T03:36:00.434047Z",
     "start_time": "2020-04-14T03:36:00.425397Z"
    }
   },
   "outputs": [
    {
     "ename": "NameError",
     "evalue": "name 'baq_df' is not defined",
     "output_type": "error",
     "traceback": [
      "\u001b[0;31m---------------------------------------------------------------------------\u001b[0m",
      "\u001b[0;31mNameError\u001b[0m                                 Traceback (most recent call last)",
      "\u001b[0;32m<ipython-input-11-d2d1ccef42e2>\u001b[0m in \u001b[0;36m<module>\u001b[0;34m\u001b[0m\n\u001b[0;32m----> 1\u001b[0;31m \u001b[0mtest_df\u001b[0m \u001b[0;34m=\u001b[0m \u001b[0mbaq_df\u001b[0m\u001b[0;34m.\u001b[0m\u001b[0mloc\u001b[0m\u001b[0;34m[\u001b[0m\u001b[0;34m:\u001b[0m\u001b[0;34m,\u001b[0m \u001b[0mbaq_df\u001b[0m\u001b[0;34m.\u001b[0m\u001b[0misnull\u001b[0m\u001b[0;34m(\u001b[0m\u001b[0;34m)\u001b[0m\u001b[0;34m.\u001b[0m\u001b[0many\u001b[0m\u001b[0;34m(\u001b[0m\u001b[0;36m0\u001b[0m\u001b[0;34m)\u001b[0m\u001b[0;34m]\u001b[0m\u001b[0;34m.\u001b[0m\u001b[0mcopy\u001b[0m\u001b[0;34m(\u001b[0m\u001b[0;34m)\u001b[0m\u001b[0;34m\u001b[0m\u001b[0;34m\u001b[0m\u001b[0m\n\u001b[0m",
      "\u001b[0;31mNameError\u001b[0m: name 'baq_df' is not defined"
     ]
    }
   ],
   "source": [
    "test_df = baq_df.loc[:, baq_df.isnull().any(0)].copy()"
   ]
  },
  {
   "cell_type": "code",
   "execution_count": null,
   "metadata": {
    "ExecuteTime": {
     "end_time": "2020-04-14T03:36:00.435464Z",
     "start_time": "2020-04-14T03:36:00.384Z"
    }
   },
   "outputs": [],
   "source": [
    "test_df.interpolate(method='linear')"
   ]
  },
  {
   "cell_type": "markdown",
   "metadata": {},
   "source": [
    "# BREAK\n",
    "# NO INCLUIR (Puede servir de base para MOGP)\n",
    "El objetivo de la publicación \\[1\\] [Zhang, S., Guo, B., Dong, A., He, J., Xu, Z. and Chen, S.X. (2017) Cautionary Tales on Air-Quality Improvement in Beijing. Proceedings of the Royal Society A, Volume 473, No. 2205, Pages 20170457.](https://royalsocietypublishing.org/doi/pdf/10.1098/rspa.2017.0457) es calcular el promedio de PM2.5 en el año 2017.  \n",
    "- se puede estudiar el modelo de regresión propuesto en el paper\n",
    "- se puede usar MOGP para calcular dicho promedio, tomando la esperanza en el área de la ciudad completa y con un intervalo de confianza. "
   ]
  },
  {
   "cell_type": "code",
   "execution_count": 12,
   "metadata": {
    "ExecuteTime": {
     "end_time": "2020-04-14T03:36:00.546330Z",
     "start_time": "2020-04-14T03:36:00.536696Z"
    }
   },
   "outputs": [
    {
     "ename": "NameError",
     "evalue": "name 'baq_df' is not defined",
     "output_type": "error",
     "traceback": [
      "\u001b[0;31m---------------------------------------------------------------------------\u001b[0m",
      "\u001b[0;31mNameError\u001b[0m                                 Traceback (most recent call last)",
      "\u001b[0;32m<ipython-input-12-621c1c11c498>\u001b[0m in \u001b[0;36m<module>\u001b[0;34m\u001b[0m\n\u001b[0;32m----> 1\u001b[0;31m \u001b[0mestacion_max_nul\u001b[0m \u001b[0;34m=\u001b[0m \u001b[0mbaq_df\u001b[0m\u001b[0;34m.\u001b[0m\u001b[0misnull\u001b[0m\u001b[0;34m(\u001b[0m\u001b[0;34m)\u001b[0m\u001b[0;34m.\u001b[0m\u001b[0mgroupby\u001b[0m\u001b[0;34m(\u001b[0m\u001b[0maxis\u001b[0m\u001b[0;34m=\u001b[0m\u001b[0;36m1\u001b[0m\u001b[0;34m,\u001b[0m \u001b[0mlevel\u001b[0m\u001b[0;34m=\u001b[0m\u001b[0;36m0\u001b[0m\u001b[0;34m)\u001b[0m\u001b[0;34m.\u001b[0m\u001b[0msum\u001b[0m\u001b[0;34m(\u001b[0m\u001b[0;34m)\u001b[0m\u001b[0;34m.\u001b[0m\u001b[0msum\u001b[0m\u001b[0;34m(\u001b[0m\u001b[0;34m)\u001b[0m\u001b[0;34m.\u001b[0m\u001b[0midxmax\u001b[0m\u001b[0;34m(\u001b[0m\u001b[0;34m)\u001b[0m\u001b[0;34m\u001b[0m\u001b[0;34m\u001b[0m\u001b[0m\n\u001b[0m",
      "\u001b[0;31mNameError\u001b[0m: name 'baq_df' is not defined"
     ]
    }
   ],
   "source": [
    "estacion_max_nul = baq_df.isnull().groupby(axis=1, level=0).sum().sum().idxmax()"
   ]
  },
  {
   "cell_type": "code",
   "execution_count": null,
   "metadata": {
    "ExecuteTime": {
     "end_time": "2020-04-14T03:36:00.548205Z",
     "start_time": "2020-04-14T03:36:00.486Z"
    }
   },
   "outputs": [],
   "source": [
    "# df = baq_df.xs(estacion_max_nul, axis=1, level=0).copy()\n",
    "df = df_dict[estacion_max_nul]\n",
    "display(df)"
   ]
  },
  {
   "cell_type": "markdown",
   "metadata": {},
   "source": [
    "**Verificar que se tienen 4 años de datos**"
   ]
  },
  {
   "cell_type": "code",
   "execution_count": 13,
   "metadata": {
    "ExecuteTime": {
     "end_time": "2020-04-14T03:36:00.663827Z",
     "start_time": "2020-04-14T03:36:00.651528Z"
    }
   },
   "outputs": [
    {
     "name": "stdout",
     "output_type": "stream",
     "text": [
      "\n",
      "value counts para columna year\n"
     ]
    },
    {
     "ename": "NameError",
     "evalue": "name 'df' is not defined",
     "output_type": "error",
     "traceback": [
      "\u001b[0;31m---------------------------------------------------------------------------\u001b[0m",
      "\u001b[0;31mNameError\u001b[0m                                 Traceback (most recent call last)",
      "\u001b[0;32m<ipython-input-13-0b97451e1e39>\u001b[0m in \u001b[0;36m<module>\u001b[0;34m\u001b[0m\n\u001b[1;32m      2\u001b[0m \u001b[0;32mfor\u001b[0m \u001b[0mct\u001b[0m \u001b[0;32min\u001b[0m \u001b[0mcolumnas_temp\u001b[0m\u001b[0;34m:\u001b[0m\u001b[0;34m\u001b[0m\u001b[0;34m\u001b[0m\u001b[0m\n\u001b[1;32m      3\u001b[0m     \u001b[0mprint\u001b[0m\u001b[0;34m(\u001b[0m\u001b[0;34mf'\\nvalue counts para columna {ct}'\u001b[0m\u001b[0;34m)\u001b[0m\u001b[0;34m\u001b[0m\u001b[0;34m\u001b[0m\u001b[0m\n\u001b[0;32m----> 4\u001b[0;31m     \u001b[0mdisplay\u001b[0m\u001b[0;34m(\u001b[0m\u001b[0mdf\u001b[0m\u001b[0;34m[\u001b[0m\u001b[0mct\u001b[0m\u001b[0;34m]\u001b[0m\u001b[0;34m.\u001b[0m\u001b[0mvalue_counts\u001b[0m\u001b[0;34m(\u001b[0m\u001b[0msort\u001b[0m\u001b[0;34m=\u001b[0m\u001b[0;32mFalse\u001b[0m\u001b[0;34m)\u001b[0m\u001b[0;34m.\u001b[0m\u001b[0msort_index\u001b[0m\u001b[0;34m(\u001b[0m\u001b[0;34m)\u001b[0m\u001b[0;34m)\u001b[0m\u001b[0;34m\u001b[0m\u001b[0;34m\u001b[0m\u001b[0m\n\u001b[0m",
      "\u001b[0;31mNameError\u001b[0m: name 'df' is not defined"
     ]
    }
   ],
   "source": [
    "columnas_temp = ['year', 'month', 'day', 'hour']\n",
    "for ct in columnas_temp:\n",
    "    print(f'\\nvalue counts para columna {ct}')\n",
    "    display(df[ct].value_counts(sort=False).sort_index())"
   ]
  },
  {
   "cell_type": "markdown",
   "metadata": {},
   "source": [
    "**Visualizar la distribución de los valores nulos**"
   ]
  },
  {
   "cell_type": "code",
   "execution_count": null,
   "metadata": {
    "ExecuteTime": {
     "end_time": "2020-04-14T03:36:00.665952Z",
     "start_time": "2020-04-14T03:36:00.622Z"
    }
   },
   "outputs": [],
   "source": [
    "nulos_df = df.loc[:, df.isnull().any(0)]"
   ]
  },
  {
   "cell_type": "code",
   "execution_count": 14,
   "metadata": {
    "ExecuteTime": {
     "end_time": "2020-04-14T03:36:00.922811Z",
     "start_time": "2020-04-14T03:36:00.768814Z"
    }
   },
   "outputs": [
    {
     "ename": "NameError",
     "evalue": "name 'nulos_df' is not defined",
     "output_type": "error",
     "traceback": [
      "\u001b[0;31m---------------------------------------------------------------------------\u001b[0m",
      "\u001b[0;31mNameError\u001b[0m                                 Traceback (most recent call last)",
      "\u001b[0;32m<ipython-input-14-943066b6c883>\u001b[0m in \u001b[0;36m<module>\u001b[0;34m\u001b[0m\n\u001b[1;32m      1\u001b[0m \u001b[0mplt\u001b[0m\u001b[0;34m.\u001b[0m\u001b[0msubplots\u001b[0m\u001b[0;34m(\u001b[0m\u001b[0mfigsize\u001b[0m\u001b[0;34m=\u001b[0m\u001b[0;34m(\u001b[0m\u001b[0;36m8\u001b[0m\u001b[0;34m,\u001b[0m \u001b[0;36m8\u001b[0m\u001b[0;34m)\u001b[0m\u001b[0;34m)\u001b[0m\u001b[0;34m\u001b[0m\u001b[0;34m\u001b[0m\u001b[0m\n\u001b[0;32m----> 2\u001b[0;31m \u001b[0msns\u001b[0m\u001b[0;34m.\u001b[0m\u001b[0mheatmap\u001b[0m\u001b[0;34m(\u001b[0m\u001b[0;34m~\u001b[0m \u001b[0mnulos_df\u001b[0m\u001b[0;34m.\u001b[0m\u001b[0misnull\u001b[0m\u001b[0;34m(\u001b[0m\u001b[0;34m)\u001b[0m\u001b[0;34m,\u001b[0m \u001b[0mcbar\u001b[0m\u001b[0;34m=\u001b[0m\u001b[0;32mFalse\u001b[0m\u001b[0;34m)\u001b[0m\u001b[0;34m\u001b[0m\u001b[0;34m\u001b[0m\u001b[0m\n\u001b[0m\u001b[1;32m      3\u001b[0m \u001b[0mplt\u001b[0m\u001b[0;34m.\u001b[0m\u001b[0mtitle\u001b[0m\u001b[0;34m(\u001b[0m\u001b[0;34m'Matriz de presencia de nulos'\u001b[0m\u001b[0;34m)\u001b[0m\u001b[0;34m;\u001b[0m\u001b[0;34m\u001b[0m\u001b[0;34m\u001b[0m\u001b[0m\n",
      "\u001b[0;31mNameError\u001b[0m: name 'nulos_df' is not defined"
     ]
    },
    {
     "data": {
      "image/png": "[encoded data removed]",
      "text/plain": [
       "<Figure size 576x576 with 1 Axes>"
      ]
     },
     "metadata": {
      "needs_background": "light"
     },
     "output_type": "display_data"
    }
   ],
   "source": [
    "plt.subplots(figsize=(8, 8))\n",
    "sns.heatmap(~ nulos_df.isnull(), cbar=False)\n",
    "plt.title('Matriz de presencia de nulos');"
   ]
  },
  {
   "cell_type": "code",
   "execution_count": null,
   "metadata": {
    "ExecuteTime": {
     "end_time": "2020-04-14T03:36:00.924455Z",
     "start_time": "2020-04-14T03:36:00.730Z"
    }
   },
   "outputs": [],
   "source": [
    "# Calcular matriz de correlación de presencia de nulos\n",
    "nulos_corr = nulos_df.isnull().corr()\n",
    "\n",
    "def dibuja_matriz_de_correlación(corr_df):\n",
    "    '''Funcion personalizada para dibugjar la priz de correlación'''\n",
    "    sns.set(style=\"white\", font_scale=1.25)\n",
    "\n",
    "    # Generar una mascara para el triangulo superior\n",
    "    mascara = np.triu(np.ones_like(corr_df.values, dtype=np.bool))\n",
    "\n",
    "    # Iniciaizar fugura para configurar tamanño\n",
    "    f, ax = plt.subplots(figsize=(10, 8))\n",
    "\n",
    "    # Generar un colormap apropiado\n",
    "    cmap = sns.diverging_palette(220, 10, as_cmap=True)\n",
    "\n",
    "    # Dibujar matriz de correlación\n",
    "    sns.heatmap(corr_df.values, mask=mascara, cbar=True, cmap=cmap, vmin=-1, vmax=1,\n",
    "                annot=True, square=True, fmt='.2f', linewidths=.5, \n",
    "                cbar_kws={\"shrink\": .5}, yticklabels=corr_df.columns.values, \n",
    "                xticklabels=corr_df.columns.values)\n",
    "    \n",
    "\n",
    "dibuja_matriz_de_correlación(nulos_corr)\n",
    "plt.title('Correlación de la matriz de presencia de nulos')"
   ]
  },
  {
   "cell_type": "markdown",
   "metadata": {},
   "source": [
    "La matriz nos indica la cuan fuertemente la presencia o ausencia de una variable afecta la presencia de la otra.  \n",
    "- si dicha correlación es cercana a 1, la presencia de una variable *asegura* la presencia de la otra.\n",
    "- si es cercana a -1, la presencia de una variable *asegura* la ausencia de la otra\n",
    "- si es cercana a 0, la presencia de una variable no tiene relación con la presencia de la otra.\n",
    "\n",
    "Así da la impresión que los censores fuertemente relacionados en cuanto a presencia de valores faltantes son:\n",
    "1. Sensores de tempreatura, presión, temperatura de rocío y velocidad del viento.\n",
    "2. Los sensores de PM10 y PM2.5\n",
    "3. Los sensores de CO y NO2\n",
    "\n",
    "En cuanto a correlaciones de presencia de valores faltantes de mediana intensidad:\n",
    "\n",
    "1. Los sensores de contaminantes entre ellos con excepción de los pares mencionados arriba.\n",
    "2. El sensor de dirección de viento con el sensor de velocidad del viento.\n",
    "\n",
    "Además podemos inferir gracias al rectángulo gris que la presencia de valores faltantes en los censores de los contaminantes (PM2, PM10, SO2, NO2, CO y O3) no tiene relación con la presencia de valores faltantes en los de condiciones atmosféricas (el resto de variables). \n",
    "\n",
    "Nos podríamos preguntar si esa última observación también se observa en la matriz de correlación de los valores observados en dichas variables"
   ]
  },
  {
   "cell_type": "code",
   "execution_count": null,
   "metadata": {
    "ExecuteTime": {
     "end_time": "2020-04-14T03:36:00.925316Z",
     "start_time": "2020-04-14T03:36:00.811Z"
    }
   },
   "outputs": [],
   "source": [
    "# Calcular matriz de correlacion\n",
    "corr = nulos_df.corr()\n",
    "\n",
    "# dibuja matriz de correlación\n",
    "dibuja_matriz_de_correlación(corr)\n",
    "plt.title('Matriz de correlacion')"
   ]
  },
  {
   "cell_type": "markdown",
   "metadata": {},
   "source": [
    "Ahora podemos observar que existe una correlación importante entre la mayoría de los contaminantes, excepto el ozono (O3), que por suparte presenta una correlación importante con la temperatura.\n",
    "- Propongo hacer un MOGP con los contaminantes y la temperatura"
   ]
  },
  {
   "cell_type": "markdown",
   "metadata": {},
   "source": [
    "# NO INCLUIR\n",
    "**Estudio de nulos valores de temperatura**"
   ]
  },
  {
   "cell_type": "code",
   "execution_count": null,
   "metadata": {
    "ExecuteTime": {
     "end_time": "2020-04-14T03:36:00.926182Z",
     "start_time": "2020-04-14T03:36:00.891Z"
    }
   },
   "outputs": [],
   "source": [
    "temp_df = pd.concat(df_dict, axis=1).xs('TEMP', axis=1, level=1)\n",
    "plt.subplots(figsize=(8, 8))\n",
    "sns.heatmap(temp_df.isnull(), cbar=False, linewidth=0)\n",
    "plt.title('Matriz de presencia de nulos: columnas `TEMP`');"
   ]
  },
  {
   "cell_type": "code",
   "execution_count": 15,
   "metadata": {
    "ExecuteTime": {
     "end_time": "2020-04-14T03:36:01.038265Z",
     "start_time": "2020-04-14T03:36:01.028258Z"
    }
   },
   "outputs": [
    {
     "ename": "NameError",
     "evalue": "name 'temp_df' is not defined",
     "output_type": "error",
     "traceback": [
      "\u001b[0;31m---------------------------------------------------------------------------\u001b[0m",
      "\u001b[0;31mNameError\u001b[0m                                 Traceback (most recent call last)",
      "\u001b[0;32m<ipython-input-15-702bf7e8aac3>\u001b[0m in \u001b[0;36m<module>\u001b[0;34m\u001b[0m\n\u001b[0;32m----> 1\u001b[0;31m \u001b[0mplot_srs\u001b[0m \u001b[0;34m=\u001b[0m \u001b[0mtemp_df\u001b[0m\u001b[0;34m.\u001b[0m\u001b[0misnull\u001b[0m\u001b[0;34m(\u001b[0m\u001b[0;34m)\u001b[0m\u001b[0;34m.\u001b[0m\u001b[0msum\u001b[0m\u001b[0;34m(\u001b[0m\u001b[0;34m)\u001b[0m\u001b[0;34m\u001b[0m\u001b[0;34m\u001b[0m\u001b[0m\n\u001b[0m\u001b[1;32m      2\u001b[0m \u001b[0mplot_srs\u001b[0m\u001b[0;34m.\u001b[0m\u001b[0mplot\u001b[0m\u001b[0;34m(\u001b[0m\u001b[0mkind\u001b[0m\u001b[0;34m=\u001b[0m\u001b[0;34m'bar'\u001b[0m\u001b[0;34m,\u001b[0m \u001b[0mcolor\u001b[0m\u001b[0;34m=\u001b[0m\u001b[0;34m'grey'\u001b[0m\u001b[0;34m)\u001b[0m\u001b[0;34m\u001b[0m\u001b[0;34m\u001b[0m\u001b[0m\n\u001b[1;32m      3\u001b[0m \u001b[0;32mfor\u001b[0m \u001b[0mi\u001b[0m\u001b[0;34m,\u001b[0m \u001b[0mpatch\u001b[0m \u001b[0;32min\u001b[0m \u001b[0menumerate\u001b[0m\u001b[0;34m(\u001b[0m\u001b[0mplt\u001b[0m\u001b[0;34m.\u001b[0m\u001b[0mgca\u001b[0m\u001b[0;34m(\u001b[0m\u001b[0;34m)\u001b[0m\u001b[0;34m.\u001b[0m\u001b[0mpatches\u001b[0m\u001b[0;34m)\u001b[0m\u001b[0;34m:\u001b[0m\u001b[0;34m\u001b[0m\u001b[0;34m\u001b[0m\u001b[0m\n\u001b[1;32m      4\u001b[0m \u001b[0;34m\u001b[0m\u001b[0m\n\u001b[1;32m      5\u001b[0m     \u001b[0;31m# obtener coordenadas y medidas\u001b[0m\u001b[0;34m\u001b[0m\u001b[0;34m\u001b[0m\u001b[0;34m\u001b[0m\u001b[0m\n",
      "\u001b[0;31mNameError\u001b[0m: name 'temp_df' is not defined"
     ]
    }
   ],
   "source": [
    "plot_srs = temp_df.isnull().sum()\n",
    "plot_srs.plot(kind='bar', color='grey')\n",
    "for i, patch in enumerate(plt.gca().patches):\n",
    "    \n",
    "    # obtener coordenadas y medidas\n",
    "    x = patch.get_x()\n",
    "    h = patch.get_height()\n",
    "    w = patch.get_width()\n",
    "    \n",
    "    # adjuntar texto con valores de cada barra\n",
    "    plt.annotate(f'{plot_srs.iloc[i]}', xy=(x + w / 2, h), ha='center', va='bottom')\n",
    "    \n",
    "plt.ylim([1.1 * y_ for y_ in plt.gca().get_ylim()])"
   ]
  },
  {
   "cell_type": "code",
   "execution_count": null,
   "metadata": {
    "ExecuteTime": {
     "end_time": "2020-04-14T03:36:01.040210Z",
     "start_time": "2020-04-14T03:36:00.995Z"
    }
   },
   "outputs": [],
   "source": [
    "dibuja_matriz_de_correlación(temp_df.isnull().corr())\n",
    "plt.title('Correlación de la matriz de presencia de nulos en TEMPERATURA')"
   ]
  },
  {
   "cell_type": "markdown",
   "metadata": {
    "lang": "es"
   },
   "source": [
    "# Expresiones regulares\n",
    "Limpieza de texto con expresiones regulares.\n",
    "\n",
    "## Datos de Twitter\n",
    "La [Competencia Kaggle: Twitter Sentiment Extraction](https://www.kaggle.com/c/tweet-sentiment-extraction) está actualmente en linea (el premio es 15 mil dólares!) y se trata de encontrar es substring del tweet que contiene el sentimiento del tweet completo.\n",
    "\n",
    "El objetivo de este pequeño ejercicio es simplemente dar una introducción a las **expresiones regulares**, ya que son muy útiles como herramienta para la limpieza de texto.\n",
    "\n",
    "**Importar librerias**  \n",
    "La librería para el uso de expresiones regulares en Python es `re`."
   ]
  },
  {
   "cell_type": "code",
   "execution_count": 16,
   "metadata": {
    "ExecuteTime": {
     "end_time": "2020-04-14T03:36:01.143851Z",
     "start_time": "2020-04-14T03:36:01.141850Z"
    }
   },
   "outputs": [],
   "source": [
    "# import re\n",
    "import string "
   ]
  },
  {
   "cell_type": "markdown",
   "metadata": {},
   "source": [
    "**Cargar datos**  \n",
    "El conjunto de datos de entrenamiento tiene 4 columnas:\n",
    "- textID: indetificar del tweet\n",
    "- text: contenido del tweet\n",
    "- selected_text: extracto del tweet que expresa el sentimiento\n",
    "- sentiment: sentimiento del tweet. Puede ser `'negative'`,`'neutral'`,`'positive'`\n",
    "\n",
    "Naturalmente, las columnas que nos interesan limpiar son `'text'`y `'selected_text`. "
   ]
  },
  {
   "cell_type": "code",
   "execution_count": 17,
   "metadata": {
    "ExecuteTime": {
     "end_time": "2020-04-14T03:36:01.287992Z",
     "start_time": "2020-04-14T03:36:01.145185Z"
    }
   },
   "outputs": [],
   "source": [
    "ruta_tse_entrenamiento = 'data_kaggle/twitter/train.csv'\n",
    "tse_df = pd.read_csv(ruta_tse_entrenamiento)"
   ]
  },
  {
   "cell_type": "code",
   "execution_count": 18,
   "metadata": {
    "ExecuteTime": {
     "end_time": "2020-04-14T03:36:01.306327Z",
     "start_time": "2020-04-14T03:36:01.289613Z"
    }
   },
   "outputs": [
    {
     "data": {
      "text/html": [
       "<div>\n",
       "<style scoped>\n",
       "    .dataframe tbody tr th:only-of-type {\n",
       "        vertical-align: middle;\n",
       "    }\n",
       "\n",
       "    .dataframe tbody tr th {\n",
       "        vertical-align: top;\n",
       "    }\n",
       "\n",
       "    .dataframe thead th {\n",
       "        text-align: right;\n",
       "    }\n",
       "</style>\n",
       "<table border=\"1\" class=\"dataframe\">\n",
       "  <thead>\n",
       "    <tr style=\"text-align: right;\">\n",
       "      <th></th>\n",
       "      <th>textID</th>\n",
       "      <th>text</th>\n",
       "      <th>selected_text</th>\n",
       "      <th>sentiment</th>\n",
       "    </tr>\n",
       "  </thead>\n",
       "  <tbody>\n",
       "    <tr>\n",
       "      <th>0</th>\n",
       "      <td>a3d0a7d5ad</td>\n",
       "      <td>Spent the entire morning in a meeting w/ a ven...</td>\n",
       "      <td>my boss was not happy w/ them. Lots of fun.</td>\n",
       "      <td>neutral</td>\n",
       "    </tr>\n",
       "    <tr>\n",
       "      <th>1</th>\n",
       "      <td>251b6a6766</td>\n",
       "      <td>Oh! Good idea about putting them on ice cream</td>\n",
       "      <td>Good</td>\n",
       "      <td>positive</td>\n",
       "    </tr>\n",
       "    <tr>\n",
       "      <th>2</th>\n",
       "      <td>c9e8d1ef1c</td>\n",
       "      <td>says good (or should i say bad?) afternoon!  h...</td>\n",
       "      <td>says good (or should i say bad?) afternoon!</td>\n",
       "      <td>neutral</td>\n",
       "    </tr>\n",
       "    <tr>\n",
       "      <th>3</th>\n",
       "      <td>f14f087215</td>\n",
       "      <td>i dont think you can vote anymore! i tried</td>\n",
       "      <td>i dont think you can vote anymore!</td>\n",
       "      <td>negative</td>\n",
       "    </tr>\n",
       "    <tr>\n",
       "      <th>4</th>\n",
       "      <td>bf7473b12d</td>\n",
       "      <td>haha better drunken tweeting you mean?</td>\n",
       "      <td>better</td>\n",
       "      <td>positive</td>\n",
       "    </tr>\n",
       "    <tr>\n",
       "      <th>...</th>\n",
       "      <td>...</td>\n",
       "      <td>...</td>\n",
       "      <td>...</td>\n",
       "      <td>...</td>\n",
       "    </tr>\n",
       "    <tr>\n",
       "      <th>27481</th>\n",
       "      <td>3dbae74fcd</td>\n",
       "      <td>I want to go to VP, but no one is willing to c...</td>\n",
       "      <td>I want to go to VP, but no one is willing to c...</td>\n",
       "      <td>neutral</td>\n",
       "    </tr>\n",
       "    <tr>\n",
       "      <th>27482</th>\n",
       "      <td>63147b35cb</td>\n",
       "      <td>Wah, why are you sad?</td>\n",
       "      <td>Wah, why are you sad?</td>\n",
       "      <td>neutral</td>\n",
       "    </tr>\n",
       "    <tr>\n",
       "      <th>27483</th>\n",
       "      <td>bdb196a09f</td>\n",
       "      <td>playing sudoku while mommy makes me breakfast ...</td>\n",
       "      <td>playing sudoku while mommy makes me breakfast ...</td>\n",
       "      <td>neutral</td>\n",
       "    </tr>\n",
       "    <tr>\n",
       "      <th>27484</th>\n",
       "      <td>18c2a1e98e</td>\n",
       "      <td>see u bye see u!  i love the hot30</td>\n",
       "      <td>i love</td>\n",
       "      <td>positive</td>\n",
       "    </tr>\n",
       "    <tr>\n",
       "      <th>27485</th>\n",
       "      <td>1c1f3724db</td>\n",
       "      <td>ha ha, and what game is that? i like games</td>\n",
       "      <td>? i like</td>\n",
       "      <td>positive</td>\n",
       "    </tr>\n",
       "  </tbody>\n",
       "</table>\n",
       "<p>27486 rows × 4 columns</p>\n",
       "</div>"
      ],
      "text/plain": [
       "           textID                                               text  \\\n",
       "0      a3d0a7d5ad  Spent the entire morning in a meeting w/ a ven...   \n",
       "1      251b6a6766      Oh! Good idea about putting them on ice cream   \n",
       "2      c9e8d1ef1c  says good (or should i say bad?) afternoon!  h...   \n",
       "3      f14f087215         i dont think you can vote anymore! i tried   \n",
       "4      bf7473b12d             haha better drunken tweeting you mean?   \n",
       "...           ...                                                ...   \n",
       "27481  3dbae74fcd  I want to go to VP, but no one is willing to c...   \n",
       "27482  63147b35cb                              Wah, why are you sad?   \n",
       "27483  bdb196a09f  playing sudoku while mommy makes me breakfast ...   \n",
       "27484  18c2a1e98e                 see u bye see u!  i love the hot30   \n",
       "27485  1c1f3724db         ha ha, and what game is that? i like games   \n",
       "\n",
       "                                           selected_text sentiment  \n",
       "0            my boss was not happy w/ them. Lots of fun.   neutral  \n",
       "1                                                   Good  positive  \n",
       "2            says good (or should i say bad?) afternoon!   neutral  \n",
       "3                     i dont think you can vote anymore!  negative  \n",
       "4                                                 better  positive  \n",
       "...                                                  ...       ...  \n",
       "27481  I want to go to VP, but no one is willing to c...   neutral  \n",
       "27482                              Wah, why are you sad?   neutral  \n",
       "27483  playing sudoku while mommy makes me breakfast ...   neutral  \n",
       "27484                                             i love  positive  \n",
       "27485                                           ? i like  positive  \n",
       "\n",
       "[27486 rows x 4 columns]"
      ]
     },
     "execution_count": 18,
     "metadata": {},
     "output_type": "execute_result"
    }
   ],
   "source": [
    "tse_df"
   ]
  },
  {
   "cell_type": "code",
   "execution_count": 19,
   "metadata": {
    "ExecuteTime": {
     "end_time": "2020-04-14T03:36:01.384128Z",
     "start_time": "2020-04-14T03:36:01.308153Z"
    }
   },
   "outputs": [],
   "source": [
    "srs = tse_df['text']"
   ]
  },
  {
   "cell_type": "markdown",
   "metadata": {},
   "source": [
    "- convertir el texto en minúsculas"
   ]
  },
  {
   "cell_type": "code",
   "execution_count": 20,
   "metadata": {
    "ExecuteTime": {
     "end_time": "2020-04-14T03:36:01.472447Z",
     "start_time": "2020-04-14T03:36:01.385809Z"
    }
   },
   "outputs": [
    {
     "data": {
      "text/plain": [
       "0        spent the entire morning in a meeting w/ a ven...\n",
       "1            oh! good idea about putting them on ice cream\n",
       "2        says good (or should i say bad?) afternoon!  h...\n",
       "3               i dont think you can vote anymore! i tried\n",
       "4                   haha better drunken tweeting you mean?\n",
       "                               ...                        \n",
       "27481    i want to go to vp, but no one is willing to c...\n",
       "27482                                wah, why are you sad?\n",
       "27483    playing sudoku while mommy makes me breakfast ...\n",
       "27484                   see u bye see u!  i love the hot30\n",
       "27485           ha ha, and what game is that? i like games\n",
       "Name: text, Length: 27486, dtype: object"
      ]
     },
     "execution_count": 20,
     "metadata": {},
     "output_type": "execute_result"
    }
   ],
   "source": [
    "srs = srs.str.lower()\n",
    "srs"
   ]
  },
  {
   "cell_type": "code",
   "execution_count": 21,
   "metadata": {
    "ExecuteTime": {
     "end_time": "2020-04-14T03:36:01.542496Z",
     "start_time": "2020-04-14T03:36:01.473731Z"
    }
   },
   "outputs": [],
   "source": [
    "def eliminar_con_regex(srs, regex, verbose=True):\n",
    "    '''Funcion personalizada para eliminar texto de la serie `srs` \n",
    "    mediante la expresión regular `regex`.\n",
    "    '''\n",
    "    \n",
    "    if verbose:\n",
    "        \n",
    "        # encunetra filas que coinciden con la expresión regular\n",
    "        bools_ = srs.str.contains(regex, na=False)\n",
    "        \n",
    "        # reporta las filas que tienen coincidencia \n",
    "        print('antes de eliminar:')\n",
    "        display(srs[bools_])\n",
    "    \n",
    "    # elimina el substring\n",
    "    ret = srs.str.replace(regex, '')\n",
    "    \n",
    "    if verbose:\n",
    "        \n",
    "        # reporta las filas que tienen coincidencia \n",
    "        print('\\n\\ndespues de eliminar:')\n",
    "        display(ret[bools_])\n",
    "        \n",
    "    return ret"
   ]
  },
  {
   "cell_type": "markdown",
   "metadata": {},
   "source": [
    "- quitar texto entre paréntesis cuadrados, pues estos son usados para denotar un lugar geolocalizado. Para esto usamos la expresión regular `'\\[.*?\\]'`. Esta está compuesta por:\n",
    "    - `'\\['` y `\\]` que denotan simplemente los caracteres `'['` y `']'`. Esto debido a que para las expresiones regulares, todos los carácteres hacen coincidencia con si mismos salvo `'+'`, `'?'`, `'.'`, `'*'`, `'^'`, `'$'`, `'('`, `')'`, `'['`, `']'`, `'{'`, `'}'`, `'|'` y `'\\'` que son caracteres especiales.\n",
    "    - `'.'` que denota cualquier carácter, excepto la nueva línea.\n",
    "    - `'*'` es un cuantificador de 0 o más ocurrencias de la expresión precedente. Cunado un cuantificador es sucedido por un `'?'` se transforma en un cuantificado flojo, lo que implica que a penas la expresión regular completa haga coincidencia, no seguirá buscando otra que la contenga. Por ejemplo en el string `'10100000100'` la expresión regular `'1.*?1'` entregara el substring `'101'` como coincidencia. Por su parte, con la expresión regular `'1.*1'` entregará `'101000001'`  \n",
    "    \n",
    "  Por lo tanto, la expresión denota cualquier texto entre paréntesis cuadrados que no contenga un salto de línea.\n",
    "  "
   ]
  },
  {
   "cell_type": "code",
   "execution_count": 22,
   "metadata": {
    "ExecuteTime": {
     "end_time": "2020-04-14T03:36:01.684515Z",
     "start_time": "2020-04-14T03:36:01.544354Z"
    }
   },
   "outputs": [
    {
     "name": "stdout",
     "output_type": "stream",
     "text": [
      "antes de eliminar:\n"
     ]
    },
    {
     "data": {
      "text/plain": [
       "1798      rt/westcoastgal88 - it's the facial hair, the...\n",
       "1971      i's sorry  listen to some bats or gd as you d...\n",
       "2063                               im bored   -musiic[box]\n",
       "2077     [stapler haiku] whar a night! woo hoo! yeah! /...\n",
       "2221     [bbc] malaria parasites becoming resistant to ...\n",
       "4264     [ i'm not sure what you mean by &quot;blowin t...\n",
       "4563      hey!  who are you closest to among all the di...\n",
       "4781     [wrong!] #liesboystell your the only one, i lo...\n",
       "5245     [somewhere - within temptation] returned to my...\n",
       "5789     [-o] i wish the birthday massacre would come t...\n",
       "7930     [wrong!]  thanx  your the awesome! http://tiny...\n",
       "8829     night night twitter world. [still cant believe...\n",
       "10663    [dashboard - modest mouse] first modest mouse ...\n",
       "10832    yesterday was fun.. 1st concert of the year [i...\n",
       "10934     &quot;phlegmily green house...&quot; that was...\n",
       "11203    [aeroplanes - we know, plato!] one of my favor...\n",
       "11268    new blog post: [blog] auto insuran...: i just ...\n",
       "11324                       its castiel!!!!  [ the angle ]\n",
       "12549    ? american pie forever. i'm watching it right ...\n",
       "12747     lol. sorry bout today  ..did u get them?? &am...\n",
       "12778    i have nothing to do except right a eassy due ...\n",
       "15557    not excited of blowing out another candle toda...\n",
       "15663      i am not a ****! damnit!  [sending you an e-...\n",
       "17263     last reply  a scholar in us homeland security...\n",
       "17368    says 2 1/2 hours to go, uwian na. . .  [phplur...\n",
       "18425    left the inn  now im at school. dang its strai...\n",
       "18489    http://twitpic.com/67jzp mcfly concerts throug...\n",
       "20759                            *[ it's time for tscc!  ]\n",
       "20896    i just looove my bf  u are awesoome!!!! [hanna...\n",
       "22545    my degree  [tear] happy moment!  http://mypict...\n",
       "23168    i do indeed have tonsillitis. the only good th...\n",
       "24210    [h]ouse starts on sunday and i'm sad as i can'...\n",
       "25727    awww the boys have no beards?    i liked their...\n",
       "26271    cant stop playin' in my head  -- pussycat doll...\n",
       "Name: text, dtype: object"
      ]
     },
     "metadata": {},
     "output_type": "display_data"
    },
    {
     "name": "stdout",
     "output_type": "stream",
     "text": [
      "\n",
      "\n",
      "despues de eliminar:\n"
     ]
    },
    {
     "data": {
      "text/plain": [
       "1798      rt/westcoastgal88 - it's the facial hair, the...\n",
       "1971      i's sorry  listen to some bats or gd as you d...\n",
       "2063                                    im bored   -musiic\n",
       "2077      whar a night! woo hoo! yeah! / a beautiful ni...\n",
       "2221      malaria parasites becoming resistant to drugs...\n",
       "4264      rb lol lol good one......  ? http://blip.fm/~...\n",
       "4563      hey!  who are you closest to among all the di...\n",
       "4781      #liesboystell your the only one, i love (they...\n",
       "5245       returned to mysefl. keep working hard till june\n",
       "5789      i wish the birthday massacre would come to au...\n",
       "7930       thanx  your the awesome! http://tinyurl.com/...\n",
       "8829                           night night twitter world. \n",
       "10663     first modest mouse blip! oyay, not bad.  ? ht...\n",
       "10832    yesterday was fun.. 1st concert of the year .....\n",
       "10934     &quot;phlegmily green house...&quot; that was...\n",
       "11203     one of my favorite wkp songs!  ? http://blip....\n",
       "11268    new blog post:  auto insuran...: i just found ...\n",
       "11324                                    its castiel!!!!  \n",
       "12549    ? american pie forever. i'm watching it right ...\n",
       "12747     lol. sorry bout today  ..did u get them?? &am...\n",
       "12778    i have nothing to do except right a eassy due ...\n",
       "15557    not excited of blowing out another candle toda...\n",
       "15663                           i am not a ****! damnit!  \n",
       "17263     last reply  a scholar in us homeland security...\n",
       "17368    says 2 1/2 hours to go, uwian na. . .   http:/...\n",
       "18425    left the inn  now im at school. dang its strai...\n",
       "18489    http://twitpic.com/67jzp mcfly concerts throug...\n",
       "20759                                                    *\n",
       "20896    i just looove my bf  u are awesoome!!!!   // c...\n",
       "22545     my degree   happy moment!  http://mypict.me/1zpf\n",
       "23168    i do indeed have tonsillitis. the only good th...\n",
       "24210    ouse starts on sunday and i'm sad as i can't a...\n",
       "25727    awww the boys have no beards?    i liked their...\n",
       "26271    cant stop playin' in my head  -- pussycat doll...\n",
       "Name: text, dtype: object"
      ]
     },
     "metadata": {},
     "output_type": "display_data"
    }
   ],
   "source": [
    "srs = eliminar_con_regex(srs, '\\[.*?\\]');"
   ]
  },
  {
   "cell_type": "markdown",
   "metadata": {},
   "source": [
    "- Eliminar los links: Para ello se usa la expresión regular `'https?://\\S+|www\\.\\S+'` que está compuesta por:\n",
    "    - `'?'` es un cuantificador que acepta 0 o 1 ocurrencia de la expresión regular que la antecede. En este caso 0 o 1 ocurrencias de `'s'`.\n",
    "    - `'\\S'` coincide con todo caracter que no sea espacio (i.e. `'\\t'`, `'\\r'`, `'\\n'` o `'\\f'`)\n",
    "    - `'+'` es un cuantificador que acepta 1 o más ocurrencias de la expresión regular que la antecede (patricularmente `'\\S'`)\n",
    "    - `'|'` denota un **o**, es decir `'https?://\\S+'` **o** `'www\\.\\S+'`\n",
    "    - `'\\.'` denota `'.'`, pues este es un carácter especial. Podemos inferir que `'\\'` se usa como carácter de escape."
   ]
  },
  {
   "cell_type": "code",
   "execution_count": 23,
   "metadata": {
    "ExecuteTime": {
     "end_time": "2020-04-14T03:36:01.801210Z",
     "start_time": "2020-04-14T03:36:01.686573Z"
    }
   },
   "outputs": [
    {
     "name": "stdout",
     "output_type": "stream",
     "text": [
      "antes de eliminar:\n"
     ]
    },
    {
     "data": {
      "text/plain": [
       "2        says good (or should i say bad?) afternoon!  h...\n",
       "56       is missing someone.. haayy..  http://plurk.com...\n",
       "95        http://twitpic.com/66r0u - uh wait...i though...\n",
       "120      photo: novusnovendo: eyecandy + live = like a ...\n",
       "148      epsilon greater than zero misses her mommy.  h...\n",
       "                               ...                        \n",
       "27412     http://twitpic.com/4jbba - ohhh someone likes...\n",
       "27425    says from now it will be impossible to plurk f...\n",
       "27427    shares i miss my niece and nephew. http://tiny...\n",
       "27440    http://twitpic.com/66uor - went on a really lo...\n",
       "27469    save me--i feel like i'm going crazy.  ? http:...\n",
       "Name: text, Length: 1283, dtype: object"
      ]
     },
     "metadata": {},
     "output_type": "display_data"
    },
    {
     "name": "stdout",
     "output_type": "stream",
     "text": [
      "\n",
      "\n",
      "despues de eliminar:\n"
     ]
    },
    {
     "data": {
      "text/plain": [
       "2            says good (or should i say bad?) afternoon!  \n",
       "56                          is missing someone.. haayy..  \n",
       "95         - uh wait...i thought this was the 29th...to...\n",
       "120      photo: novusnovendo: eyecandy + live = like a ...\n",
       "148          epsilon greater than zero misses her mommy.  \n",
       "                               ...                        \n",
       "27412      - ohhh someone likes to play with their food...\n",
       "27425    says from now it will be impossible to plurk f...\n",
       "27427                 shares i miss my niece and nephew.  \n",
       "27440     - went on a really long cycle ride with my mu...\n",
       "27469            save me--i feel like i'm going crazy.  ? \n",
       "Name: text, Length: 1283, dtype: object"
      ]
     },
     "metadata": {},
     "output_type": "display_data"
    }
   ],
   "source": [
    "srs = eliminar_con_regex(srs, 'https?://\\S+|www\\.\\S+');"
   ]
  },
  {
   "cell_type": "markdown",
   "metadata": {},
   "source": [
    "- Eliminar todos los caracteres de puntuación. Para ellos usamos el atributo `punctuation` de la libreria `string`. Además se usan los carácteres especiales `'['` y `']'` que permiten especificar todos los posibles valores que puede tomar un carácter para coincidir con la expresión regular, así `'[python]'` es una expresión regular que coincide con los caracteres `'h'`,  `'n'`, `'o'`, `'p'`, `'t'` o `'y'`.  Notamos también que no es necesario usar el carácter de escape excepto para `'['` y `']'` para los demás caracteres especiales."
   ]
  },
  {
   "cell_type": "code",
   "execution_count": 24,
   "metadata": {
    "ExecuteTime": {
     "end_time": "2020-04-14T03:36:01.805500Z",
     "start_time": "2020-04-14T03:36:01.802512Z"
    }
   },
   "outputs": [
    {
     "data": {
      "text/plain": [
       "'!\"#$%&\\'()*+,-./:;<=>?@[\\\\]^_`{|}~'"
      ]
     },
     "execution_count": 24,
     "metadata": {},
     "output_type": "execute_result"
    }
   ],
   "source": [
    "from string import punctuation\n",
    "punctuation"
   ]
  },
  {
   "cell_type": "code",
   "execution_count": 25,
   "metadata": {
    "ExecuteTime": {
     "end_time": "2020-04-14T03:36:01.963165Z",
     "start_time": "2020-04-14T03:36:01.806935Z"
    }
   },
   "outputs": [
    {
     "name": "stdout",
     "output_type": "stream",
     "text": [
      "antes de eliminar:\n"
     ]
    },
    {
     "data": {
      "text/plain": [
       "0        spent the entire morning in a meeting w/ a ven...\n",
       "1            oh! good idea about putting them on ice cream\n",
       "2            says good (or should i say bad?) afternoon!  \n",
       "3               i dont think you can vote anymore! i tried\n",
       "4                   haha better drunken tweeting you mean?\n",
       "                               ...                        \n",
       "27481    i want to go to vp, but no one is willing to c...\n",
       "27482                                wah, why are you sad?\n",
       "27483    playing sudoku while mommy makes me breakfast ...\n",
       "27484                   see u bye see u!  i love the hot30\n",
       "27485           ha ha, and what game is that? i like games\n",
       "Name: text, Length: 23445, dtype: object"
      ]
     },
     "metadata": {},
     "output_type": "display_data"
    },
    {
     "name": "stdout",
     "output_type": "stream",
     "text": [
      "\n",
      "\n",
      "despues de eliminar:\n"
     ]
    },
    {
     "data": {
      "text/plain": [
       "0        spent the entire morning in a meeting w a vend...\n",
       "1             oh good idea about putting them on ice cream\n",
       "2                says good or should i say bad afternoon  \n",
       "3                i dont think you can vote anymore i tried\n",
       "4                    haha better drunken tweeting you mean\n",
       "                               ...                        \n",
       "27481    i want to go to vp but no one is willing to co...\n",
       "27482                                  wah why are you sad\n",
       "27483    playing sudoku while mommy makes me breakfast ...\n",
       "27484                    see u bye see u  i love the hot30\n",
       "27485             ha ha and what game is that i like games\n",
       "Name: text, Length: 23445, dtype: object"
      ]
     },
     "metadata": {},
     "output_type": "display_data"
    }
   ],
   "source": [
    "srs = eliminar_con_regex(srs, f'[{punctuation}]');"
   ]
  },
  {
   "cell_type": "markdown",
   "metadata": {},
   "source": [
    "- Eliminar las palabras que contienen dígitos. Para ello usamos la expresión `'\\w*\\d\\w*'`. Esta está compuesta por:\n",
    "    - `'\\w'` coincide con todos los caracteres que pueden componer palabras (alfanumericos y guíon bajo).\n",
    "    - `'\\d'` coincide con dígitos (equivalente a `'[0-9]'`) "
   ]
  },
  {
   "cell_type": "code",
   "execution_count": 26,
   "metadata": {
    "ExecuteTime": {
     "end_time": "2020-04-14T03:36:02.397153Z",
     "start_time": "2020-04-14T03:36:01.964800Z"
    }
   },
   "outputs": [
    {
     "name": "stdout",
     "output_type": "stream",
     "text": [
      "antes de eliminar:\n"
     ]
    },
    {
     "data": {
      "text/plain": [
       "7         fine going to do my big walk today 20 or so m...\n",
       "11       2008 well having to revise them  was to do som...\n",
       "23       1246am happy birthday little sister of mine al...\n",
       "26       is sooo tired and too busy to tweet  im glad t...\n",
       "30        not sure there are fanciful expensive ones  b...\n",
       "                               ...                        \n",
       "27464     if you see it at nova on a monday tickets are...\n",
       "27466     really enjoyed the podcast with  this was my ...\n",
       "27474    the white dice are coming into the studio this...\n",
       "27478    omg i just woke up after only sleeping for 3hr...\n",
       "27484                    see u bye see u  i love the hot30\n",
       "Name: text, Length: 3917, dtype: object"
      ]
     },
     "metadata": {},
     "output_type": "display_data"
    },
    {
     "name": "stdout",
     "output_type": "stream",
     "text": [
      "\n",
      "\n",
      "despues de eliminar:\n"
     ]
    },
    {
     "data": {
      "text/plain": [
       "7          fine going to do my big walk today  or so miles\n",
       "11        well having to revise them  was to do some mo...\n",
       "23        happy birthday little sister of mine also goo...\n",
       "26       is sooo tired and too busy to tweet  im glad t...\n",
       "30        not sure there are fanciful expensive ones  b...\n",
       "                               ...                        \n",
       "27464     if you see it at nova on a monday tickets are...\n",
       "27466     really enjoyed the podcast with  this was my ...\n",
       "27474    the white dice are coming into the studio this...\n",
       "27478    omg i just woke up after only sleeping for  an...\n",
       "27484                         see u bye see u  i love the \n",
       "Name: text, Length: 3917, dtype: object"
      ]
     },
     "metadata": {},
     "output_type": "display_data"
    }
   ],
   "source": [
    "srs = eliminar_con_regex(srs, '\\w*\\d\\w*');"
   ]
  },
  {
   "cell_type": "code",
   "execution_count": 27,
   "metadata": {
    "ExecuteTime": {
     "end_time": "2020-04-14T03:36:02.403375Z",
     "start_time": "2020-04-14T03:36:02.398675Z"
    }
   },
   "outputs": [],
   "source": [
    "tse_df.loc[:, 'text'] = srs"
   ]
  },
  {
   "cell_type": "markdown",
   "metadata": {},
   "source": [
    "\n",
    "# Outliers\n",
    "\n"
   ]
  },
  {
   "cell_type": "markdown",
   "metadata": {
    "lang": "es"
   },
   "source": [
    "## IQR\n",
    "**Construyendo el puntaje IQR**\n",
    "\n",
    "El puntaje IQR es un método común para eliminar valores atípicos (u *outliers*). El siguiente diagrama ilustra cómo se comporta el puntaje IQR en una población distribuida normalmente\n",
    "\n",
    "<img src=\"https://upload.wikimedia.org/wikipedia/commons/thumb/1/1a/Boxplot_vs_PDF.svg/800px-Boxplot_vs_PDF.svg.png\" alt=\"Stages 1\" style=\"width: 450px;\" align=\"center\" frameborder=\"200\"/>\n",
    "\n",
    "<bk>  \n",
    "    \n",
    "    \n",
    "<center><b>Fuente:</b> \n",
    "     <a href=\"https://en.wikipedia.org/wiki/Interquartile_range\">Wikipedia Interquartile range webpage</a> \n",
    "</center>\n",
    "\n",
    "Esta método de detección de valores atípicos es útil ya que depende de estadísticos robustos a la presencia de los mismos.  \n",
    "    \n",
    "Definimos la siguiente función que trabaja sobre valores de Series."
   ]
  },
  {
   "cell_type": "code",
   "execution_count": 28,
   "metadata": {
    "ExecuteTime": {
     "end_time": "2020-04-14T03:36:02.467418Z",
     "start_time": "2020-04-14T03:36:02.404734Z"
    },
    "lang": "es"
   },
   "outputs": [],
   "source": [
    "# función personalizada para construir la puntuación IQR\n",
    "def q1 (srs):\n",
    "    \"\"\"\n",
    "    Calcula el primer cuartil de una serie.\n",
    "    \"\"\"\n",
    "    return srs.quantile (0.25)"
   ]
  },
  {
   "cell_type": "code",
   "execution_count": 29,
   "metadata": {
    "ExecuteTime": {
     "end_time": "2020-04-14T03:36:02.534352Z",
     "start_time": "2020-04-14T03:36:02.469008Z"
    },
    "lang": "es"
   },
   "outputs": [],
   "source": [
    "def q3 (srs):\n",
    "    \"\"\"\n",
    "    Calcula el primer cuartil de una serie.\n",
    "    \"\"\"\n",
    "    return srs.quantile(0.75)"
   ]
  },
  {
   "cell_type": "code",
   "execution_count": 30,
   "metadata": {
    "ExecuteTime": {
     "end_time": "2020-04-14T03:36:02.609886Z",
     "start_time": "2020-04-14T03:36:02.536157Z"
    }
   },
   "outputs": [],
   "source": [
    "def calcula_puntaje_RIC(df_, col, verbose=True):\n",
    "    \"\"\"Agrega una columna de puntaje de rango intercuartilico a `df`, \n",
    "    basado en una columna que que contiene `col` como columna.\n",
    "\n",
    "    Parametros\n",
    "    ----------\n",
    "    df : pd.DataFrame\n",
    "        donde se agregará la columna de puntaje RIC\n",
    "    col : inmutable, \n",
    "        define la columna en la que se obtendrá la puntuación RIC \n",
    "        calculado\n",
    "    verbose : bool, \n",
    "        ya sea que muestre o no el calculo del RIC\n",
    "\n",
    "    Retorna\n",
    "    ----------\n",
    "    Copia de `df` con la columna de ``PRIC_{`col`}``\n",
    "    \"\"\"\n",
    "    \n",
    "    # crea una copia del data frame \n",
    "    df = df_.copy()\n",
    "\n",
    "    # calcula cuartiles 1 y 3\n",
    "    ric_df = df[[col]].aggregate([q1, q3])\n",
    "\n",
    "    # calcula RIC\n",
    "    ric_df.loc['RIC'] = ric_df.loc['q3'].iloc[0] - ric_df.loc['q1'].iloc[0]\n",
    "\n",
    "    if verbose:\n",
    "        # print('RIC:')\n",
    "        display(ric_df)\n",
    "\n",
    "    # inicializa la columna de puntaje en cero\n",
    "    df[f'PRIC_{col}'] = 0\n",
    "\n",
    "    # identifica filas menores a Q1\n",
    "    bools_menor_Q1 = (df[col] <= ric_df.loc['q1'].iloc[0])\n",
    "    sel_idx_Q1 = df.index[bools_menor_Q1]\n",
    "\n",
    "    # identifica filas mayores a Q3 \n",
    "    bools_mayor_Q3 = (df[col] >= ric_df.loc['q3'].iloc[0])\n",
    "    sel_idx_Q3 = df.index[bools_mayor_Q3]\n",
    "    \n",
    "    # calcula puntaje RIC para filas menores a Q1\n",
    "    df.loc[sel_idx_Q1, f'PRIC_{col}'] = (\n",
    "        ric_df.loc['q1'].iloc[0] - df.loc[sel_idx_Q1, col].values) / \\\n",
    "        ric_df.loc['RIC'].iloc[0]\n",
    "\n",
    "    # calcula puntaje RIC para filas menores a Q1\n",
    "    df.loc[sel_idx_Q3, f'PRIC_{col}'] = (\n",
    "        df.loc[sel_idx_Q3, col].values - ric_df.loc['q3'].iloc[0]) / \\\n",
    "        ric_df.loc['RIC'].iloc[0]\n",
    "\n",
    "    return df"
   ]
  },
  {
   "cell_type": "code",
   "execution_count": 31,
   "metadata": {
    "ExecuteTime": {
     "end_time": "2020-04-14T03:36:03.870704Z",
     "start_time": "2020-04-14T03:36:02.611280Z"
    }
   },
   "outputs": [],
   "source": [
    "electricidad_df = pd.read_csv('data_UCI/household_power_consumption.txt', sep=';', na_values='?')"
   ]
  },
  {
   "cell_type": "code",
   "execution_count": 32,
   "metadata": {
    "ExecuteTime": {
     "end_time": "2020-04-14T03:36:06.530796Z",
     "start_time": "2020-04-14T03:36:03.872006Z"
    },
    "scrolled": false
   },
   "outputs": [
    {
     "data": {
      "image/png": "[encoded data removed]",
      "text/plain": [
       "<Figure size 432x288 with 1 Axes>"
      ]
     },
     "metadata": {
      "needs_background": "light"
     },
     "output_type": "display_data"
    },
    {
     "data": {
      "image/png": "[encoded data removed]",
      "text/plain": [
       "<Figure size 432x288 with 1 Axes>"
      ]
     },
     "metadata": {
      "needs_background": "light"
     },
     "output_type": "display_data"
    },
    {
     "data": {
      "image/png": "[encoded data removed]",
      "text/plain": [
       "<Figure size 432x288 with 1 Axes>"
      ]
     },
     "metadata": {
      "needs_background": "light"
     },
     "output_type": "display_data"
    },
    {
     "data": {
      "image/png": "[encoded data removed]",
      "text/plain": [
       "<Figure size 432x288 with 1 Axes>"
      ]
     },
     "metadata": {
      "needs_background": "light"
     },
     "output_type": "display_data"
    },
    {
     "data": {
      "image/png": "[encoded data removed]",
      "text/plain": [
       "<Figure size 432x288 with 1 Axes>"
      ]
     },
     "metadata": {
      "needs_background": "light"
     },
     "output_type": "display_data"
    },
    {
     "data": {
      "image/png": "[encoded data removed]",
      "text/plain": [
       "<Figure size 432x288 with 1 Axes>"
      ]
     },
     "metadata": {
      "needs_background": "light"
     },
     "output_type": "display_data"
    },
    {
     "data": {
      "image/png": "[encoded data removed]",
      "text/plain": [
       "<Figure size 432x288 with 1 Axes>"
      ]
     },
     "metadata": {
      "needs_background": "light"
     },
     "output_type": "display_data"
    }
   ],
   "source": [
    "for j in range(2, electricidad_df.shape[1]):\n",
    "    plt.figure()\n",
    "    sns.boxplot(electricidad_df.iloc[:, j])\n",
    "    plt.show()"
   ]
  },
  {
   "cell_type": "markdown",
   "metadata": {},
   "source": [
    "Dado el plot de arriba, lo usaría solamente en 2 a 6."
   ]
  },
  {
   "cell_type": "code",
   "execution_count": 33,
   "metadata": {
    "ExecuteTime": {
     "end_time": "2020-04-14T03:36:08.112567Z",
     "start_time": "2020-04-14T03:36:06.532987Z"
    }
   },
   "outputs": [
    {
     "data": {
      "text/html": [
       "<div>\n",
       "<style scoped>\n",
       "    .dataframe tbody tr th:only-of-type {\n",
       "        vertical-align: middle;\n",
       "    }\n",
       "\n",
       "    .dataframe tbody tr th {\n",
       "        vertical-align: top;\n",
       "    }\n",
       "\n",
       "    .dataframe thead th {\n",
       "        text-align: right;\n",
       "    }\n",
       "</style>\n",
       "<table border=\"1\" class=\"dataframe\">\n",
       "  <thead>\n",
       "    <tr style=\"text-align: right;\">\n",
       "      <th></th>\n",
       "      <th>Global_active_power</th>\n",
       "    </tr>\n",
       "  </thead>\n",
       "  <tbody>\n",
       "    <tr>\n",
       "      <th>q1</th>\n",
       "      <td>0.308</td>\n",
       "    </tr>\n",
       "    <tr>\n",
       "      <th>q3</th>\n",
       "      <td>1.528</td>\n",
       "    </tr>\n",
       "    <tr>\n",
       "      <th>RIC</th>\n",
       "      <td>1.220</td>\n",
       "    </tr>\n",
       "  </tbody>\n",
       "</table>\n",
       "</div>"
      ],
      "text/plain": [
       "     Global_active_power\n",
       "q1                 0.308\n",
       "q3                 1.528\n",
       "RIC                1.220"
      ]
     },
     "metadata": {},
     "output_type": "display_data"
    },
    {
     "data": {
      "text/html": [
       "<div>\n",
       "<style scoped>\n",
       "    .dataframe tbody tr th:only-of-type {\n",
       "        vertical-align: middle;\n",
       "    }\n",
       "\n",
       "    .dataframe tbody tr th {\n",
       "        vertical-align: top;\n",
       "    }\n",
       "\n",
       "    .dataframe thead th {\n",
       "        text-align: right;\n",
       "    }\n",
       "</style>\n",
       "<table border=\"1\" class=\"dataframe\">\n",
       "  <thead>\n",
       "    <tr style=\"text-align: right;\">\n",
       "      <th></th>\n",
       "      <th>Global_reactive_power</th>\n",
       "    </tr>\n",
       "  </thead>\n",
       "  <tbody>\n",
       "    <tr>\n",
       "      <th>q1</th>\n",
       "      <td>0.048</td>\n",
       "    </tr>\n",
       "    <tr>\n",
       "      <th>q3</th>\n",
       "      <td>0.194</td>\n",
       "    </tr>\n",
       "    <tr>\n",
       "      <th>RIC</th>\n",
       "      <td>0.146</td>\n",
       "    </tr>\n",
       "  </tbody>\n",
       "</table>\n",
       "</div>"
      ],
      "text/plain": [
       "     Global_reactive_power\n",
       "q1                   0.048\n",
       "q3                   0.194\n",
       "RIC                  0.146"
      ]
     },
     "metadata": {},
     "output_type": "display_data"
    },
    {
     "data": {
      "text/html": [
       "<div>\n",
       "<style scoped>\n",
       "    .dataframe tbody tr th:only-of-type {\n",
       "        vertical-align: middle;\n",
       "    }\n",
       "\n",
       "    .dataframe tbody tr th {\n",
       "        vertical-align: top;\n",
       "    }\n",
       "\n",
       "    .dataframe thead th {\n",
       "        text-align: right;\n",
       "    }\n",
       "</style>\n",
       "<table border=\"1\" class=\"dataframe\">\n",
       "  <thead>\n",
       "    <tr style=\"text-align: right;\">\n",
       "      <th></th>\n",
       "      <th>Voltage</th>\n",
       "    </tr>\n",
       "  </thead>\n",
       "  <tbody>\n",
       "    <tr>\n",
       "      <th>q1</th>\n",
       "      <td>238.99</td>\n",
       "    </tr>\n",
       "    <tr>\n",
       "      <th>q3</th>\n",
       "      <td>242.89</td>\n",
       "    </tr>\n",
       "    <tr>\n",
       "      <th>RIC</th>\n",
       "      <td>3.90</td>\n",
       "    </tr>\n",
       "  </tbody>\n",
       "</table>\n",
       "</div>"
      ],
      "text/plain": [
       "     Voltage\n",
       "q1    238.99\n",
       "q3    242.89\n",
       "RIC     3.90"
      ]
     },
     "metadata": {},
     "output_type": "display_data"
    },
    {
     "data": {
      "text/html": [
       "<div>\n",
       "<style scoped>\n",
       "    .dataframe tbody tr th:only-of-type {\n",
       "        vertical-align: middle;\n",
       "    }\n",
       "\n",
       "    .dataframe tbody tr th {\n",
       "        vertical-align: top;\n",
       "    }\n",
       "\n",
       "    .dataframe thead th {\n",
       "        text-align: right;\n",
       "    }\n",
       "</style>\n",
       "<table border=\"1\" class=\"dataframe\">\n",
       "  <thead>\n",
       "    <tr style=\"text-align: right;\">\n",
       "      <th></th>\n",
       "      <th>Global_intensity</th>\n",
       "    </tr>\n",
       "  </thead>\n",
       "  <tbody>\n",
       "    <tr>\n",
       "      <th>q1</th>\n",
       "      <td>1.4</td>\n",
       "    </tr>\n",
       "    <tr>\n",
       "      <th>q3</th>\n",
       "      <td>6.4</td>\n",
       "    </tr>\n",
       "    <tr>\n",
       "      <th>RIC</th>\n",
       "      <td>5.0</td>\n",
       "    </tr>\n",
       "  </tbody>\n",
       "</table>\n",
       "</div>"
      ],
      "text/plain": [
       "     Global_intensity\n",
       "q1                1.4\n",
       "q3                6.4\n",
       "RIC               5.0"
      ]
     },
     "metadata": {},
     "output_type": "display_data"
    }
   ],
   "source": [
    "df_ = None\n",
    "for col in electricidad_df.columns[2:6]:\n",
    "    if df_ is None:\n",
    "        df_ = calcula_puntaje_RIC(electricidad_df, col)\n",
    "        \n",
    "    else:\n",
    "        df_ = calcula_puntaje_RIC(df_, col)"
   ]
  },
  {
   "cell_type": "code",
   "execution_count": 34,
   "metadata": {
    "ExecuteTime": {
     "end_time": "2020-04-14T03:36:08.145352Z",
     "start_time": "2020-04-14T03:36:08.114493Z"
    }
   },
   "outputs": [
    {
     "data": {
      "text/html": [
       "<div>\n",
       "<style scoped>\n",
       "    .dataframe tbody tr th:only-of-type {\n",
       "        vertical-align: middle;\n",
       "    }\n",
       "\n",
       "    .dataframe tbody tr th {\n",
       "        vertical-align: top;\n",
       "    }\n",
       "\n",
       "    .dataframe thead th {\n",
       "        text-align: right;\n",
       "    }\n",
       "</style>\n",
       "<table border=\"1\" class=\"dataframe\">\n",
       "  <thead>\n",
       "    <tr style=\"text-align: right;\">\n",
       "      <th></th>\n",
       "      <th>Date</th>\n",
       "      <th>Time</th>\n",
       "      <th>Global_active_power</th>\n",
       "      <th>Global_reactive_power</th>\n",
       "      <th>Voltage</th>\n",
       "      <th>Global_intensity</th>\n",
       "      <th>Sub_metering_1</th>\n",
       "      <th>Sub_metering_2</th>\n",
       "      <th>Sub_metering_3</th>\n",
       "      <th>PRIC_Global_active_power</th>\n",
       "      <th>PRIC_Global_reactive_power</th>\n",
       "      <th>PRIC_Voltage</th>\n",
       "      <th>PRIC_Global_intensity</th>\n",
       "    </tr>\n",
       "  </thead>\n",
       "  <tbody>\n",
       "    <tr>\n",
       "      <th>0</th>\n",
       "      <td>16/12/2006</td>\n",
       "      <td>17:24:00</td>\n",
       "      <td>4.216</td>\n",
       "      <td>0.418</td>\n",
       "      <td>234.84</td>\n",
       "      <td>18.4</td>\n",
       "      <td>0.0</td>\n",
       "      <td>1.0</td>\n",
       "      <td>17.0</td>\n",
       "      <td>2.203279</td>\n",
       "      <td>1.534247</td>\n",
       "      <td>1.064103</td>\n",
       "      <td>2.40</td>\n",
       "    </tr>\n",
       "    <tr>\n",
       "      <th>1</th>\n",
       "      <td>16/12/2006</td>\n",
       "      <td>17:25:00</td>\n",
       "      <td>5.360</td>\n",
       "      <td>0.436</td>\n",
       "      <td>233.63</td>\n",
       "      <td>23.0</td>\n",
       "      <td>0.0</td>\n",
       "      <td>1.0</td>\n",
       "      <td>16.0</td>\n",
       "      <td>3.140984</td>\n",
       "      <td>1.657534</td>\n",
       "      <td>1.374359</td>\n",
       "      <td>3.32</td>\n",
       "    </tr>\n",
       "    <tr>\n",
       "      <th>2</th>\n",
       "      <td>16/12/2006</td>\n",
       "      <td>17:26:00</td>\n",
       "      <td>5.374</td>\n",
       "      <td>0.498</td>\n",
       "      <td>233.29</td>\n",
       "      <td>23.0</td>\n",
       "      <td>0.0</td>\n",
       "      <td>2.0</td>\n",
       "      <td>17.0</td>\n",
       "      <td>3.152459</td>\n",
       "      <td>2.082192</td>\n",
       "      <td>1.461538</td>\n",
       "      <td>3.32</td>\n",
       "    </tr>\n",
       "    <tr>\n",
       "      <th>3</th>\n",
       "      <td>16/12/2006</td>\n",
       "      <td>17:27:00</td>\n",
       "      <td>5.388</td>\n",
       "      <td>0.502</td>\n",
       "      <td>233.74</td>\n",
       "      <td>23.0</td>\n",
       "      <td>0.0</td>\n",
       "      <td>1.0</td>\n",
       "      <td>17.0</td>\n",
       "      <td>3.163934</td>\n",
       "      <td>2.109589</td>\n",
       "      <td>1.346154</td>\n",
       "      <td>3.32</td>\n",
       "    </tr>\n",
       "    <tr>\n",
       "      <th>4</th>\n",
       "      <td>16/12/2006</td>\n",
       "      <td>17:28:00</td>\n",
       "      <td>3.666</td>\n",
       "      <td>0.528</td>\n",
       "      <td>235.68</td>\n",
       "      <td>15.8</td>\n",
       "      <td>0.0</td>\n",
       "      <td>1.0</td>\n",
       "      <td>17.0</td>\n",
       "      <td>1.752459</td>\n",
       "      <td>2.287671</td>\n",
       "      <td>0.848718</td>\n",
       "      <td>1.88</td>\n",
       "    </tr>\n",
       "    <tr>\n",
       "      <th>...</th>\n",
       "      <td>...</td>\n",
       "      <td>...</td>\n",
       "      <td>...</td>\n",
       "      <td>...</td>\n",
       "      <td>...</td>\n",
       "      <td>...</td>\n",
       "      <td>...</td>\n",
       "      <td>...</td>\n",
       "      <td>...</td>\n",
       "      <td>...</td>\n",
       "      <td>...</td>\n",
       "      <td>...</td>\n",
       "      <td>...</td>\n",
       "    </tr>\n",
       "    <tr>\n",
       "      <th>2075254</th>\n",
       "      <td>26/11/2010</td>\n",
       "      <td>20:58:00</td>\n",
       "      <td>0.946</td>\n",
       "      <td>0.000</td>\n",
       "      <td>240.43</td>\n",
       "      <td>4.0</td>\n",
       "      <td>0.0</td>\n",
       "      <td>0.0</td>\n",
       "      <td>0.0</td>\n",
       "      <td>0.000000</td>\n",
       "      <td>0.328767</td>\n",
       "      <td>0.000000</td>\n",
       "      <td>0.00</td>\n",
       "    </tr>\n",
       "    <tr>\n",
       "      <th>2075255</th>\n",
       "      <td>26/11/2010</td>\n",
       "      <td>20:59:00</td>\n",
       "      <td>0.944</td>\n",
       "      <td>0.000</td>\n",
       "      <td>240.00</td>\n",
       "      <td>4.0</td>\n",
       "      <td>0.0</td>\n",
       "      <td>0.0</td>\n",
       "      <td>0.0</td>\n",
       "      <td>0.000000</td>\n",
       "      <td>0.328767</td>\n",
       "      <td>0.000000</td>\n",
       "      <td>0.00</td>\n",
       "    </tr>\n",
       "    <tr>\n",
       "      <th>2075256</th>\n",
       "      <td>26/11/2010</td>\n",
       "      <td>21:00:00</td>\n",
       "      <td>0.938</td>\n",
       "      <td>0.000</td>\n",
       "      <td>239.82</td>\n",
       "      <td>3.8</td>\n",
       "      <td>0.0</td>\n",
       "      <td>0.0</td>\n",
       "      <td>0.0</td>\n",
       "      <td>0.000000</td>\n",
       "      <td>0.328767</td>\n",
       "      <td>0.000000</td>\n",
       "      <td>0.00</td>\n",
       "    </tr>\n",
       "    <tr>\n",
       "      <th>2075257</th>\n",
       "      <td>26/11/2010</td>\n",
       "      <td>21:01:00</td>\n",
       "      <td>0.934</td>\n",
       "      <td>0.000</td>\n",
       "      <td>239.70</td>\n",
       "      <td>3.8</td>\n",
       "      <td>0.0</td>\n",
       "      <td>0.0</td>\n",
       "      <td>0.0</td>\n",
       "      <td>0.000000</td>\n",
       "      <td>0.328767</td>\n",
       "      <td>0.000000</td>\n",
       "      <td>0.00</td>\n",
       "    </tr>\n",
       "    <tr>\n",
       "      <th>2075258</th>\n",
       "      <td>26/11/2010</td>\n",
       "      <td>21:02:00</td>\n",
       "      <td>0.932</td>\n",
       "      <td>0.000</td>\n",
       "      <td>239.55</td>\n",
       "      <td>3.8</td>\n",
       "      <td>0.0</td>\n",
       "      <td>0.0</td>\n",
       "      <td>0.0</td>\n",
       "      <td>0.000000</td>\n",
       "      <td>0.328767</td>\n",
       "      <td>0.000000</td>\n",
       "      <td>0.00</td>\n",
       "    </tr>\n",
       "  </tbody>\n",
       "</table>\n",
       "<p>2075259 rows × 13 columns</p>\n",
       "</div>"
      ],
      "text/plain": [
       "               Date      Time  Global_active_power  Global_reactive_power  \\\n",
       "0        16/12/2006  17:24:00                4.216                  0.418   \n",
       "1        16/12/2006  17:25:00                5.360                  0.436   \n",
       "2        16/12/2006  17:26:00                5.374                  0.498   \n",
       "3        16/12/2006  17:27:00                5.388                  0.502   \n",
       "4        16/12/2006  17:28:00                3.666                  0.528   \n",
       "...             ...       ...                  ...                    ...   \n",
       "2075254  26/11/2010  20:58:00                0.946                  0.000   \n",
       "2075255  26/11/2010  20:59:00                0.944                  0.000   \n",
       "2075256  26/11/2010  21:00:00                0.938                  0.000   \n",
       "2075257  26/11/2010  21:01:00                0.934                  0.000   \n",
       "2075258  26/11/2010  21:02:00                0.932                  0.000   \n",
       "\n",
       "         Voltage  Global_intensity  Sub_metering_1  Sub_metering_2  \\\n",
       "0         234.84              18.4             0.0             1.0   \n",
       "1         233.63              23.0             0.0             1.0   \n",
       "2         233.29              23.0             0.0             2.0   \n",
       "3         233.74              23.0             0.0             1.0   \n",
       "4         235.68              15.8             0.0             1.0   \n",
       "...          ...               ...             ...             ...   \n",
       "2075254   240.43               4.0             0.0             0.0   \n",
       "2075255   240.00               4.0             0.0             0.0   \n",
       "2075256   239.82               3.8             0.0             0.0   \n",
       "2075257   239.70               3.8             0.0             0.0   \n",
       "2075258   239.55               3.8             0.0             0.0   \n",
       "\n",
       "         Sub_metering_3  PRIC_Global_active_power  PRIC_Global_reactive_power  \\\n",
       "0                  17.0                  2.203279                    1.534247   \n",
       "1                  16.0                  3.140984                    1.657534   \n",
       "2                  17.0                  3.152459                    2.082192   \n",
       "3                  17.0                  3.163934                    2.109589   \n",
       "4                  17.0                  1.752459                    2.287671   \n",
       "...                 ...                       ...                         ...   \n",
       "2075254             0.0                  0.000000                    0.328767   \n",
       "2075255             0.0                  0.000000                    0.328767   \n",
       "2075256             0.0                  0.000000                    0.328767   \n",
       "2075257             0.0                  0.000000                    0.328767   \n",
       "2075258             0.0                  0.000000                    0.328767   \n",
       "\n",
       "         PRIC_Voltage  PRIC_Global_intensity  \n",
       "0            1.064103                   2.40  \n",
       "1            1.374359                   3.32  \n",
       "2            1.461538                   3.32  \n",
       "3            1.346154                   3.32  \n",
       "4            0.848718                   1.88  \n",
       "...               ...                    ...  \n",
       "2075254      0.000000                   0.00  \n",
       "2075255      0.000000                   0.00  \n",
       "2075256      0.000000                   0.00  \n",
       "2075257      0.000000                   0.00  \n",
       "2075258      0.000000                   0.00  \n",
       "\n",
       "[2075259 rows x 13 columns]"
      ]
     },
     "metadata": {},
     "output_type": "display_data"
    }
   ],
   "source": [
    "display(df_)"
   ]
  },
  {
   "cell_type": "markdown",
   "metadata": {},
   "source": [
    "## STD\n",
    "[El notebook de kaggle más votado](https://www.kaggle.com/pmarcelino/comprehensive-data-exploration-with-python): interés especial en la sección **Out Liars!** se usa un criterio de std  \n",
    "\n",
    "El dataset ya está descargado en:"
   ]
  },
  {
   "cell_type": "code",
   "execution_count": 35,
   "metadata": {
    "ExecuteTime": {
     "end_time": "2020-04-14T03:36:08.297329Z",
     "start_time": "2020-04-14T03:36:08.147208Z"
    }
   },
   "outputs": [
    {
     "data": {
      "text/html": [
       "<div>\n",
       "<style scoped>\n",
       "    .dataframe tbody tr th:only-of-type {\n",
       "        vertical-align: middle;\n",
       "    }\n",
       "\n",
       "    .dataframe tbody tr th {\n",
       "        vertical-align: top;\n",
       "    }\n",
       "\n",
       "    .dataframe thead th {\n",
       "        text-align: right;\n",
       "    }\n",
       "</style>\n",
       "<table border=\"1\" class=\"dataframe\">\n",
       "  <thead>\n",
       "    <tr style=\"text-align: right;\">\n",
       "      <th></th>\n",
       "      <th>Id</th>\n",
       "      <th>MSSubClass</th>\n",
       "      <th>MSZoning</th>\n",
       "      <th>LotFrontage</th>\n",
       "      <th>LotArea</th>\n",
       "      <th>Street</th>\n",
       "      <th>Alley</th>\n",
       "      <th>LotShape</th>\n",
       "      <th>LandContour</th>\n",
       "      <th>Utilities</th>\n",
       "      <th>...</th>\n",
       "      <th>PoolArea</th>\n",
       "      <th>PoolQC</th>\n",
       "      <th>Fence</th>\n",
       "      <th>MiscFeature</th>\n",
       "      <th>MiscVal</th>\n",
       "      <th>MoSold</th>\n",
       "      <th>YrSold</th>\n",
       "      <th>SaleType</th>\n",
       "      <th>SaleCondition</th>\n",
       "      <th>SalePrice</th>\n",
       "    </tr>\n",
       "  </thead>\n",
       "  <tbody>\n",
       "    <tr>\n",
       "      <th>0</th>\n",
       "      <td>1</td>\n",
       "      <td>60</td>\n",
       "      <td>RL</td>\n",
       "      <td>65.0</td>\n",
       "      <td>8450</td>\n",
       "      <td>Pave</td>\n",
       "      <td>NaN</td>\n",
       "      <td>Reg</td>\n",
       "      <td>Lvl</td>\n",
       "      <td>AllPub</td>\n",
       "      <td>...</td>\n",
       "      <td>0</td>\n",
       "      <td>NaN</td>\n",
       "      <td>NaN</td>\n",
       "      <td>NaN</td>\n",
       "      <td>0</td>\n",
       "      <td>2</td>\n",
       "      <td>2008</td>\n",
       "      <td>WD</td>\n",
       "      <td>Normal</td>\n",
       "      <td>208500</td>\n",
       "    </tr>\n",
       "    <tr>\n",
       "      <th>1</th>\n",
       "      <td>2</td>\n",
       "      <td>20</td>\n",
       "      <td>RL</td>\n",
       "      <td>80.0</td>\n",
       "      <td>9600</td>\n",
       "      <td>Pave</td>\n",
       "      <td>NaN</td>\n",
       "      <td>Reg</td>\n",
       "      <td>Lvl</td>\n",
       "      <td>AllPub</td>\n",
       "      <td>...</td>\n",
       "      <td>0</td>\n",
       "      <td>NaN</td>\n",
       "      <td>NaN</td>\n",
       "      <td>NaN</td>\n",
       "      <td>0</td>\n",
       "      <td>5</td>\n",
       "      <td>2007</td>\n",
       "      <td>WD</td>\n",
       "      <td>Normal</td>\n",
       "      <td>181500</td>\n",
       "    </tr>\n",
       "    <tr>\n",
       "      <th>2</th>\n",
       "      <td>3</td>\n",
       "      <td>60</td>\n",
       "      <td>RL</td>\n",
       "      <td>68.0</td>\n",
       "      <td>11250</td>\n",
       "      <td>Pave</td>\n",
       "      <td>NaN</td>\n",
       "      <td>IR1</td>\n",
       "      <td>Lvl</td>\n",
       "      <td>AllPub</td>\n",
       "      <td>...</td>\n",
       "      <td>0</td>\n",
       "      <td>NaN</td>\n",
       "      <td>NaN</td>\n",
       "      <td>NaN</td>\n",
       "      <td>0</td>\n",
       "      <td>9</td>\n",
       "      <td>2008</td>\n",
       "      <td>WD</td>\n",
       "      <td>Normal</td>\n",
       "      <td>223500</td>\n",
       "    </tr>\n",
       "    <tr>\n",
       "      <th>3</th>\n",
       "      <td>4</td>\n",
       "      <td>70</td>\n",
       "      <td>RL</td>\n",
       "      <td>60.0</td>\n",
       "      <td>9550</td>\n",
       "      <td>Pave</td>\n",
       "      <td>NaN</td>\n",
       "      <td>IR1</td>\n",
       "      <td>Lvl</td>\n",
       "      <td>AllPub</td>\n",
       "      <td>...</td>\n",
       "      <td>0</td>\n",
       "      <td>NaN</td>\n",
       "      <td>NaN</td>\n",
       "      <td>NaN</td>\n",
       "      <td>0</td>\n",
       "      <td>2</td>\n",
       "      <td>2006</td>\n",
       "      <td>WD</td>\n",
       "      <td>Abnorml</td>\n",
       "      <td>140000</td>\n",
       "    </tr>\n",
       "    <tr>\n",
       "      <th>4</th>\n",
       "      <td>5</td>\n",
       "      <td>60</td>\n",
       "      <td>RL</td>\n",
       "      <td>84.0</td>\n",
       "      <td>14260</td>\n",
       "      <td>Pave</td>\n",
       "      <td>NaN</td>\n",
       "      <td>IR1</td>\n",
       "      <td>Lvl</td>\n",
       "      <td>AllPub</td>\n",
       "      <td>...</td>\n",
       "      <td>0</td>\n",
       "      <td>NaN</td>\n",
       "      <td>NaN</td>\n",
       "      <td>NaN</td>\n",
       "      <td>0</td>\n",
       "      <td>12</td>\n",
       "      <td>2008</td>\n",
       "      <td>WD</td>\n",
       "      <td>Normal</td>\n",
       "      <td>250000</td>\n",
       "    </tr>\n",
       "    <tr>\n",
       "      <th>...</th>\n",
       "      <td>...</td>\n",
       "      <td>...</td>\n",
       "      <td>...</td>\n",
       "      <td>...</td>\n",
       "      <td>...</td>\n",
       "      <td>...</td>\n",
       "      <td>...</td>\n",
       "      <td>...</td>\n",
       "      <td>...</td>\n",
       "      <td>...</td>\n",
       "      <td>...</td>\n",
       "      <td>...</td>\n",
       "      <td>...</td>\n",
       "      <td>...</td>\n",
       "      <td>...</td>\n",
       "      <td>...</td>\n",
       "      <td>...</td>\n",
       "      <td>...</td>\n",
       "      <td>...</td>\n",
       "      <td>...</td>\n",
       "      <td>...</td>\n",
       "    </tr>\n",
       "    <tr>\n",
       "      <th>1455</th>\n",
       "      <td>1456</td>\n",
       "      <td>60</td>\n",
       "      <td>RL</td>\n",
       "      <td>62.0</td>\n",
       "      <td>7917</td>\n",
       "      <td>Pave</td>\n",
       "      <td>NaN</td>\n",
       "      <td>Reg</td>\n",
       "      <td>Lvl</td>\n",
       "      <td>AllPub</td>\n",
       "      <td>...</td>\n",
       "      <td>0</td>\n",
       "      <td>NaN</td>\n",
       "      <td>NaN</td>\n",
       "      <td>NaN</td>\n",
       "      <td>0</td>\n",
       "      <td>8</td>\n",
       "      <td>2007</td>\n",
       "      <td>WD</td>\n",
       "      <td>Normal</td>\n",
       "      <td>175000</td>\n",
       "    </tr>\n",
       "    <tr>\n",
       "      <th>1456</th>\n",
       "      <td>1457</td>\n",
       "      <td>20</td>\n",
       "      <td>RL</td>\n",
       "      <td>85.0</td>\n",
       "      <td>13175</td>\n",
       "      <td>Pave</td>\n",
       "      <td>NaN</td>\n",
       "      <td>Reg</td>\n",
       "      <td>Lvl</td>\n",
       "      <td>AllPub</td>\n",
       "      <td>...</td>\n",
       "      <td>0</td>\n",
       "      <td>NaN</td>\n",
       "      <td>MnPrv</td>\n",
       "      <td>NaN</td>\n",
       "      <td>0</td>\n",
       "      <td>2</td>\n",
       "      <td>2010</td>\n",
       "      <td>WD</td>\n",
       "      <td>Normal</td>\n",
       "      <td>210000</td>\n",
       "    </tr>\n",
       "    <tr>\n",
       "      <th>1457</th>\n",
       "      <td>1458</td>\n",
       "      <td>70</td>\n",
       "      <td>RL</td>\n",
       "      <td>66.0</td>\n",
       "      <td>9042</td>\n",
       "      <td>Pave</td>\n",
       "      <td>NaN</td>\n",
       "      <td>Reg</td>\n",
       "      <td>Lvl</td>\n",
       "      <td>AllPub</td>\n",
       "      <td>...</td>\n",
       "      <td>0</td>\n",
       "      <td>NaN</td>\n",
       "      <td>GdPrv</td>\n",
       "      <td>Shed</td>\n",
       "      <td>2500</td>\n",
       "      <td>5</td>\n",
       "      <td>2010</td>\n",
       "      <td>WD</td>\n",
       "      <td>Normal</td>\n",
       "      <td>266500</td>\n",
       "    </tr>\n",
       "    <tr>\n",
       "      <th>1458</th>\n",
       "      <td>1459</td>\n",
       "      <td>20</td>\n",
       "      <td>RL</td>\n",
       "      <td>68.0</td>\n",
       "      <td>9717</td>\n",
       "      <td>Pave</td>\n",
       "      <td>NaN</td>\n",
       "      <td>Reg</td>\n",
       "      <td>Lvl</td>\n",
       "      <td>AllPub</td>\n",
       "      <td>...</td>\n",
       "      <td>0</td>\n",
       "      <td>NaN</td>\n",
       "      <td>NaN</td>\n",
       "      <td>NaN</td>\n",
       "      <td>0</td>\n",
       "      <td>4</td>\n",
       "      <td>2010</td>\n",
       "      <td>WD</td>\n",
       "      <td>Normal</td>\n",
       "      <td>142125</td>\n",
       "    </tr>\n",
       "    <tr>\n",
       "      <th>1459</th>\n",
       "      <td>1460</td>\n",
       "      <td>20</td>\n",
       "      <td>RL</td>\n",
       "      <td>75.0</td>\n",
       "      <td>9937</td>\n",
       "      <td>Pave</td>\n",
       "      <td>NaN</td>\n",
       "      <td>Reg</td>\n",
       "      <td>Lvl</td>\n",
       "      <td>AllPub</td>\n",
       "      <td>...</td>\n",
       "      <td>0</td>\n",
       "      <td>NaN</td>\n",
       "      <td>NaN</td>\n",
       "      <td>NaN</td>\n",
       "      <td>0</td>\n",
       "      <td>6</td>\n",
       "      <td>2008</td>\n",
       "      <td>WD</td>\n",
       "      <td>Normal</td>\n",
       "      <td>147500</td>\n",
       "    </tr>\n",
       "  </tbody>\n",
       "</table>\n",
       "<p>1460 rows × 81 columns</p>\n",
       "</div>"
      ],
      "text/plain": [
       "        Id  MSSubClass MSZoning  LotFrontage  LotArea Street Alley LotShape  \\\n",
       "0        1          60       RL         65.0     8450   Pave   NaN      Reg   \n",
       "1        2          20       RL         80.0     9600   Pave   NaN      Reg   \n",
       "2        3          60       RL         68.0    11250   Pave   NaN      IR1   \n",
       "3        4          70       RL         60.0     9550   Pave   NaN      IR1   \n",
       "4        5          60       RL         84.0    14260   Pave   NaN      IR1   \n",
       "...    ...         ...      ...          ...      ...    ...   ...      ...   \n",
       "1455  1456          60       RL         62.0     7917   Pave   NaN      Reg   \n",
       "1456  1457          20       RL         85.0    13175   Pave   NaN      Reg   \n",
       "1457  1458          70       RL         66.0     9042   Pave   NaN      Reg   \n",
       "1458  1459          20       RL         68.0     9717   Pave   NaN      Reg   \n",
       "1459  1460          20       RL         75.0     9937   Pave   NaN      Reg   \n",
       "\n",
       "     LandContour Utilities  ... PoolArea PoolQC  Fence MiscFeature MiscVal  \\\n",
       "0            Lvl    AllPub  ...        0    NaN    NaN         NaN       0   \n",
       "1            Lvl    AllPub  ...        0    NaN    NaN         NaN       0   \n",
       "2            Lvl    AllPub  ...        0    NaN    NaN         NaN       0   \n",
       "3            Lvl    AllPub  ...        0    NaN    NaN         NaN       0   \n",
       "4            Lvl    AllPub  ...        0    NaN    NaN         NaN       0   \n",
       "...          ...       ...  ...      ...    ...    ...         ...     ...   \n",
       "1455         Lvl    AllPub  ...        0    NaN    NaN         NaN       0   \n",
       "1456         Lvl    AllPub  ...        0    NaN  MnPrv         NaN       0   \n",
       "1457         Lvl    AllPub  ...        0    NaN  GdPrv        Shed    2500   \n",
       "1458         Lvl    AllPub  ...        0    NaN    NaN         NaN       0   \n",
       "1459         Lvl    AllPub  ...        0    NaN    NaN         NaN       0   \n",
       "\n",
       "     MoSold YrSold  SaleType  SaleCondition  SalePrice  \n",
       "0         2   2008        WD         Normal     208500  \n",
       "1         5   2007        WD         Normal     181500  \n",
       "2         9   2008        WD         Normal     223500  \n",
       "3         2   2006        WD        Abnorml     140000  \n",
       "4        12   2008        WD         Normal     250000  \n",
       "...     ...    ...       ...            ...        ...  \n",
       "1455      8   2007        WD         Normal     175000  \n",
       "1456      2   2010        WD         Normal     210000  \n",
       "1457      5   2010        WD         Normal     266500  \n",
       "1458      4   2010        WD         Normal     142125  \n",
       "1459      6   2008        WD         Normal     147500  \n",
       "\n",
       "[1460 rows x 81 columns]"
      ]
     },
     "execution_count": 35,
     "metadata": {},
     "output_type": "execute_result"
    }
   ],
   "source": [
    "pd.read_csv('data_kaggle/house-prices-advanced-regression-techniques/train.csv')"
   ]
  },
  {
   "cell_type": "markdown",
   "metadata": {
    "lang": "es"
   },
   "source": [
    "# Prueba de hipótesis: regresión sobre los precios de la vivienda\n",
    "[El notebook de kaggle más votado](https://www.kaggle.com/pmarcelino/comprehensive-data-exploration-with-python): interés especial en la sección 5 donde se analizan los supuestos más importantes de regresión lineal ... esto podría ser un marco para la prueba de hipótesis"
   ]
  },
  {
   "cell_type": "code",
   "execution_count": null,
   "metadata": {},
   "outputs": [],
   "source": []
  },
  {
   "cell_type": "markdown",
   "metadata": {},
   "source": [
    "# Métodos árboles\n",
    "para llenar datos faltantes."
   ]
  },
  {
   "cell_type": "code",
   "execution_count": null,
   "metadata": {},
   "outputs": [],
   "source": []
  }
 ],
 "metadata": {
  "kernelspec": {
   "display_name": "selenium36",
   "language": "python",
   "name": "selenium36"
  },
  "language_info": {
   "codemirror_mode": {
    "name": "ipython",
    "version": 3
   },
   "file_extension": ".py",
   "mimetype": "text/x-python",
   "name": "python",
   "nbconvert_exporter": "python",
   "pygments_lexer": "ipython3",
   "version": "3.6.10"
  },
  "nbTranslate": {
   "displayLangs": [
    "es",
    "en"
   ],
   "hotkey": "alt-t",
   "langInMainMenu": true,
   "sourceLang": "en",
   "targetLang": "es",
   "useGoogleTranslate": true
  },
  "toc": {
   "base_numbering": 1,
   "nav_menu": {},
   "number_sections": true,
   "sideBar": true,
   "skip_h1_title": false,
   "title_cell": "Table of Contents",
   "title_sidebar": "Contents",
   "toc_cell": false,
   "toc_position": {},
   "toc_section_display": true,
   "toc_window_display": true
  }
 },
 "nbformat": 4,
 "nbformat_minor": 4
}
