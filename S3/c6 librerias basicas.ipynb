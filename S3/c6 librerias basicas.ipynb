{
 "cells": [
  {
   "cell_type": "markdown",
   "metadata": {},
   "source": [
    "# MA6202: Laboratorio de Ciencia de Datos\n",
    "\n",
    "**Profesor: Nicolás Caro**\n",
    "\n",
    "**13/04/2020 - C6 S3**"
   ]
  },
  {
   "cell_type": "markdown",
   "metadata": {},
   "source": [
    "## Librerias Básicas \n",
    "\n",
    "\n",
    "intro\n",
    "\n",
    "Temas:\n",
    "* Pickle + context manager\n",
    "* Librerias báscias\n",
    "* Link a pandas\n"
   ]
  },
  {
   "cell_type": "markdown",
   "metadata": {},
   "source": [
    "### Manejo de archivos\n",
    "\n",
    "Un archivo consiste en un conjunto de datos (o información si se prefiere) relacionados de manera lógica e interpretable mediante algún programa. En sus funcionalidades básicas, Python permite el manejo de archivos mediante la función ```open()```. La sintaxis de lectura de archivos es:\n",
    "\n",
    "```python\n",
    "obj = open('ruta/al/archivo', 'r')\n",
    "```\n",
    "Donde el parámetro 'r' inidca que el archivo a operar será abierto en modo lectura. \n",
    "\n",
    "**Ejemplo**\n",
    "\n",
    "El módulo ```wiki_getter``` posee la función ```wiki_intro_getter()```, esta recibe una pagina de wikipedia y entrega su introducción."
   ]
  },
  {
   "cell_type": "code",
   "execution_count": 53,
   "metadata": {},
   "outputs": [],
   "source": [
    "from wiki_getter import wiki_intro_getter\n",
    "\n",
    "'''\n",
    "esta funcion carga por defecto la pagina de wikipedia que define un \n",
    "archivo de computador\n",
    "'''\n",
    "\n",
    "intro_file = wiki_intro_getter()"
   ]
  },
  {
   "cell_type": "markdown",
   "metadata": {},
   "source": [
    "Por otra parte, tal módulo posee la función ```to_txt()``` que permite guardar un string de Python en un archivo de texto en la carpeta actual de trabajo. Se guarda el texto ```intro_file```"
   ]
  },
  {
   "cell_type": "code",
   "execution_count": 54,
   "metadata": {},
   "outputs": [
    {
     "name": "stdout",
     "output_type": "stream",
     "text": [
      "Guardando archivo ...\n",
      "Archivo guardado con el nombre:  intro_file.txt\n"
     ]
    }
   ],
   "source": [
    "from wiki_getter import to_txt\n",
    "to_txt(intro_file,'intro_file')"
   ]
  },
  {
   "cell_type": "markdown",
   "metadata": {},
   "source": [
    "Se utiliza la función ```open()``` para leer el contenido del archivo recién generado."
   ]
  },
  {
   "cell_type": "code",
   "execution_count": 43,
   "metadata": {},
   "outputs": [
    {
     "name": "stdout",
     "output_type": "stream",
     "text": [
      "A computer file is a computer resource for recording data discretely in a computer storage device. Just as words can be written to paper, so can information be written to a computer file. Files can be edited and transferred through the internet on that particular computer system.\n"
     ]
    }
   ],
   "source": [
    "file = open('intro_file.txt','r')\n",
    "\n",
    "# Se lee el archivo linea por linea, el objeto file es un iterable!\n",
    "for line in file: \n",
    "    # entrega un string removiendo el ultimo espacio en blanco\n",
    "    print(line.rstrip())\n",
    "    \n",
    "# Posteriormente se debe cerrar el objeto file\n",
    "file.close()"
   ]
  },
  {
   "cell_type": "markdown",
   "metadata": {},
   "source": [
    "La función ```open()``` se puede utilizar para escribir archivos. Para ello se le entrega el argumento 'w'. \n",
    "\n",
    "**Ejemplo**\n",
    "\n",
    "Se toma el text ```intro_file.txt``` del ejemplo anterior y se utiliza para agregar un titulo al texto. Para esto es necesario abrir un nuevo archivo ```'intro_file_0.txt'``` en modo escritura."
   ]
  },
  {
   "cell_type": "code",
   "execution_count": 157,
   "metadata": {},
   "outputs": [],
   "source": [
    "# Se abre el archivo incial\n",
    "file = open('intro_file.txt','r')\n",
    "\n",
    "# Se abre un archivo proxy\n",
    "file_to_write = open('intro_file_0.txt','w')\n",
    "\n",
    "# Se define el titulo a agregar\n",
    "title = 'Archivos: Introducción'\n",
    "\n",
    "# Se agrega el titulo al texto del archivo inicial\n",
    "text_to_write = title + '\\n' + file.readlines()[0]\n",
    "\n",
    "# Se ecribe el nuevo texto en el archivo proxy\n",
    "file_to_write.write(text_to_write)\n",
    "\n",
    "# Se cierra la conexion a los archivos\n",
    "file.close()\n",
    "file_to_write.close()"
   ]
  },
  {
   "cell_type": "markdown",
   "metadata": {},
   "source": [
    "Se comprueba el resultado"
   ]
  },
  {
   "cell_type": "code",
   "execution_count": 158,
   "metadata": {},
   "outputs": [
    {
     "name": "stdout",
     "output_type": "stream",
     "text": [
      "Archivos: Introducción\n",
      "A computer file is a computer resource for recording data discretely in a computer storage device. Just as words can be written to paper, so can information be written to a computer file. Files can be edited and transferred through the internet on that particular computer system.\n"
     ]
    }
   ],
   "source": [
    "# Se imprime en pantalla cada linea del archivo\n",
    "for line in open('intro_file_0.txt','r'):\n",
    "    print(line.rstrip())"
   ]
  },
  {
   "cell_type": "markdown",
   "metadata": {},
   "source": [
    "Para leer y escrbir de manera simultanea en un mismo archivo existen las opciones:\n",
    "\n",
    "* ```'r+'```: abre un archivo existente con permisos de escritura.\n",
    "* ```'w+'```: crea un archivo vacio y permite leerlo.\n",
    "\n",
    "En los objetos obtenidos a partir de ```open()```, existe la noción de *posición*. Se accede a esta por medio de los métodos ```.seek()``` and ```.tell()```. \n",
    "\n",
    "**Ejemplo**\n",
    "\n",
    "Para comprender la noción de posición, es útil pensar en ```.tell()``` como un método que entrega la posición del *cursor* en un editor de archivos de texto. Por su parte ```.seek(n)``` situa tal cursor en la posición ```n```. \n",
    "\n",
    "En el siguiente código, se abre el archivo ```'intro_file_0.txt'```. Se establece la posición ```1``` por medio de  ```.seek(1)```, luego se imprime en pantalla el caracter asociado a la posición 1."
   ]
  },
  {
   "cell_type": "code",
   "execution_count": 274,
   "metadata": {},
   "outputs": [
    {
     "data": {
      "text/plain": [
       "'A'"
      ]
     },
     "execution_count": 274,
     "metadata": {},
     "output_type": "execute_result"
    }
   ],
   "source": [
    "file_0 = open('intro_file_0.txt','r')\n",
    "file_0.read(1)"
   ]
  },
  {
   "cell_type": "markdown",
   "metadata": {},
   "source": [
    "**Obs**: El método ```.read(n)``` imprime en pantalla hasta el caracter n partiendo **desde** la posición actual dada por ```.tell()```."
   ]
  },
  {
   "cell_type": "markdown",
   "metadata": {},
   "source": [
    "Posteriormente, se establece la posición ```10``` y se confirma por medio de ```.tell()```"
   ]
  },
  {
   "cell_type": "code",
   "execution_count": 287,
   "metadata": {},
   "outputs": [
    {
     "data": {
      "text/plain": [
       "10"
      ]
     },
     "execution_count": 287,
     "metadata": {},
     "output_type": "execute_result"
    }
   ],
   "source": [
    "file_0.seek(10)\n",
    "pos_0 = file_0.tell()\n",
    "pos_0"
   ]
  },
  {
   "cell_type": "markdown",
   "metadata": {},
   "source": [
    "Lo anterior situa el *cursor* en la posición ```10```. Por lo tanto, si se ejecuta el método ```.read(12)```. ¿Qué deberia imprimirse en pantalla?"
   ]
  },
  {
   "cell_type": "code",
   "execution_count": 288,
   "metadata": {},
   "outputs": [
    {
     "data": {
      "text/plain": [
       "'Introducción'"
      ]
     },
     "execution_count": 288,
     "metadata": {},
     "output_type": "execute_result"
    }
   ],
   "source": [
    "file_0.read(12)"
   ]
  },
  {
   "cell_type": "markdown",
   "metadata": {},
   "source": [
    "Considerando ```.read(12)``` avanza 12 posiciones luego de la inicial, se espera que la posición actual sea  ```pos_0 + 12 + 1 = 23```:"
   ]
  },
  {
   "cell_type": "code",
   "execution_count": 289,
   "metadata": {},
   "outputs": [
    {
     "data": {
      "text/plain": [
       "23"
      ]
     },
     "execution_count": 289,
     "metadata": {},
     "output_type": "execute_result"
    }
   ],
   "source": [
    "file_0.tell()"
   ]
  },
  {
   "cell_type": "markdown",
   "metadata": {},
   "source": [
    "Que comprueba lo anterior."
   ]
  },
  {
   "cell_type": "markdown",
   "metadata": {},
   "source": [
    "**Ejercicio**\n",
    "\n",
    "El objetivo de este ejercicio es leer y escribir un archivo simultáneamente, haciendo uso de ```.seek()```.\n",
    "\n",
    "1. Cargue el archivo ```ejercicio_1``` en la carpeta de trabajo actual, en modo de lectura y escritura.\n",
    "2. Añada el titulo dado por la variable ```title```, en la primera linea. Para ello:\n",
    "    1. Genere una variable auxiliar que permita añadir el texto ```title``` al comienzo del texto asociado al archivo ```ejercicio_1```.\n",
    "    2. Vaya a la posición adecuada del archivo por medio de ```.seek()``` y escriba el valor de la variable auxiliar. ¿Qué ocurre si no utiliza ```.seek()```?\n",
    "    3. Cierre la conexión al archivo ```ejercicio_1```.\n",
    "3. El parámetro 'a+' permite abrir un archivo para agregar contenido al final de este (append) por medio del método ```.write()```. Abra una conexión al archivo ```ejercicio_1``` recientemente modificado. Añada al final de este archivo, el contenido de la variables ```obs```. ¿En qué se diferencia con abrir el archivo en modo escritura e insertar texto utilizando ```.seek()```?"
   ]
  },
  {
   "cell_type": "code",
   "execution_count": 408,
   "metadata": {},
   "outputs": [],
   "source": [
    "title = \"PROYECTO DE TREN INSTANTANEO\"\n",
    "\n",
    "obs = \"\\n Observacion: este tipo de tren (directo) \\n \"\n",
    "obs += \"sirve solo para viajes de ida\"  "
   ]
  }
 ],
 "metadata": {
  "kernelspec": {
   "display_name": "Python 3",
   "language": "python",
   "name": "python3"
  },
  "language_info": {
   "codemirror_mode": {
    "name": "ipython",
    "version": 3
   },
   "file_extension": ".py",
   "mimetype": "text/x-python",
   "name": "python",
   "nbconvert_exporter": "python",
   "pygments_lexer": "ipython3",
   "version": "3.8.2"
  }
 },
 "nbformat": 4,
 "nbformat_minor": 4
}
