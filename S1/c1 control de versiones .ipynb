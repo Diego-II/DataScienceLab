{
 "cells": [
  {
   "cell_type": "markdown",
   "metadata": {},
   "source": [
    "# MA6202: Laboratorio de Ciencia de Datos\n",
    "**Profesor: Nicolás Caro** \n",
    "\n",
    "**12/03/2020 - C2 S1** "
   ]
  },
  {
   "cell_type": "markdown",
   "metadata": {},
   "source": [
    "## Control de Versiones con Git\n",
    "\n",
    "Un **sistema de control de versiones** es una herramienta que permite registrar cambios realizados en carpetas y archivos de interés. Con tal registro es posible deshacer errores y colaborar de manera sincronizada. \n",
    "\n",
    "Dentro de los sistemas de control de versiones existentes (Monotone, Mercurial, BitKeeper, ...), Git emerge como uno de los más eficientes en cuanto a rendimiento y usabilidad. \n",
    "\n",
    "El origen de este sistema se remonta al año 2005 como una alternativa a Bitkeeper en el desarrollo del kernel linux. Hoy aparece como una alternativa libre y de código abierto, fácil de aprender y con alto rendimiento. Es posible encontrar documentación de libre acceso en https://git-scm.com/. \n",
    "\n",
    "La instalación de Git es estándar, una vez realizada, es necesario configurar la identidad de quien lo va a utilizar, esto se hace por medio de:\n",
    "\n",
    "```\n",
    "$ git config --global user.name \"Nombre-Usuario\"\n",
    "$ git config --global user.email mail@ejemplo.xyz\n",
    "```"
   ]
  },
  {
   "cell_type": "markdown",
   "metadata": {},
   "source": [
    "## Funcionamiento \n",
    "\n",
    "Los proyectos manejados por medio de Git consisten en un conjunto de carpetas y archivos sobre los cuales se desea trabajar, al cual se agrega una carpeta oculta ```.git```. En esta carpeta, se almancenan los cambios realizados en el sistema de archivos y carpetas inicial. Un sistema de archivos junto con una carpeta oculta ```.git``` (debidamente estructurada) se denomina **repositorio**. \n",
    "\n",
    "Existen distintas maneras de inicializar un repositorio. Así, para inicializar un nuevo repositorio *repo-name* en la carpeta actual (*current working directory*) se ejecuta:\n",
    "\n",
    "```\n",
    "$ git init repo-name\n",
    "```\n",
    "\n",
    "Donde *repo-name* corresponde al nombre del repositorio que se desea crear. Por otra parte, es posible **clonar** (o simplemente copiar) un repositorio existente, por ejemplo ubicado en *ruta/al/repo* (pudiendo ser tal ruta una dirección tanto local como remota), por medio de:\n",
    "\n",
    "```\n",
    "$ git clone /ruta/al/repo\n",
    "```\n",
    "\n",
    "## Primeros Pasos\n",
    "\n",
    "\n",
    "Una operación bastante simple de entender es el comando ```status```, este permite, como su nombre lo indica, tener una idea del estado actual del repositorio. Este se ejecuta por medio del comando \n",
    "\n",
    "```\n",
    "$ git status\n",
    "```"
   ]
  },
  {
   "cell_type": "markdown",
   "metadata": {},
   "source": [
    "**Ejercicio** \n",
    "1. Clone el repositorio **poner repo**.\n",
    "2. Convierta la carpeta ```version_control``` en un repositorio aparte. \n",
    "3. Ejecute ```git status ```."
   ]
  },
  {
   "cell_type": "markdown",
   "metadata": {},
   "source": [
    "Git permite llevar un registro selectivo de los cambios del proyecto, visto de manera sencilla, se puede decir que existen archivos *no seguidos* **untracked**, seguidos **tracked** y consolidados **commited**. Dentro de estos, un archivo consolidado, es aquel que ha sido modificado y ha sido aprobado para formar parte integra del repositorio. \n",
    "\n",
    "Por otra parte, para comprender la diferencia entre archivos **untracked** y **tracked**, es necesario comprender el concepto de *area de montaje* o **staging area**. \n",
    "\n",
    "La staging area consiste en ciertos archivos modificados que aún no han sido aprobados para formar parte del repositorio. Para que un archivo pase a ser parte de la staging area, debe estar *marcado* como tracked, y posteriormente modificado. Finalmente un archivo del repositorio puede no ser marcado como tracked, por lo que al modificarse, no pasa a ser parte del área de montaje. Este tipo de archivos de denota como untracked. \n",
    "\n",
    "El comando ```git status``` muestra las modificaciones hechas en el repositorio, separando entre archivos tracked (cambios en el area de montaje) como untracked (cambios fuera del area de montaje). \n",
    "\n",
    "Para que una modificación pase a ser guardada, y así, posteriormente utilizada para volver a un estado anterior, tal modificación debe ser consolidada o guardada en el repositorio Git. Para ello, se selecciona el archivo con las modificaciones de interés, ```filename``` por ejemplo, este se agrega a la staging area por medio del comando ```git add filename```. Posteriormente, se puede consolidar tal cambio mediante ```git commit```. "
   ]
  },
  {
   "cell_type": "markdown",
   "metadata": {},
   "source": [
    "**Ejercicio**\n",
    "1. Agregue a staging el archivo modificado que indica ```git status```.\n",
    "2. Observe el estado actual del respositorio."
   ]
  },
  {
   "cell_type": "markdown",
   "metadata": {},
   "source": [
    "Una herramienta potente en el sistema Git es el comando ```diff```, este permite obtener una visualización con la cual es posible observar las diferencias entre conjuntos de archivos **en el repositorio**."
   ]
  },
  {
   "cell_type": "markdown",
   "metadata": {},
   "source": [
    "**Ejercicio**\n",
    "\n",
    "1. Agregue en la penultima linea del archivo ```ejemplo_1.py```, el siguiente texto: ```#eval() permite ejecutar strings arbitrarios como código Python. Acepta un string fuente y entrega un objecto```.\n",
    "2. Borre la segunda linea del archivo.\n",
    "3. Observe el estado actual del repositorio.\n",
    "4. Ejecute ```git diff``` ¿qué ocurre?¿en qué se diferencia con ```git status```?"
   ]
  },
  {
   "cell_type": "markdown",
   "metadata": {},
   "source": [
    "En este cao, ```a``` y ```b``` indican la primera y segunda versión del archivo mostrado. Las lineas con ```-``` indican lineas borradas, mientras que ```+``` indica lineas agregadas. La sección demarcada con ```@@``` contiene coordenadas ```linea inicio, numero de lineas```. \n",
    "¿Cómo se interpreta el reporte del ejercicio anterior?"
   ]
  },
  {
   "cell_type": "markdown",
   "metadata": {},
   "source": [
    "Como se mencionó anteriormente, los cambios se consolidan en el repositorio por medio de la orden ```git commit```. Este comando guarda todos los cambios registrados en el area de montaje, al consolidar estos cambios, es obligatorio ingresar un mensaje que resuma los cambios generados. De esta manera, al colaborar o volver a modificar el archivo, se sabe que se ha hecho y quien lo ha hecho. La forma de consolidar cambios es entonces:\n",
    "\n",
    "```git commit -m \"mensaje usando comillas\"```"
   ]
  },
  {
   "cell_type": "markdown",
   "metadata": {},
   "source": [
    "**Ejercicio** \n",
    "\n",
    "1. Consolide los cambios realizados en el repositorio agregando un mensaje coherente.\n",
    "\n",
    "2. Agregue en la segunda linea del archivo el texto ```Autor:______```. \n",
    "\n",
    "3. Observe el estado del repositorio y agrege el archivo correspondiente al área de montaje. \n",
    "\n",
    "4. ¿Qué espera como resultado de ```git diff```?"
   ]
  },
  {
   "cell_type": "markdown",
   "metadata": {},
   "source": [
    "```diff``` permite comparar modificaciones entre el estado actual del repositorio y los cambios propuestos en el área de montaje. Para esto se utiliza el flag ```-r``` que hace alución a *revision*, si queremos comparar la revisión actual utilizamos la convención ```HEAD```. "
   ]
  },
  {
   "cell_type": "markdown",
   "metadata": {},
   "source": [
    "**Ejercicio**\n",
    "\n",
    "1. Compare los cambios del repositorio en su estado actual con los propuestos en el area de montaje.\n",
    "\n",
    "2. Ejecute el script ```ejemplo_1.py```.\n",
    "\n",
    "3. Observe el estado del repositorio y agregue algún archivo al área de montaje de ser necesario.\n",
    "\n",
    "4. Compare nuevamente los cambios propuestos en el área de montaje con respecto al estado actual del repositorio. "
   ]
  },
  {
   "cell_type": "markdown",
   "metadata": {},
   "source": [
    "Para observar el rgistro de cambios se utiliza ```git log```, al ejecutar este comando se aprecia la estructura de un commit: este consta de un autor, momento de realización de la modificación y un **hash** identificador del cambio. "
   ]
  },
  {
   "cell_type": "markdown",
   "metadata": {},
   "source": [
    "**Ejercicio**\n",
    "\n",
    "1. Consolide los ultimos cambios al repositorio. \n",
    "2. Estudie el registro de cambios.\n",
    "3. Estudie el registro de cambios solo para el archivo ```ejemplo_1.py```."
   ]
  },
  {
   "cell_type": "markdown",
   "metadata": {},
   "source": [
    "### Discusión: Estructura de Archivos"
   ]
  },
  {
   "cell_type": "markdown",
   "metadata": {},
   "source": [
    "**Ejercicio**\n",
    "\n",
    "¿Cómo se manejan los archivos en un repositorio Git?\n",
    "\n",
    "**A)** Git lleva un registro archivo a archivo.\n",
    "\n",
    "**B)** Git lleva un registro completo del repositorio.\n",
    "\n",
    "**C)** Ambas."
   ]
  },
  {
   "cell_type": "markdown",
   "metadata": {},
   "source": [
    "Como se discutió, cada commit tiene su propio identificador **hash**. Para analizar un commit especifico, se puede utilizar el comando ```git show n-hash``` donde ```n-hash``` son los primeros $n$ caracteres del identificador hash. Git puede reconocer un commit con 4 a 8 caracteres en función del tamaño del repositorio."
   ]
  },
  {
   "cell_type": "markdown",
   "metadata": {},
   "source": [
    "**Ejercicio**\n",
    "\n",
    "1. Estudie un commit a elección. ¿Como se relaciona la información mostrada con ```git log``` y ```git diff```? \n",
    "2. Ejecute el comando ```git show HEAD~1``` ¿qué permite la sintaxis ```HEAD~1```?\n",
    "3. Ejecute ```git annotate ejemplo_1.py``` ¿qué permite este comando?\n"
   ]
  },
  {
   "cell_type": "markdown",
   "metadata": {},
   "source": [
    "Para comparar dos commits, se puede usar el operador ```..```"
   ]
  },
  {
   "cell_type": "markdown",
   "metadata": {},
   "source": [
    "**Ejercicio**\n",
    "1. Compare 2 commits por medio de ```git diff hash_1..hash_2```\n",
    "2. ¿Es posible comparar el estado del repositorio actual con el estado un commit atras? (haga memoria)"
   ]
  },
  {
   "cell_type": "markdown",
   "metadata": {},
   "source": [
    "En algunos proyectos, como producción de archivos en LaTex, se generan archivos colaterales como logs y pdfs. Es posible ignorar este tipo de archivos en el repositorio. Para ello se genera un archivo ```.gitignore``` en la carpeta raiz listando archivos y carpetas no deseados en cada linea."
   ]
  },
  {
   "cell_type": "markdown",
   "metadata": {},
   "source": [
    "**Ejercicio**\n",
    "1. Modifique el script de python ```ejemplo_1.py``` para que genere archivos ```.xtx```. \n",
    "\n",
    "2. Consolide el cambio.\n",
    "\n",
    "3. Agregue la indicación de ignorar archivos tipo ```.xtx``` y consolide.\n",
    "\n",
    "4. Ejecute ```ejemplo_1.py```. ¿ En que se diferencia un archivo no rastreado con uno ignorado ?"
   ]
  },
  {
   "cell_type": "markdown",
   "metadata": {},
   "source": [
    "### Deshacer Cambios\n",
    "\n",
    "¿Qué ocurre si se agrega accidentalmente un archivo al área de montaje? en este caso se pude utilizar ```git reset HEAD```. \n",
    "\n",
    "Si por otra parte, el archivo ```folder/file``` ya fue consolidado y se desean revertir los cambios, es posible usar el comando ```git checkout -- folder/file```. En este caso el operador ```--``` debe ser aplicado. \n",
    "\n",
    "reset -> unstage\n",
    "\n",
    "checkout -> eliminar cambios\n"
   ]
  },
  {
   "cell_type": "markdown",
   "metadata": {},
   "source": [
    "**Ejercicio**\n",
    "\n",
    "1. Introduzca un error en ```ejemplo_1.py``` y agreguelo al area de montaje.\n",
    "2. Deshaga lo anterior utilizando reset y checkout.\n"
   ]
  },
  {
   "cell_type": "markdown",
   "metadata": {},
   "source": [
    "Al igual que ```diff```, el comando ```checkout``` puede realizar múltiples funciones. Es conveniente pensar el comando ```checkout``` como una función de carga o **load**. Es posible volver a una versión (commit) anterior de cierto archivo utilizando la sintaxis:\n",
    "\n",
    "```git checkout commit-hash folder/file```"
   ]
  },
  {
   "cell_type": "markdown",
   "metadata": {},
   "source": [
    "**Ejercicio**\n",
    "\n",
    "1. Vuelva el archivo ```ejemplo_1.py``` a su versión original. ¿Es necesario hacer un commit del cambio? (en caso de ser necesario no lo haga)."
   ]
  },
  {
   "cell_type": "markdown",
   "metadata": {},
   "source": [
    "De manera más radical, es posible volver al estado inicial de todo el repositorio, en este caso, se quede limpiar el area de montaje por medio de ```git reset HEAD``` (o simplemente ```git reset```) tambien se puede indicar una carpeta por medio de \n",
    "```git reset HEAD folder```. Análogamente, se puede con ```git checkout -- folder``` para restaurar una carpeta o ```git checkout -- .``` para restaurar todo el repositorio."
   ]
  },
  {
   "cell_type": "markdown",
   "metadata": {},
   "source": [
    "**Ejercicio**\n",
    "\n",
    "1. Elimine los cambios propuestos en el ejercicio anterior del área de montaje.\n",
    "\n",
    "2. Restaure todo el repositorio. ¿En que versión del repositorio nos encontramos?"
   ]
  },
  {
   "cell_type": "markdown",
   "metadata": {},
   "source": [
    "### Discusión: Branches y Colaboración\n",
    "\n",
    "```git branch``` permite ver las ramas disponibles en el repositorio mientras que ```git branch new-branch``` permite crear la rama *new-branch*. Para cargar la nueva rama, hacemos uso de ```git checkout new-branch```."
   ]
  },
  {
   "cell_type": "markdown",
   "metadata": {},
   "source": [
    "**Ejercicio**\n",
    "\n",
    "1. Cree la rama ```new_dict```, en esta rama, modifique el archivo ```ejemplo_1.py```, de manera tal que genere un diccionario con distintos atributos. \n",
    "\n",
    "2. Consolide los cambios."
   ]
  },
  {
   "cell_type": "markdown",
   "metadata": {},
   "source": [
    "Para comparar las diferencias entre ramas, se utiliza ```git diff branch_1..branch_2```. Así se pasan a comparar los cambios de cada rama vista cada una como un reposiorio, por tanto, se comparan unicamente los cambios consolidados."
   ]
  },
  {
   "cell_type": "markdown",
   "metadata": {},
   "source": [
    "**Ejercicio**\n",
    "\n",
    "1. Compare las ramas ```master``` y ```new_dict```."
   ]
  },
  {
   "cell_type": "markdown",
   "metadata": {},
   "source": [
    "Un atajo para crear una nueva rama y acceder inmediatamente es el comando: \n",
    "```git checkout -b new-branch```"
   ]
  },
  {
   "cell_type": "markdown",
   "metadata": {},
   "source": [
    "La gran ventaja de trabajar con ramas viene de unir posteriormente los resultados y registros, esto se denomina **merging**. Para unir dos ramas se utiliza el comando:\n",
    "\n",
    "```git merge source_branch destination_branch```"
   ]
  },
  {
   "cell_type": "markdown",
   "metadata": {},
   "source": [
    "**Ejercicio**\n",
    "\n",
    "1. Cree una copia de ```ejemplo_1.py``` llamada ```ejemplo_nd.py``` en la rama ```new_dict```.\n",
    "\n",
    "2. Una la rama ```master``` y la rama ```new_dict```. "
   ]
  },
  {
   "cell_type": "markdown",
   "metadata": {},
   "source": [
    "Finalmente, es posible que existan colisiones en el trabajo realizado dentro de distintas ramas, estas se denominan **conflictos** y Git ofrece una herramienta para solucionarlos."
   ]
  },
  {
   "cell_type": "markdown",
   "metadata": {},
   "source": [
    "**Ejercicio**\n",
    "\n",
    "1. Cambie el ```atributo_1``` del diccionario correspondiente al script ```ejemplo_nd.py``` en las ramas ```master``` y ```new_dict``` de manera que tengan distintos valores.\n",
    "\n",
    "2. Intente unir ambas ramas luego de consolidar los cambios en cada una."
   ]
  },
  {
   "cell_type": "markdown",
   "metadata": {},
   "source": [
    "Para resolver los conflictos, se edita el archivo afectado, seleccionado que es lo que se desea mantener."
   ]
  },
  {
   "cell_type": "markdown",
   "metadata": {},
   "source": [
    "**Ejercicio**\n",
    "\n",
    "1. Localice los archivos conflictivos.\n",
    "2. Edite tales archivos. \n",
    "3. Agregue los cambios al area de montaje.\n",
    "4. Consolide los cambios."
   ]
  },
  {
   "cell_type": "markdown",
   "metadata": {},
   "source": [
    "### Epilogo: Repositorios Remotos\n",
    "\n",
    "Ya sabemos iniciar repositorios y clonarlos. En el segundo caso, Git registra el repositorio original del cual se obtuvo un clon, tal repositorio original se denota como **remoto**. Tal información se almacena con un nombre y una dirección (local o url). \n",
    "\n",
    "El comando ```git clone ruta``` permite nombrar el repositorio clonado por medio de ```git clone ruta nombre_clon```. \n"
   ]
  },
  {
   "cell_type": "markdown",
   "metadata": {},
   "source": [
    "**Ejercicio**\n",
    "\n",
    "1. Salga del repositorio actual y clónelo a uno nuevo con el nombre ```version_clon```. \n",
    "\n",
    "2. Ingrese al nuevo repositorio y ejecute ```git remote```. ¿Que ocurre si ejecuta ```git remote``` en el repositorio ```version_control```?"
   ]
  },
  {
   "cell_type": "markdown",
   "metadata": {},
   "source": [
    "La ventaja de este sistema de almacenamiento de rutas remotas, es que permite sincronizar el trabajo tanto en una máquina local, como en colaboraciones por medio de internet. \n",
    "\n",
    "La comunicación entre repositorios se hace por medio de intrucciones especiales, una de ellas es ```pull```. \n",
    "\n",
    "```pull``` permite obtener el registro de cambios de un repositorio remoto, e incluso, una rama de tal repositorio. La sintaxis es:\n",
    "\n",
    "```git pull repo_remoto rama```\n",
    "\n",
    "Con este comando, se toma toda la información del repositorio ```repo_remoto``` y se une directamente con el repositorio actual (*merging*)."
   ]
  },
  {
   "cell_type": "markdown",
   "metadata": {},
   "source": [
    "**Ejercicio** \n",
    "\n",
    "1. Cree una un script de Python que imprima la frase \"Hola Pull\" en el repositorio ```version_control```. \n",
    "\n",
    "2. Haga un pull desde ```version_clon``` de los cambios hechos en ```version_control```.\n"
   ]
  },
  {
   "cell_type": "markdown",
   "metadata": {},
   "source": [
    "De manera simétrica, es posible enviar cambios a un repositorio remoto, esto se hace por medio de ```git push```. La sintaxis es análoga: \n",
    "\n",
    "```git push repo_remoto rama```"
   ]
  },
  {
   "cell_type": "markdown",
   "metadata": {},
   "source": [
    "**Ejercicio**\n",
    "1. Cree un script de python que imprima en pantalla \"Hola push\" en el repositorio ```version_clon```.\n",
    "\n",
    "2. Envíe esos cambios al repositorio de origen."
   ]
  }
 ],
 "metadata": {
  "kernelspec": {
   "display_name": "Python 3",
   "language": "python",
   "name": "python3"
  },
  "language_info": {
   "codemirror_mode": {
    "name": "ipython",
    "version": 3
   },
   "file_extension": ".py",
   "mimetype": "text/x-python",
   "name": "python",
   "nbconvert_exporter": "python",
   "pygments_lexer": "ipython3",
   "version": "3.8.1"
  }
 },
 "nbformat": 4,
 "nbformat_minor": 4
}
