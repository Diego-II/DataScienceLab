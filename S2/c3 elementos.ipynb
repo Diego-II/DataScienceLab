{
 "cells": [
  {
   "cell_type": "markdown",
   "metadata": {},
   "source": [
    "# MA6202: Laboratorio de Ciencia de Datos\n",
    "\n",
    "**Profesor: Nicolás Caro**\n",
    "\n",
    "**23/03/2020 - C3 S2**\n"
   ]
  },
  {
   "cell_type": "markdown",
   "metadata": {},
   "source": [
    "## Elementos de Programación en Python: Estructuras y Métodos Base\n",
    "\n",
    "Python es un lenguaje de programación multipropósito, diseñado para preservar legibilidad y simpleza sintáctica. Sus características y principios lo convierten en un lenguaje poderoso y fácil de aprender.\n",
    "\n",
    "Este lenguaje presenta hoy en día un amplio soporte por parte de la comunidad de ciencia de datos / aprendizaje automático, dándose como resultado, la creación de un gran ecosistema compuesto por librerías abiertas, desarrolladas por terceros (third party packages), el cual crece de manera activa y provee las herramientas necesarias para la investigación en análisis de datos.\n",
    "\n",
    "Nos centraremos en los elementos más relacionados de este lenguaje con la práctica en ciencia de datos. "
   ]
  },
  {
   "cell_type": "markdown",
   "metadata": {},
   "source": [
    "### Tipos de datos\n",
    "\n",
    "Pasamos a revisar algunos tipos de datos de interés:\n",
    "\n",
    "**Strings**: Corresponden a \"hilos\" o expresiones literales, estos pueden ser definidos usando comillas simples ``` ' '``` o dobles ``` \" \"```.\n",
    "\n",
    "**Integers**: Números enteros creados sin parte compleja ni posiciones decimales. En este tipo de de dato es posible realizar las operaciones de división entera."
   ]
  },
  {
   "cell_type": "markdown",
   "metadata": {},
   "source": [
    "**Ejercicio**\n",
    "1. ¿Cuál es la función de los operadores `/`, ```//```, ```%``` y la función ```divmod()``` sobre el tipo de datos entero ?"
   ]
  },
  {
   "cell_type": "markdown",
   "metadata": {},
   "source": [
    "**Floats**: Valores numéricos de punto flotante, pueden ser creados agregando posiciones decimales ej: ```0.87```\n",
    "\n",
    "**Complex**: Números complejos, se pueden crear utilizando la notación ```a + bj``` donde ```a``` es la parte real y ```b``` es la parte compleja."
   ]
  },
  {
   "cell_type": "markdown",
   "metadata": {},
   "source": [
    "### Variables\n",
    "\n",
    "Las variables son un bloque fundamental en la programación, en Python estás se definen por medio de asignaciones según el operador ``` = ```. Vale considerar, que el valor de una variable posee un tipo de datos, mas no se tiene la relación reciproca, vale decir, una variable no posee un tipo  de\n",
    "datos asociado. Lo anterior permite definir el concepto de **Dynamic Typing** es decir, se puede reutilizar la misma variable apuntando a un tipo de dato distinto. (variables como \"nombres\")\n",
    "\n",
    "**Ejemplo:**"
   ]
  },
  {
   "cell_type": "code",
   "execution_count": 29,
   "metadata": {},
   "outputs": [
    {
     "name": "stdout",
     "output_type": "stream",
     "text": [
      "El tipo de dato de a es:  <class 'int'>\n",
      "El tipo de dato de a es:  <class 'str'>\n"
     ]
    }
   ],
   "source": [
    "\"\"\"\n",
    "Como ya deben saber, la función print() permite mostrar información en la linea de comandos, \n",
    "por su parte la función type() permite obtener el tipo de dato con el que se trabaja. Más adelante \n",
    "se estudiarán las funciones y su papel en Python.\n",
    "\"\"\"\n",
    "\n",
    "string = 'El tipo de dato de a es: '\n",
    "a = 10\n",
    "print(string, type(a))\n",
    "\n",
    "a = 'si' \n",
    "print(string, type(a))"
   ]
  },
  {
   "cell_type": "markdown",
   "metadata": {},
   "source": [
    "**Obs**: La flexibilidad en la declaración de variables, no implica flexibilidad en el manejo de tipos de datos, es decir, hay operaciones no permitidas entre tipos de datos distintos (intente elevar un string al cuadrado). En Python existe la **conversión de datos**, esta consiste en cambiar el tipo de dato asociado a cierta variable para realizar las operación que busquemos."
   ]
  },
  {
   "cell_type": "markdown",
   "metadata": {},
   "source": [
    "**Ejercicio**\n",
    "\n",
    "1. ¿Cómo se comporta el operador ```//``` cuando aplica sobre datos tipo ```float```? \n",
    "**Obs:** Es posible transformar un dato entero ```int``` a ```float``` mediante la conversión de datos ```float(int)```. \n",
    "\n",
    "2. Existen al menos 10 métodos de conversión de datos en Python. Enumere 6."
   ]
  },
  {
   "cell_type": "markdown",
   "metadata": {},
   "source": [
    "La variables tipo **bool** \\{True, False\\} permiten operar con las *keywords* ```and```, ```or```, ```not``` e ```is```. Sus nombre son auto explicativos. "
   ]
  },
  {
   "cell_type": "markdown",
   "metadata": {},
   "source": [
    "**Ejercicio**\n",
    "\n",
    "1. Compruebe el valor de de verdad usando ```is``` para los valores ```0```,```1```, ```None``` y ```'no'``` al compararlos con `True` o `False`."
   ]
  },
  {
   "cell_type": "markdown",
   "metadata": {},
   "source": [
    "Las variables booleanas permiten hacer **control de flujo** o *branching*, la estructura de este tipo de sentencias siguen la sintaxis:\n",
    "\n",
    "```python\n",
    "if Expresion_Booleana_0:\n",
    "    Accion_0  #(si Expresion_Booleana_0 es `True`)\n",
    "elif Expresion_Booleana_1:\n",
    "    Accion_1  #(si Expresion_Booleana_1 es `True` y Expresion_Booleana_0 es `False`) \n",
    "else:\n",
    "    Accion_2  #(si Expresion_Booleana_0 y Expresion_Booleana_1 son `False`)\n",
    "```\n",
    "\n",
    "**Obs:** Puede usarse la expresión ```elif``` tantas veces como sea requerido dentro del control de flujo ```if```. La keyword ```else``` finaliza el el flujo y es opcional. Es decir, se puede hacer\n",
    "un control de flujo sin utilizar ```elif``` no ```else```.\n",
    "\n",
    "Es posible observar que bajo cada expresión ```if```, ```elif``` o ```else```, se ejecutan las acciones correspondientes según un **bloque indentado**. En Python, cada linea de código pertenece a un *bloque*, cada bloque posee un nivel de jerarquía: en el caso del control de flujo, cada keyword define un bloque bajo ella, cada uno de esos bloques, por separado, tiene la misma jerarquía. Sin embargo, están a un nivel de jerarquía distinto que el bloque donde se escribe la keyword ```if``` por si misma. Los bloques de código deben indentarse (según el estándar [PEP-8](https://www.python.org/dev/peps/pep-0008/), esto significa utilizar 4 espacios de profundidad según la profundidad del bloque). \n",
    "\n",
    "A diferencia de C, en Python no hay indicadores de fin de linea, por tal motivo (y por la filosofía Zen de Python - ejecute ```import this```) se utiliza un sistema basado en indentación. "
   ]
  },
  {
   "cell_type": "markdown",
   "metadata": {},
   "source": [
    "### Secuencias contenedoras\n",
    "\n",
    "Python permite manejar *contenedores* de manera sencilla. Un **contenedor** (o colección) es una \n",
    "estructura que permite almacenar tipos de datos, permiten operaciones de agregación. ordenación, mapeos y filtros, entre otras. A su vez, pueden ser **mutables** (listas, conjuntos), que en palabras simples, permiten adición, eliminación y modificación de sus elementos. Como contraparte, los contenedores pueden ser **inmutables** (tuplas). Finalmente, es posible **iterar** sobre estas estructuras y calcular operaciones de reducción sobre estas (promedios, medianas, sumas, etc ...), por tal motivo, los contenedores están íntimamente relacionados con la programación en Python para el análisis de datos. A continuación se estudian ciertas secuencias contenedoras de interés."
   ]
  },
  {
   "cell_type": "markdown",
   "metadata": {},
   "source": [
    "### Listas\n",
    "\n",
    "Las listas son objetos mutables, que permiten almacenar y ordenar datos. Este tipo de estructura tiene ciertas funcionalidades asociadas."
   ]
  },
  {
   "cell_type": "markdown",
   "metadata": {},
   "source": [
    "**Ejemplo**\n",
    "\n",
    "* Creación de una lista vacía."
   ]
  },
  {
   "cell_type": "code",
   "execution_count": null,
   "metadata": {},
   "outputs": [],
   "source": [
    "# Creación de una lista vacia\n",
    "l_0 = []\n",
    "print(l_0)\n",
    "\n",
    "l_1 = list()\n",
    "print(l_1)\n",
    "\n",
    "# El operador '==' permite comparar 2 variables, entregando True cuando estás son iguales.\n",
    "# ¿Qué diferencia hay entre '==' e 'is' ?\n",
    "l_0 == l_1"
   ]
  },
  {
   "cell_type": "markdown",
   "metadata": {},
   "source": [
    "* Inicialización de listas."
   ]
  },
  {
   "cell_type": "code",
   "execution_count": null,
   "metadata": {},
   "outputs": [],
   "source": [
    "# Se utilizan 'brackets'\n",
    "l = ['a',1,'asdf',2.2]\n",
    "l\n",
    "\n",
    "# No requeire homogeneidad en los tipos de datos"
   ]
  },
  {
   "cell_type": "markdown",
   "metadata": {},
   "source": [
    "**Ejercicios** \n",
    "\n",
    "La idea de este set ejercicios es comprender las funcionalidades de ```append()```, ```extend()```,\n",
    "```index()``` y ```pop()```.\n",
    "\n",
    "1. Inicialice un lista (puede ser no homogénea) en la variable ```l```.\n",
    "2. Utilice la funcionalidad ```.extend()``` de la lista ```l``` para añadir los elementos 'rk' y 'hs' (en una linea de código), luego imprima la la lista.\n",
    "3. Utilice la funcionalidad ```.index()``` de la lista ```l``` para encontrar la posición del elemento 'rk', guarde el resultado como ```pos```. Compruebe accediendo a la posición utilizando ```l[*]```.\n",
    "4. Utilice la funcionalidad ```.pop()``` de la lista ```l``` con la posición ```pos```, para eliminar 'rk' de la lista. \n",
    "5. Imprima en pantalla la lista ```l```.\n",
    "6. Las operaciones **in place** permiten modificar una estructura mutable sin almacenar el resultado de la operación en una nueva (o eventualmente la misma) variable. (Es decir `X.operacion()` modifica directamente `X`, en vez de hacer `X = X.operacion()`) ¿Hay operaciones *in place* en los ejercicios anteriores?, ¿ tiene alguna ventaja utilizar funcionalidades/operaciones *in place*?.\n",
    "\n",
    "**Obs:** las secuencias contenedoras son un caso particular de **objetos** Python, ejemplos de objetos son las funciones (¡si, lo son!) y los tipos de datos. Una funcionalidad (o función) perteneciente \n",
    "a un objeto se denomina **método**. No existe ninguna diferencia operativa entre método y función, más que la pertenencia a un objeto. Las funcionalidades ```append()```, ```extend()```,\n",
    "```index()``` y ```pop()``` son entonces métodos del objeto lista ```l```. \n",
    "\n",
    "**Obs:** De igual manera se puede decir que un método se asocia a una **clase**, de la cual un **objeto** es una **instancia**. Ésto se estudiará con más detenimiento en la siguiente cátedra."
   ]
  },
  {
   "cell_type": "markdown",
   "metadata": {},
   "source": [
    "### Tuplas\n",
    "\n",
    "Las tuplas siguen el mismo principio de las listas en cuanto a almacenar datos, no obstante, a diferencia de las listas, las tuplas son inmutables. Una ventaja sobre las listas, es que son \n",
    "más eficientes computacionalmente y son más ligeras. "
   ]
  },
  {
   "cell_type": "markdown",
   "metadata": {},
   "source": [
    "**Ejemplo**\n",
    "\n",
    "* Creación de una tupla vacía."
   ]
  },
  {
   "cell_type": "code",
   "execution_count": null,
   "metadata": {},
   "outputs": [],
   "source": [
    "t_0 = ()\n",
    "print(t_0)\n",
    "t_1 = tuple()\n",
    "print(t_1)"
   ]
  },
  {
   "cell_type": "markdown",
   "metadata": {},
   "source": [
    "* Inicialización de tuplas."
   ]
  },
  {
   "cell_type": "code",
   "execution_count": null,
   "metadata": {},
   "outputs": [],
   "source": [
    "# Se utilizan 'parentesis'\n",
    "t = ('a',1,'asdf',2.2)\n",
    "t\n",
    "\n",
    "# No requeire homogeneidad en los tipos de datos"
   ]
  },
  {
   "cell_type": "markdown",
   "metadata": {},
   "source": [
    "Tuplas y listas comparten el acceso a sus elementos por medio de la sintaxis ```[*]```. Tanto tuplas como las listas se pueden \"desempacar\", el termino *pythonico* es **unpacking** y consiste en la asignación por medio de **pattern matching**:"
   ]
  },
  {
   "cell_type": "code",
   "execution_count": null,
   "metadata": {},
   "outputs": [],
   "source": [
    "# Unpacking de tuplas\n",
    "a, b = ('e_1', 'e_2')\n",
    "print('a y b desempacados:' ,a,' ',b)"
   ]
  },
  {
   "cell_type": "markdown",
   "metadata": {},
   "source": [
    "Al igual que las listas, se puede hacer **Slicing** con tuplas, esto quiere decir, acceder a los datos contenidos en el contenedor por medio de la sintaxis ```[*]```. A modo de ejemplo, es posible acceder al último elemento de una lista/tupla por medio de ```lista[-1]```. La sintaxis de subíndices ```:``` permite hacer consultas más complejas. Así, se tiene una tupla (o lista) ```t``` se puede acceder a sus elementos por medio de ```t[index_start:index_end]``` donde ```index_start``` corresponde al indice del primer elemento que se desea obtener, mientras que \n",
    "```index_end``` corresponde al indice **siguiente** al último elemento que se quiere obtener, si se omite uno de estos valores, significa que se comienza desde el indice 0 (ausencia de ```index_start```) o se llega hasta el último indice (ausencia de ```index_end```) según corresponda."
   ]
  },
  {
   "cell_type": "markdown",
   "metadata": {},
   "source": [
    "**Ejemplo**\n",
    "\n",
    "Se tiene la tupla ```t```, es posible acceder a sus elementos usando ```[]``` en conjunto con la \n",
    "sintaxis ```:```:"
   ]
  },
  {
   "cell_type": "code",
   "execution_count": null,
   "metadata": {},
   "outputs": [],
   "source": [
    "t = (1,2,3,4,5)\n",
    "\n",
    "# Primer elemento\n",
    "print('Primer elemento',t[0])\n",
    "\n",
    "# Último elemento\n",
    "print('Último elemento',t[-1])\n",
    "\n",
    "# Desde el primer al penultimo elemento\n",
    "print('Desde el primer al penultimo elemento',t[:-1])\n",
    "\n",
    "# Todos los elementos\n",
    "print('Todos los elementos',t[:]) # Equivalente a t\n",
    "\n",
    "# Desde el segundo al ultimo elemento\n",
    "print('Desde el segundo al ultimo elemento',t[1:]) "
   ]
  },
  {
   "cell_type": "markdown",
   "metadata": {},
   "source": [
    "Por otra parte existe la sintaxis ```::```, en este caso los primeros dos elementos no cambian su significado y el tercer elemento representa un *paso* o *tamaño de salto*, así, la notación ```t[::3]``` significa tomar todos los elementos de ```t``` cada 3 posiciones."
   ]
  },
  {
   "cell_type": "markdown",
   "metadata": {},
   "source": [
    "**Ejercicio**\n",
    "\n",
    "1. Confirme lo anterior."
   ]
  },
  {
   "cell_type": "markdown",
   "metadata": {},
   "source": [
    "Frecuentemente, se busca acceder a pares de elementos, en este caso la función ```zip()``` juega un papel fundamental. Ésta función toma como argumento dos o mas **iterables** y los agrega indice por indice entregando como resultado un **iterator**. Se puede pensar en las estructuras del tipo *iterator* como secuencias o arreglos, sobre los que se puede recorrer elemento por elemento (sin retroceder), o sobre los que existe una regla de de avance partiendo desde 0 (como una sucesión de la forma $(x_n)_{n \\in \\mathbb{N}}$) una vez recorrido todo el arreglo, el *iterator* es destruido. Por su parte, un *iterable* es cierto tipo de objeto que es capaz de producir un *iterator*. Estos conceptos se estudiarán con más profundidad posteriormente. \n",
    "\n",
    "En este contexto, ```zip()``` se puede pensar como una función que recibe dos o más arreglos (en el sentido clásico) y entrega una lista de tuplas, cada una de las cuales, posee un u elemento de cada arreglo. "
   ]
  },
  {
   "cell_type": "markdown",
   "metadata": {},
   "source": [
    "**Obs:** ```zip()``` entrega un tipo de dato ```zip object``` que como se vio anteriormente es un **iterator** sin embargo, este se comporta como una lista de tuplas, basta aplicar la conversión de datos ```list()``` para observarlo:"
   ]
  },
  {
   "cell_type": "code",
   "execution_count": null,
   "metadata": {},
   "outputs": [],
   "source": [
    "arr_1 = ['ayer', 'un', 'era', 'mal']\n",
    "arr_2 = ['vi', 'camaleon', 'un', 'camaleon']\n",
    "\n",
    "res = zip(arr_1, arr_2)\n",
    "print('Tipo de objeto res:', res, '\\n')  # '\\n' permite saltar de linea\n",
    "\n",
    "print('Conversión de tipo de dato natural:', '\\n', list(res))"
   ]
  },
  {
   "cell_type": "markdown",
   "metadata": {},
   "source": [
    "**Ejercicio**\n",
    "\n",
    "1. Utilice la función ```zip()``` con las listas , ```novel```, ```aut``` y ```year``` para generar un objeto tipo ```zip``` llamado ```zip_obj```. Imprima en pantalla una lista de tuplas utilizando la conversión de tipo de datos adecuada sobre ```zip_obj```."
   ]
  },
  {
   "cell_type": "code",
   "execution_count": null,
   "metadata": {},
   "outputs": [],
   "source": [
    "novel = ['In Search of Lost Time','Ulysses','Don Quixote']\n",
    "aut = ['Marcel Proust','James Joyce','Miguel de Cervantes']\n",
    "year = [1913,1918,1605] "
   ]
  },
  {
   "cell_type": "markdown",
   "metadata": {},
   "source": [
    "Según la discusión anterior, se describió los objetos tipo iterator por su capacidad de ser recorridos de manera ordenada. Esto es equivalente a decir, permiten **iterar**, en el sentido abstracto. Python posee *ciclos* o **loops** que permiten trabajar sobre estructuras *iterables*.\n",
    "\n",
    "En este apartado se encuentran: \n",
    "\n",
    "**While:** un ciclo ```while``` permite realizar una ```acción``` en función del valor de verdad de una ```condicion```, su estructura es:\n",
    "\n",
    "```\n",
    "while condicion: # Condición booleana\n",
    "    acción # Bloque indentado\n",
    "```"
   ]
  },
  {
   "cell_type": "markdown",
   "metadata": {},
   "source": [
    "**Ejemplo**"
   ]
  },
  {
   "cell_type": "code",
   "execution_count": null,
   "metadata": {},
   "outputs": [],
   "source": [
    "h = 1\n",
    "while h < 9:\n",
    "    print(h)\n",
    "    h += 1  # operador de asignación in-place, equivale a h = h + 1"
   ]
  },
  {
   "cell_type": "markdown",
   "metadata": {},
   "source": [
    "Los bloques de un ciclo siguen el estándar de indentación que presentó en los controles de flujo, también son compatibles entre si."
   ]
  },
  {
   "cell_type": "markdown",
   "metadata": {},
   "source": [
    "**Ejercicio**\n",
    "\n",
    "1. Considere que está en presencia de un modelo predictivo que posee un error de predicción en entrenamiento inicial de ```e_tr=10``` y en test de ```e_ts=20```. Al aplicar descenso de gradiente sobre mini-batches usted observa que se reduce el error de entrenamiento según la recursión $e_{n+1}^{tr} = e_n^{tr} - \\sqrt{e_n^{tr}}$ por iteración. Por su parte, si el error de entrenamiento está por debajo de 5, el error de test sigue la recursión $e_{n+1}^{ts} = e_n^{ts} + \\frac{1}{2}e_n^{ts}$. Si por el contrario el error de entrenamiento es 5 o más, el error de test se comporta según $e_{n+1}^{ts} = e_n^{ts} - 4\\frac{e_n^{ts}}{e_n^{tr}}$. Una métrica de interés para el equipo es la suma de ambos errores ```e_tr + e_ts``` que comienza siendo 30, es posible observar que esta suma decrece siguiendo el esquema anterior hasta cierto punto. Utilizando un ciclo ```while``` y un control de flujo ```if```-```else```, responda: \n",
    "\n",
    "    * ¿Cuál es el valor de la suma de los errores antes de aumentar por primera vez? \n",
    "    * ¿Cuántas iteraciones ocurrieron antes de que aumentara la suma?"
   ]
  },
  {
   "cell_type": "markdown",
   "metadata": {},
   "source": [
    "**for**: un ciclo ```for``` permite repetir realizar una```acción``` en función de los elementos de un *iterator*. (realiza acciones mientras \"itera\" sobre un objeto)\n",
    "\n",
    "Su estructura sigue el estándar de indentación y corresponde a:\n",
    "\n",
    "```python\n",
    "for var in iterator: \n",
    "    acción # Bloque indentado, acciones, pueden ser acciones en función de var\n",
    "\n",
    "```\n",
    "\n",
    "en este caso ```var``` corresponde a una variable que toma, secuencialmente, los valores del iterator. \n",
    "\n",
    "**Ejemplo**"
   ]
  },
  {
   "cell_type": "code",
   "execution_count": null,
   "metadata": {},
   "outputs": [],
   "source": [
    "it = [1,3,1,'a','c','a']\n",
    "\n",
    "for i in it:\n",
    "    print('Valor en el bloque para i:',i)\n",
    "\n",
    "# La variable del ciclo pasa a ser una variable del entorno de trabajo\n",
    "print('Valor final de i fuera del bloque:',i)"
   ]
  },
  {
   "cell_type": "markdown",
   "metadata": {},
   "source": [
    "Otra función interesante es la que permite enumerar los elementos de una tupla o lista. Esta se denota ```enumerate()``` y retorna, de manera análoga a ```zip()```, un objeto tipo ```enumerate``` que produce una secuencia de tupas, cada una de las cuales está compuesta por un par ordenado ```index``` (int), ```value```, donde ```value``` hace referencia al objeto contenido en la lista o tupla a trabajar."
   ]
  },
  {
   "cell_type": "markdown",
   "metadata": {},
   "source": [
    "**Ejercicios**\n",
    "\n",
    "1. Genere una lista de tuplas a partir de ```novel```, para ello debe hacer una conversión de tipo. Imprima el resultado en pantalla.\n",
    "2. Genere un objeto ```enumerate``` a partir de la variable ```novel```. Recórralo utilizando **un** ciclo ```for ``` de dos variables, para ello haga uso de la técnica de **unpacking** sobre el objeto ```enumerate``` recién creado. En cada iteración del ciclo ```for``` imprima ambas variables en una sola llamada de la función ```print()```.\n",
    "3. Genere un objeto ```zip``` con las variables ```novel``` y```read```, posteriormente genere un objeto ```enumerate``` sobre el objeto ```zip``` anterior. Este \"segundo\" objeto debe generar tuplas que comiencen desde el indice \"10\". Finalmente, imprima en pantalla todos los valores del objeto ```enumerate```generado utilizando. Este ejercicio debe ser ejecutado sin declarar variables fuera de ```novel``` y ```read```, demás debe hacerse en **una linea de código**. (*hint: investigue sobre el operador ` * ` cuando es aplicado sobre iteratos, la keyword ```start``` puede ser de utilidad*)"
   ]
  },
  {
   "cell_type": "code",
   "execution_count": 12,
   "metadata": {},
   "outputs": [],
   "source": [
    "novel = ['In Search of Lost Time','Ulysses','Don Quixote']\n",
    "read = ['yes', 'yes','reading','no']   "
   ]
  },
  {
   "cell_type": "markdown",
   "metadata": {},
   "source": [
    "### Conjuntos\n",
    "\n",
    "Los conjuntos o **sets** son contenedores mutables, no ordenadas de objetos. Están diseñados para comportarse como sus contrapartes matemáticas. Un *frozenset* posee las mismas propiedades, solo que es inmutable."
   ]
  },
  {
   "cell_type": "markdown",
   "metadata": {},
   "source": [
    "**Ejemplo**\n",
    "\n",
    "* Creación de un conjunto vacio."
   ]
  },
  {
   "cell_type": "code",
   "execution_count": null,
   "metadata": {},
   "outputs": [],
   "source": [
    "s_0 = set ()\n",
    "print(s_0)"
   ]
  },
  {
   "cell_type": "markdown",
   "metadata": {},
   "source": [
    "* Inicialización de conjuntos."
   ]
  },
  {
   "cell_type": "code",
   "execution_count": null,
   "metadata": {},
   "outputs": [],
   "source": [
    "# Inicialización nativa\n",
    "s = {'a',1,'asdf',2.2}\n",
    "type(s)\n",
    "# No requeire homogeneidad en los tipos de datos"
   ]
  },
  {
   "cell_type": "code",
   "execution_count": null,
   "metadata": {},
   "outputs": [],
   "source": [
    "#Inicialización por conversión de tipo [Bastante habitual]\n",
    "s = set(['a',1,'asdf',2.2])\n",
    "type(s)"
   ]
  },
  {
   "cell_type": "markdown",
   "metadata": {},
   "source": [
    "A diferencia de las tuplas y listas, los conjuntos no son ordenados, por lo que el slicing y acceso por indices ```[]``` no tiene sentido en estas estructuras."
   ]
  },
  {
   "cell_type": "markdown",
   "metadata": {},
   "source": [
    "**Ejercicios**\n",
    "\n",
    "1. Cree una lista con elementos repetidos, transfórmela en un conjunto, imprima los elementos de la lista y del conjunto. ¿Hay alguna diferencia?\n",
    "2. Genere dos conjuntos ```A``` y ```B```, aplique el método ```A.difference(B)```, ¿es conmutativo este método? ¿A que operación de conjuntos hace referencia? \n",
    "\n",
    "**Obs:** Los métodos ```.intersection()```, .```.union()``` y ```.symmetric_difference()``` son auto explicativos. "
   ]
  },
  {
   "cell_type": "markdown",
   "metadata": {},
   "source": [
    "### Diccionarios\n",
    "\n",
    "Un diccionario corresponde a la implementación pythonica de una aplicación del tipo \"llave - valor\". Un forma de entenderlo es como un *arreglo asociativo*, este tipo de estructuras son de vital importancia en ciencia de datos pues entregan los cimientos para el trabajo con estructuras de datos más complejas. \n",
    "\n",
    "**Ejemplo**\n",
    "\n",
    "* Creación de un conjunto vacio."
   ]
  },
  {
   "cell_type": "code",
   "execution_count": null,
   "metadata": {},
   "outputs": [],
   "source": [
    "d_0 = {}\n",
    "print(type(d_0))\n",
    "d_1 = dict()\n",
    "print(type(d_1))\n",
    "\n",
    "# Un diccionario vacio NO es un conjunto!"
   ]
  },
  {
   "cell_type": "markdown",
   "metadata": {},
   "source": [
    "* Inicialización de diccionarios."
   ]
  },
  {
   "cell_type": "code",
   "execution_count": null,
   "metadata": {},
   "outputs": [],
   "source": [
    "d = {'llave_1':'valor_1', 'llave_2':'valor_2','llave_3':'valor_3'}\n",
    "d"
   ]
  },
  {
   "cell_type": "markdown",
   "metadata": {},
   "source": [
    "Los datos presentes en un diccionario pueden ser accedidos mediante la sintaxis ```[]```, sin embargo, a diferencia de las listas y tuplas, acá se accede por medio de las llaves **presentes** en el diccionario, así, se puede acceder a ```valor_2``` del diccionario ```d``` en la celda anterior, por medio de ```d['llave_2']```. Por otra parte, intentar acceder a ```valor_2``` por medio de ```d[1]``` genera un error, de la misma manera en que lo genera ```d['llave_no_presente']```. Haciendo uso de este tipo de indexado, es posible agregar nuevos valores a un diccionario por medio de:\n",
    "\n",
    "```python\n",
    "diccionario[llave_nueva] = valor_nuevo\n",
    "```\n",
    "\n",
    "En el caso del diccionario ```d```, esto se puede hacer por medio de:"
   ]
  },
  {
   "cell_type": "code",
   "execution_count": null,
   "metadata": {},
   "outputs": [],
   "source": [
    "d['llave_4']='valor_4'\n",
    "d"
   ]
  },
  {
   "cell_type": "markdown",
   "metadata": {},
   "source": [
    "**Obs:** De la misma manera se puede modifcar un valores presente en el diccionario."
   ]
  },
  {
   "cell_type": "markdown",
   "metadata": {},
   "source": [
    "Una manera de verificar si una llave se encuentra en cierto diccionario es por medio de método ```.get()```. Este método toma como argumento el valor de la llave que buscamos y proporciona el valor asociado a esta si que está presente (En caso contrario retorna ```None```)"
   ]
  },
  {
   "cell_type": "code",
   "execution_count": null,
   "metadata": {},
   "outputs": [],
   "source": [
    "print(d.get('llave_4'))\n",
    "print(d.get('llave_5'))"
   ]
  },
  {
   "cell_type": "markdown",
   "metadata": {},
   "source": [
    "**Ejericico**\n",
    "\n",
    "1. Búsque la llave ```'llave_6'``` en el diccionario ```d```. Imprima en pantalla ```'No existe'``` en caso de que no se encuentre (no estará). Haga esto sin utilizar control de flujo y en una linea. (*hint: la keyword 'default', puede ser de utilidad.*)"
   ]
  },
  {
   "cell_type": "markdown",
   "metadata": {},
   "source": [
    "Para obtener las llaves de un diccionario se puede hacer uso del método ```.keys()```. \n",
    "\n",
    "Además de asignar valores a un diccionario por medio de sus llaves, es posible utilizar el método ```.update()``` este permite actualizar el diccionario actual con los valores y llaves de un nuevo diccionario, similar al método ```.extend()``` en listas. (¿En qué se diferencian ```.extend()``` con ```.append()``` cuando se trabaja con listas?).\n",
    "\n",
    "De manera similar a las tuplas y listas, se puede utilizar el método ```.pop()```. Cabe mencionar la instrucción ```del```, en general, esta permite eliminar variables del ambiente de trabajo, su sintaxis es ```del variable```. Python permite eliminar datos de un diccionario (incluyendo la llave) utilizando ```del d['llave']```.\n",
    "\n",
    "Similarmente al acceso de llaves por medio de ```.keys()```, se puede acceder a todo el contenido de un diccionario usando el método ```.items()```, este entrega una lista de tuplas, cada una siendo un par ordenado ```(llave,valor)``` (y por tanto se puede hacer **unpacking** iterando sobre la lista).\n",
    "\n",
    "**Truco:** El operador booleano ```in``` puede ser utilizado para buscar llaves en un diccionario de manera rápida. Por defecto, Python hace la búsqueda en las llaves del diccionario, de tal manera, la consulta \n",
    "```llave in dic``` tiene un valor de verdad asociado a la presencia de \n",
    "la llave consultada en el diccionario. Esto puede ser más rápido que generar una lista de llaves con ```.keys()``` para luego consultarla con algún ciclo o el operador ```in```.\n",
    "\n",
    "Finalmente, los diccionarios pueden ser ordenados, para ello se utiliza la función ```sorted()``` (que también es compatible con listas), en este caso, ```sorted()``` ordena las llaves del diccionario y las retorna como una lista. "
   ]
  },
  {
   "cell_type": "markdown",
   "metadata": {},
   "source": [
    "**Ejercicios**\n",
    "\n",
    "Mutables e inmutables:\n",
    "\n",
    "1. Las listas ```l_1``` y ```l_2``` contienen nombres de tipos de datos, una de esa listas contiene solo tipos de datos mutables y la otra, solo tipos de datos inmutables. Genere un diccionario ```var_dict``` con las llaves 'mutable' e 'inmutable', asigne la lista correspondiente según el tipo de datos que poseen. \n",
    "2. Agregue la lista ```const``` al diccionario ```var_dict``` utilizando la llave 'containers'.\n",
    "3. Un objeto mutable puede pensarse como una *etiqueta* de un espacio de memora, de esta forma, si ```a = mut``` con ```mut``` un objeto mutable, y ```b=a```, entonces, si se altera una propiedad de ```mut```, manteniéndose este mutable, entonces se altera la misma propiedad en la variables ```b```. Elimine la entrada ```'uxvs1234'``` del arreglo ```conts``` mediante alguno de los métodos estudiados y luego imprima el valor de ```var_dict``` en pantalla. Verifique que en efecto, las listas y diccionarios son objetos mutables. \n",
    "4. Recorra el diccionario ```var_dict``` e imprima en pantalla pares ordenados, donde la primera componente será una llave del diccionario y la segunda componente será el último elemento de la lista asociada a esa llave. Utilice dos lineas de código para hacer esta operación. (*hint: unpaking*)\n",
    "5. Transforme var_dict en un diccionario de diccionarios (según esta notación, diríamos que var_dict es actualmente un diccionario de listas). Cada lista sera remplazada por un diccionario de la forma {0: l[0], ..., n - 1: l[-1]} con n el largo de la lista. Para ello, genere una enumeración de las listas correspondientes a cada valor de var_dict y actualice los valores de var_dict . Utilice dos lineas de código para hacer esta operación. (hint: Componga una conversión de datos con una enumeración. Utilice el método de la pregunta anterior.)\n",
    "\n",
    "6. En una linea de código, elimine la llave ```'mutable'``` y almacene su contenido en la variable ```mut```.(*hint: genero musical*)\n",
    "\n",
    "**Obs:** Como regla general, cualquier objeto que permita modificar sus propiedades (o datos contenidos) es un buen candidato a un objeto mutable."
   ]
  },
  {
   "cell_type": "code",
   "execution_count": null,
   "metadata": {},
   "outputs": [],
   "source": [
    "l_1 = ['int','string','float','bool','bytes','tuple','frozenset']\n",
    "l_2 = ['list','functions','set','bytearray','objects','dict']\n",
    "conts = ['list','tuple','frozenset','set','uxvs1234','dict']"
   ]
  },
  {
   "cell_type": "markdown",
   "metadata": {},
   "source": [
    "**Obs:** Las llaves de un diccionario pueden ser cualquier tipo de objeto inmutable."
   ]
  },
  {
   "cell_type": "markdown",
   "metadata": {},
   "source": [
    "## Iterators e Iterables: Una vez más\n",
    "\n",
    "Para comprender mejor el funcionamiento de los objetos tipo **iterator** e **iterable**, basta pensar en los objetos tipo **iterable**, como estructuras sobre las cuales se puede *iterar por medio de un ciclo for*. Esto no requiere que sean indexables o incluso finitos, pues se pueden definir por medio de una regla de recursión. Dado lo anterior, no se puede pensar en un iterable como una lista. \n",
    "\n",
    "En Python, existe la función ```iter()``` su única función es transformar un iterable en un iterator. Se puede pensar entonces en un iterable como un objeto, sobre el cual se puede iterar, por medio de la obtención de un iterator, a través de la función ```iter()```. Pero ¿qué es un iterator?, un iterator es un objeto capaz de entregar un \"siguiente elemento\", en Python esto se hace por medio de la función ```next()```. Cuando no hay un siguiente elemento, el iterator es borrado de la memoria.\n",
    "\n",
    "Así, el proceso de iteración consiste en la obtención de un iterator, por medio de la función ```iter()``` aplicada a un iterable, para luego aplicar (valga la redundancia) la función ```next()``` tantas veces como sea posible al iterator obtenido por este proceso. \n",
    "\n",
    "Se pueden caracterizar así:\n",
    "\n",
    "* Iterable: Se puede iterar sobre este tipo de objetos, generan iterators por medio de la función ```iter()```.\n",
    "\n",
    "* Iterator: Poseen reglas de transición (o paso) cada vez que se les aplica la función ```next()```. Se agotan al terminar el proceso.\n",
    "\n",
    "Como curiosidad, al aplicar ```iter()``` sobre un iterator, se obtiene un iterator: (Por lo que un iterator es un iterable a la vez)"
   ]
  },
  {
   "cell_type": "code",
   "execution_count": null,
   "metadata": {},
   "outputs": [],
   "source": [
    "a = iter([1,2,4])\n",
    "b = iter(a)\n",
    "for i in b:\n",
    "    print('itera', i)"
   ]
  },
  {
   "cell_type": "markdown",
   "metadata": {},
   "source": [
    "**Ejercicio**\n",
    "\n",
    "Al aplicar la función ```range()``` se obtiene un objeto tipo ```range```. Intente realizar un ciclo ```for``` sobre los valores de ```range(n)``` para cierto ```n``` definido por usted.\n",
    "\n",
    "1. Según lo anterior, ¿es ```range()``` un iterable?, ¿es un iterator? ¿es otro tipo de objeto?"
   ]
  },
  {
   "cell_type": "markdown",
   "metadata": {},
   "source": [
    "### Comprensión en Contenedores\n",
    "\n",
    "Finalmente se estudian métodos de comprensión en listas y diccionarios. Las comprensiones son herramientas que permiten generar listas o diccionarios por medio de instrucciones compactas aplicadas sobre iterables, como efecto secundario, son bastante eficientes. \n",
    "\n",
    "Las comprensiones permiten colapsar ciclos en (potencialmente) una linea de código.\n",
    "\n",
    "Estás se componen de un iterable, una variable iteradora y una expresión objetivo. \n",
    "\n",
    "En su forma básica, aplicada a listas, esto se puede entender como:\n",
    "\n",
    "```[expresion_objetivo for variable in iterable]```\n",
    "\n",
    "**Ejemplo**"
   ]
  },
  {
   "cell_type": "code",
   "execution_count": null,
   "metadata": {},
   "outputs": [],
   "source": [
    "list_comp = [i**2 for i in range(10)] \n",
    "print(list_comp)"
   ]
  },
  {
   "cell_type": "markdown",
   "metadata": {},
   "source": [
    "**Ejercicio**\n",
    "\n",
    "1. Genere una matriz, pensada como una lista de listas de igual tamaño. Para ello, tome en cuenta que la expresión objetivo puede ser una lista como tal. La matriz que generará tiene 5 filas y 5 columnas, cada fila es un numero entero entre 1 y 5 (extremos incluidos) elevado al numero de columna que le corresponde (indices parten en 0). El ejercicio se puede hacer en una linea, solo utilizando las funciones ```range()``` y ```**```."
   ]
  },
  {
   "cell_type": "markdown",
   "metadata": {},
   "source": [
    "En el caso de los diccionarios, se puede tiene una sintaxis de la forma:\n",
    "\n",
    "```{expr_obj_llave:expr_obj_valor for variable in iterable}```\n",
    "\n",
    "Por último, es posible agregar sentencias condicionales del tipo ```if```, ```else``` tanto en la expresión objetivo como en el iterable\n",
    "\n",
    "**Ejemplo**\n",
    "\n",
    "* condicional sobre la expresión objetivo"
   ]
  },
  {
   "cell_type": "code",
   "execution_count": null,
   "metadata": {},
   "outputs": [],
   "source": [
    "\"\"\"\n",
    "Imprime los numeros menores que 8 en un arreglo \n",
    "de 15 numeros partiendo de 0\n",
    "\"\"\"\n",
    "l_obj = [i if i < 8 else 'mayor' for i in range(15)]\n",
    "print(l_obj)"
   ]
  },
  {
   "cell_type": "markdown",
   "metadata": {},
   "source": [
    "* Condicional sobre el iterable"
   ]
  },
  {
   "cell_type": "code",
   "execution_count": null,
   "metadata": {},
   "outputs": [],
   "source": [
    "\"\"\"\n",
    "Imprime los multiplos de 3 presentes entre 0 y 200. \n",
    "\"\"\"\n",
    "l_iter = [i for i in range(200) if i % 3 == 0]\n",
    "print(l_iter)"
   ]
  },
  {
   "cell_type": "markdown",
   "metadata": {},
   "source": [
    "En el caso de los diccionarios (fácilmente extrapolable a listas) se llega a expresiones del tipo:\n",
    "\n",
    "```\n",
    "{(key_0 if cond_0 else key_1):(val_0 if cond_1 else val_1) for var in iterable if cond_2}\n",
    "```"
   ]
  },
  {
   "cell_type": "markdown",
   "metadata": {},
   "source": [
    "**Ejercicio**\n",
    "\n",
    "1. Genere un diccionario cuyas llaves sean enteros entre 0 a 200, el valor asociado a cada llave será tal entero al cuadrado, solo si este es par y al cubo en caso contrario. El diccionario puede solo contener llaves que sean múltiplos de 4. Este ejercicio se puede desarrollar en una sola linea de código."
   ]
  }
 ],
 "metadata": {
  "kernelspec": {
   "display_name": "Python 3",
   "language": "python",
   "name": "python3"
  },
  "language_info": {
   "codemirror_mode": {
    "name": "ipython",
    "version": 3
   },
   "file_extension": ".py",
   "mimetype": "text/x-python",
   "name": "python",
   "nbconvert_exporter": "python",
   "pygments_lexer": "ipython3",
   "version": "3.8.2"
  },
  "nbTranslate": {
   "displayLangs": [
    "es",
    "en"
   ],
   "hotkey": "alt-t",
   "langInMainMenu": true,
   "sourceLang": "en",
   "targetLang": "es",
   "useGoogleTranslate": true
  },
  "toc": {
   "base_numbering": 1,
   "nav_menu": {},
   "number_sections": true,
   "sideBar": true,
   "skip_h1_title": false,
   "title_cell": "Table of Contents",
   "title_sidebar": "Contents",
   "toc_cell": false,
   "toc_position": {},
   "toc_section_display": true,
   "toc_window_display": false
  }
 },
 "nbformat": 4,
 "nbformat_minor": 4
}
