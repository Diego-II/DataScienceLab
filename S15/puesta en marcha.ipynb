{
 "cells": [
  {
   "cell_type": "markdown",
   "metadata": {},
   "source": [
    "# MA6202: Laboratorio de Ciencia de Datos\n",
    "**Profesor: Nicolás Caro** \n",
    "\n",
    "**22/07/2020 - S15** "
   ]
  },
  {
   "cell_type": "markdown",
   "metadata": {},
   "source": [
    "# Puesta en Marcha: Introducción a Flask\n",
    "\n",
    "La puesta en marcha o *despliegue* consiste en el flujo de trabajo necesario para hacer que una aplicación pasa de un estado de desarrollo experimental (prueba de concepto) a ser una versión de *producción* donde el usuario final tendrá acceso. \n",
    "\n",
    "Para poner en marcha nuestros proyectos de ciencia de datos, haremos uso de *aplicaciones web*. Estas consisten programas diseñados para ejecutarse desde un servidor web. Esta aproximación nos permitirá facilitar resultados y visualizaciones a una amplia variedad de sistemas. \n",
    "\n",
    "En Python existen conjuntos de herramientas para desarrollo, dentro de estas se utilizará Flask por su enfoque minimal. Antes de estudiar esta herramienta, estudiamos el manejo de entornos virtuales."
   ]
  },
  {
   "cell_type": "markdown",
   "metadata": {},
   "source": [
    "## Ambientes Virtuales\n",
    "\n",
    "Cada aplicación de Python posee sus requerimientos en cuanto a las librerías sobre las cuales se basa. Esto hace que en algunas oportunidades se trabaje en aplicaciones que requieran distintas versiones de una misma librería o que trabajen sobre versiones distintas de Python. En este caso, una instalación global de Python no permitiría trabajar de manera fluida, pues se necesitaría reinstalar paquetes de distintas versiones cada vez que se cambie de aplicación.\n",
    "\n",
    "Para solucionar el problema anterior aparecen los **entornos virtuales**, estos consisten en conjuntos de carpetas autocontenidos en cuanto a sus dependencias, para lograr esta independencia, cada entorno irtual presenta su propia instalación de Python, pudiendo elegir incluso que versión del lenguaje se desea instalar. \n",
    "\n",
    "En general se recomienda el uso de entornos virtuales para manejar dependencias de proyectos de software basados en Python, tanto en el desarrollo de estos como como en su puesta en marcha o producción.\n",
    "\n",
    "Python 3 posee un módulo que permite crear entornos virtuales, este es `venv`, cabe destacar que esta librería no es la única forma de manejar entornos virtuales (ej: conda ofrece una herramienta similar) pero si es la estándar en el stack de Python. \n",
    "\n",
    "**Ejemplo**\n",
    "\n",
    "Para crear un entorno virtual, nos localizamos en la carpeta raíz de nuestro proyecto, en este caso será `./ProyectLab`, sobre tal carpeta inicializamos un entorno virtual usando `venv`"
   ]
  },
  {
   "cell_type": "code",
   "execution_count": null,
   "metadata": {},
   "outputs": [],
   "source": [
    "!mkdir ProyectLab\n",
    "!python -m venv entorno_virtual\n",
    "\n",
    "#En windows la orden es\n",
    "#py -m venv entorno_virtual"
   ]
  },
  {
   "cell_type": "markdown",
   "metadata": {},
   "source": [
    "con lo anterior, se ha creado un a carpeta llamada `./ProyectLab/entorno_virtual` la cual contiene el código necesario para generar un entorno virtual independiente de la instalación global de Python. Para acceder a dicho entorno ejecutamos el archivo `activate` dentro de la carpeta `./entorno_virtual/bin` esto se hace por medio de:"
   ]
  },
  {
   "cell_type": "code",
   "execution_count": null,
   "metadata": {},
   "outputs": [],
   "source": [
    "!. entorno_virtual/bin/activate\n",
    "\n",
    "# En Windows\n",
    "# entorno_virtual\\Scripts\\activate "
   ]
  },
  {
   "cell_type": "markdown",
   "metadata": {},
   "source": [
    "una vez activado un entorno virtual, no encontramos localmente dentro una nueva instalción de Python, la cual maneja sus propias dependencias, en este caso, si buscamos importar un paquete de la instalación global (ej: Numpy o cualquier otra librería de terceros), no se podrá acceder, pues mientras el ambiente viertual este activado, se ignora la instalación global. \n",
    "\n",
    "Para trabajar en conjunción con notebooks de Jupyter podemos instalar la librería `ipykernel` en nuestro entorno virtual, esto lo hacemos por medio de las ordenes:\n",
    "\n",
    "```\n",
    "user@ruta/a/proyecto$ . entorno_virtual/bin/activate  \n",
    "user@ruta/a/proyecto$ pip install ipykernel\n",
    "```\n",
    "\n",
    "Donde `user@ruta/a/proyecto$` hace referencia a que se debe ejecutar en la carpeta de nuestro proyecto `ProjectLab` desde una consola, no funcionará usando el comando `!` en una celda. \n",
    "\n",
    "**Obs:** En Windows equivale a activar el ambiente y luego instalar el paquete `ipykernel` usando pip. "
   ]
  },
  {
   "cell_type": "markdown",
   "metadata": {},
   "source": [
    "Una vez instalada la librería podemos registrar el kernel asociado a nuestro entorno virtual, para ello ejecutamos \n",
    "\n",
    "```\n",
    "(entorno_virtual) user@ruta/a/proyecto$ python -m ipykernel install --user --name entorno_virtual --display \n",
    "name \"Python (entorno_virtual)\"\n",
    "```"
   ]
  },
  {
   "cell_type": "markdown",
   "metadata": {},
   "source": [
    "Donde la linea `(entorno_virtual) user@ruta/a/proyecto$` indica que se ejecuta dentro de un entorno virtual activado. Esta linea instala un kernel llamado `entorno_virtual` asociado a nuestro entorno de ejecución actual (indicado en la consola) que corresponde en este caso al entorno virtual activado. El nombre con el cual aparece dicho kernel en un notebook de Jupyter será `\"Python (entorno_virtual)\"`. Finalmente, podemos cambiar de kernel usando la opción `kernel -> change kernel -> Python (entorno_virtual)` (puede ser necesario actualizar la página sociada al notebook actual). \n",
    "\n",
    "\n",
    "Con lo anterior, el notebook se reinicia pero se tiene conexión directa con el entorno virtual creado.\n",
    "\n",
    "**Ejemplo**\n",
    "\n",
    "Se cambia de kernel pasando al creado recientemente, como nos encontramos en una instalación nueva de Python no habrá disponibilidad a paquetes instalados en el entorno global. Intentaremos acceder a NumPy desde este nuevo kernel asociado al entorno virtual."
   ]
  },
  {
   "cell_type": "code",
   "execution_count": null,
   "metadata": {},
   "outputs": [],
   "source": [
    "try:\n",
    "\n",
    "    import numpy\n",
    "    print('Numpy instalado en este entorno virtual')\n",
    "\n",
    "except ModuleNotFoundError:\n",
    "    \n",
    "    print('Modulo NumPy no encontrado en este entorno virtual')"
   ]
  },
  {
   "cell_type": "markdown",
   "metadata": {},
   "source": [
    "Con lo que confirmamos que nos encontramos accediendo al nuevo entorno virtual. Lamentablemente, el comando `!` está asociado al entorno en el cual se ejecuta Jupyter al iniciar y no al kernel con el que estamos trabajando, por tal motivo, si ejecutamos `!pip install numpy` desde una celda, no se instalará en el entorno virtual. Para instalar librerías, necesitamos por tanto instalarlas directamente desde la consola habiendo activado el entorno virtual previamente. \n",
    "\n",
    "Para salir de un entorno virtual basta con *desactivarlo*, esto se hace ejecutando la orden `deactivate` desde la consola en un entorno virtual previamente activado. Este comando se agrega a la consola / terminal cada vez que activamos un entorno virtual por lo que podemos ejecutarla desde cualquier carpeta."
   ]
  },
  {
   "cell_type": "markdown",
   "metadata": {},
   "source": [
    "## Introducción a Flask\n",
    "\n",
    "`Flask` es un *micro web framework* escrito en Python. Es decir, corresponde a un conjunto de herramientas para desarrollo web (web framework) minimal (micro). En este sentido, el prefijo *micro* hacer referencia a que una aplicación debe ser sencilla en sus componentes, esto no afecta a la funcionalidad, pues se tiene acceso a multiples extensiones, así la minimalidad del framework hace referencia a mantener un núcleo simple pero a la vez extensible, logrando así que el programador tenga total control sobre que componentes integrar, evitando redundancia en el código y complejidades extra.\n",
    "\n",
    "Para instalar Flask hacemos uso de la sintaxis usual. Esta vez se recomienda hacerlo dentro de un entorno virtual, de manera que se pueda desarrollar una aplicación web autocontenida."
   ]
  },
  {
   "cell_type": "markdown",
   "metadata": {},
   "source": [
    "**Ejercicio**\n",
    "\n",
    "1. Instale flask `pip install flask` dentro del entorno virtual `entorno_virtual` creado anteriormente."
   ]
  },
  {
   "cell_type": "markdown",
   "metadata": {},
   "source": [
    "Flask permite crear aplicación que hace uso de la convención WSGI (**W**eb  **S**erver **G**ateway **I**nterface - *whiskey*), esta consiste en un protocolo de servidores web para el manejo de consultas por medio de aplicaciones o frameworks de Python. \n",
    "\n",
    "**Ejemplo**\n",
    "\n",
    "Creamos una aplicación minimal usando Flask, para ello importamos la clase `Flask`, la cual corresponde a una aplicación WSGI. "
   ]
  },
  {
   "cell_type": "code",
   "execution_count": null,
   "metadata": {},
   "outputs": [],
   "source": [
    "from flask import Flask "
   ]
  },
  {
   "cell_type": "markdown",
   "metadata": {},
   "source": [
    "Luego se crea un objeto como instancia de dicha clase. El primer argumento de este objeto en su constructor, será el nombre del módulo al cual dicha aplicación pertenece. Al usar solamente un módulo, se recomienda utilizar la variable de sistema `__name__`. Esta variable entrega el nombre del módulo sobre el cual se ejecuta. Observemos su comportamiento :\n",
    "\n",
    "1. Se crea un módulo"
   ]
  },
  {
   "cell_type": "code",
   "execution_count": null,
   "metadata": {},
   "outputs": [],
   "source": [
    "%%file modulo_1.py\n",
    "\n",
    "def func1():\n",
    "    print('Valor de __name__ : ' + __name__)"
   ]
  },
  {
   "cell_type": "markdown",
   "metadata": {},
   "source": [
    "2. Se importa dicho módulo "
   ]
  },
  {
   "cell_type": "code",
   "execution_count": null,
   "metadata": {},
   "outputs": [],
   "source": [
    "import modulo_1\n",
    "modulo_1.func1() \n",
    "\n",
    "print('Valor de __name__ fuera del modulo:' + __name__)"
   ]
  },
  {
   "cell_type": "markdown",
   "metadata": {},
   "source": [
    "Se puede ver que dentro del módulo creado, la variable `__name__` cambia, esto permite asociar una aplicación de Flask al módulo sobre el cual se desea operar. "
   ]
  },
  {
   "cell_type": "code",
   "execution_count": null,
   "metadata": {},
   "outputs": [],
   "source": [
    "app = Flask(__name__)"
   ]
  },
  {
   "cell_type": "markdown",
   "metadata": {},
   "source": [
    "Con lo anterior, se iniciado una aplicación de Flask, la cual buscará dependendcias en el módulo `__name__` (`__main__` en este caso).\n",
    "\n",
    "El siguiente paso es usar un *decorador de ruta*  `route(url)`, el cual le dice a Flask que acción tomar (que función ejecutar) cuando se accede a la dirección `url`. De esta manera, se define una función de bienvenida, la cual se activa cuando accedemos a la dirección raíz de la aplicación `/`."
   ]
  },
  {
   "cell_type": "code",
   "execution_count": null,
   "metadata": {},
   "outputs": [],
   "source": [
    "@app.route('/') \n",
    "def bienvenida():\n",
    "    return 'Bienvenida/o a la app minimal!'"
   ]
  },
  {
   "cell_type": "markdown",
   "metadata": {},
   "source": [
    "el nombre de la función decorada se utiliza para generar urls de manera automática, la orden `return` de la función será el mensaje mostrado en el navegador.\n",
    "\n",
    "Procedemos a crear un módulo con la aplicación generada"
   ]
  },
  {
   "cell_type": "code",
   "execution_count": null,
   "metadata": {},
   "outputs": [],
   "source": [
    "%%file app_minimal.py\n",
    "from flask import Flask \n",
    "\n",
    "app = Flask(__name__)\n",
    "\n",
    "@app.route('/') \n",
    "def bienvenida():\n",
    "    return 'Bienvenida/o a la app minimal!'"
   ]
  },
  {
   "cell_type": "markdown",
   "metadata": {},
   "source": [
    "Para ejecutar la aplicación generada se puede utilizar el comando `flask` desde la terminal (análogo a pip), sin embargo, antes de ejecutarla, es necesario indicarle a la terminal que aplicación se ejecutará con el comando `flask`. Esto corresponde a una variable del sistema llamada `FLASK_APP`, darle el valor que necesitamos utilizamos el comando `export`(linux - mac):\n",
    "\n",
    "```\n",
    "(entorno_virtual) user@ruta/a/ProjecLab$ export FLASK_APP=app_minimal.py\n",
    "```\n",
    "\n",
    "En windows se utiliza `C:\\ruta\\a\\ProjecLab>set FLASK_APP=app_minimal.py`. Luego de exportar la aplicación desde la terminal, se procede a lanzar la aplcación usando el comando:\n",
    "\n",
    "```\n",
    "(entorno_virtual) user@ruta/a/ProjecLab$ flask run\n",
    "```\n",
    "\n",
    "El ejecutar dicha orden se indica una url con la cual se accede a la aplicación, por lo general es del tipo `http://127.0.0.1:5000/`. Con esto, hemos utilizado el servidor interno de flask en nuestro computador."
   ]
  },
  {
   "cell_type": "markdown",
   "metadata": {},
   "source": [
    "La aplicación anterior se mantiene funcionando como servidor de desarrollo pero requiere de un reinicio cada vez que se se haga un cambio al código. Para solucionar dicho problema existe el modo de depuración *debug mode*. Al activar este modo el servidor se recarga a si mismo al generar cambios en los módulos que lo componen. \n",
    "\n",
    "La activación del modo de depuración se hace por medio de la variable de sistema `FLASK_ENV` que se debe exportar como `development`.\n",
    "\n",
    "**Ejemplo**\n",
    "\n",
    "Se exporta el ambiente de depuración y se corre nuevamente la aplicación usando `flask run` todo desde la terminal.\n",
    "\n",
    "```\n",
    "(entorno_virtual) user@ruta/a/ProjecLab$ export FLASK_ENV=development\n",
    "(entorno_virtual) user@ruta/a/ProjecLab$ flask run\n",
    "```\n",
    "\n",
    "Con lo anterior, se activa el depurador, la carga automática y activa el modo de depuración en la aplicación creada. \n",
    "\n",
    "Aunque el depurardor permite la ejecución de código arbitrario, lo que se traduce en riesgos de seguridad, por tal motivo no debe ser utilizado en entornos de producción. \n",
    "\n",
    "Se cambia el texto de la aplicación y se recarga en el navegador."
   ]
  },
  {
   "cell_type": "code",
   "execution_count": null,
   "metadata": {},
   "outputs": [],
   "source": [
    "%%file app_minimal.py\n",
    "from flask import Flask \n",
    "\n",
    "app = Flask(__name__)\n",
    "\n",
    "@app.route('/') \n",
    "def bienvenida():\n",
    "    return 'Bienvenida/o a la app minimal! con depuracion'"
   ]
  },
  {
   "cell_type": "markdown",
   "metadata": {},
   "source": [
    "**Ejercicio**\n",
    "\n",
    "1. Introduzca un error en la función anterior e identifiquelo a partir del depurador"
   ]
  },
  {
   "cell_type": "markdown",
   "metadata": {},
   "source": [
    "**Ruteo de urls**\n",
    "\n",
    "Una aplicación web utiliza urls para acceder a sus funcionalidades y contenidos, esto además ayuda a los usuarios a comprender la estructura del sitio que se les presenta. Para manejar el acceso a urls dentro de la aplicación hacemos uso del decorador `@app.route()`.\n",
    "\n",
    "\n",
    "**Ejemplo**\n",
    "\n",
    "Se construye una página de bienvenida una de saludo dentro de la aplicación `aplicación minimal`."
   ]
  },
  {
   "cell_type": "code",
   "execution_count": null,
   "metadata": {},
   "outputs": [],
   "source": [
    "%%file app_minimal.py\n",
    "from flask import Flask \n",
    "\n",
    "app = Flask(__name__)\n",
    "\n",
    "@app.route('/') \n",
    "def bienvenida():\n",
    "    return 'Bienvenida/o a la app minimal!'\n",
    "\n",
    "@app.route('/hola') \n",
    "def funcion_saludo():\n",
    "    return 'Has accedido a la pagina de saludo. Hola ...'"
   ]
  },
  {
   "cell_type": "markdown",
   "metadata": {},
   "source": [
    "Accedemos a la nueva función usando la url `127.0.0.1:5000/hola`.\n",
    "\n",
    "Como es posible observar, el decorador recibe un string indicando la url a la cual se asocia el procedimiento de una función. Este tipo de dato permite generar urls dinámicas utilizando **reglas variables**. \n",
    "\n",
    "Una regla variable permite aplicar funciones sobre urls dinámicas, para ello se utiliza la sintaxis `<variable>` entro de la url a la cual está asociada la función que deseamos operar. De tal manera, si creamos una función `func ` que recibe como argumento una la variable `id`  entonces se puede generar una regla variable con la url `/ruta/a/la/url/<id>` luego decoramos la función `func` con la url anterior.\n",
    "\n",
    "**Ejemplo**\n",
    "\n",
    "Se implementa el caso recientemente explorado"
   ]
  },
  {
   "cell_type": "code",
   "execution_count": null,
   "metadata": {},
   "outputs": [],
   "source": [
    "%%file app_minimal.py\n",
    "from flask import Flask \n",
    "\n",
    "app = Flask(__name__)\n",
    "\n",
    "@app.route('/') \n",
    "def bienvenida():\n",
    "    return 'Bienvenida/o a la app minimal!'\n",
    "\n",
    "@app.route('/hola/<user>') \n",
    "def funcion_saludo(user):\n",
    "    return 'Has accedido a la pagina de saludo. Hola ...' + user"
   ]
  },
  {
   "cell_type": "markdown",
   "metadata": {},
   "source": [
    "Al acceder a la aplicación anterior, si entramos a la url `127.0.0.1:5000/hola/estudiante` recibimos la ejecución de `funcion_saludo('estudiante')`."
   ]
  },
  {
   "cell_type": "markdown",
   "metadata": {},
   "source": [
    "**Ejercicio**\n",
    "\n",
    "1. Se pueden indicar tipos de dato `string`,`int`,`float`,`path`,`uuid` mediante la notación `<dtype:varname>` donde `dtype` es el tipo de dato escogido para operar. Implemente una función que reciba un valor de punto flotante como input. ¿Qué diferencia hay entre `string` y `path`?"
   ]
  },
  {
   "cell_type": "markdown",
   "metadata": {},
   "source": [
    "Flask opera sobre las urls entregadas de manera especial. Por ejemplo, al agregar las funciones `proyectos` y `acerca` estamos asociando las urls `'/proyectos/'` y `'/acerca'`. \n",
    "\n",
    "En el caso de`'/proyectos/'`, si accedemos a la url `127.0.0.1:5000/proyectos`, seremos redirigidos a `127.0.0.1:5000/proyectos/` es decir agregará el simbolo `/` al final de la url. \n",
    "\n",
    "Por el contrario, si accedemos a `127.0.0.1:5000/acerca/` no habrá redirección a la versión sin `/`. Es decir acceder a `127.0.0.1:5000/acerca/` lanza un error pero `127.0.0.1:5000/proyectos` no. Para entender este comportamiento, pensemos en las urls como rutas de acceso a carpetas (terminan con `/`) y archivos (terminan si `/`). Si intentamos a acceder a una carpeta con notación de archivo, seremos redirigidos a la carpeta, por otra parte, si intentamos acceder a un archivo con notación de carpeta habrá un error pues no existe una ruta con el nombre que buscamos. \n",
    "\n",
    "Se comprueba lo anterior"
   ]
  },
  {
   "cell_type": "code",
   "execution_count": null,
   "metadata": {},
   "outputs": [],
   "source": [
    "%%file app_minimal.py\n",
    "from flask import Flask \n",
    "\n",
    "app = Flask(__name__)\n",
    "\n",
    "@app.route('/') \n",
    "def bienvenida():\n",
    "    return 'Bienvenida/o a la app minimal!'\n",
    "\n",
    "@app.route('/hola/<user>') \n",
    "def funcion_saludo(user):\n",
    "    return 'Has accedido a la pagina de saludo. Hola ...' + user\n",
    "\n",
    "@app.route('/proyectos/')\n",
    "def proyectos():\n",
    "    return 'Pagina de proyectos.'\n",
    "\n",
    "@app.route('/acerca')\n",
    "def acerca():\n",
    "    return 'Pagina de informacion sobre el autor'"
   ]
  },
  {
   "cell_type": "markdown",
   "metadata": {},
   "source": [
    "Para construir urls a una función en especifico se puede utilizar la función `url_for()`, esta función toma como argumento el nombre de una función y un diccionario de argumentos pcional `**kwargs` asociado a la función. La utilidad de `url_for()` es permitir la construcción de urls dinámicas, en el sentido de que modificar múltiples rutas se hace más sencillo que cambiarlas manualmente una por una. \n",
    "\n",
    "La construcción de urls por medio de ese método hace un manejo automático de caracteres especiales, además las rutas generadas se construyen de manera absoluta, evitando comportamientos inesperados usuales con rutas relativas en navegadores. \n",
    "\n",
    "Si se tiene una aplicación ubicada fuera de la raiz de la url (ej: aplicación ubicada en `/aplicación` en vez de `/`),  `url_for` permite su manejo sencillo. \n",
    "\n",
    "**Ejemplo**\n",
    "\n",
    "Se utiliza el context manager `text_request_context()` del módulo `app`. Este permite navegar por una aplicación de Flask desde Python, emulando accesos a funciones.  Se procede a obtener las urls para las funciones anteriores."
   ]
  },
  {
   "cell_type": "code",
   "execution_count": null,
   "metadata": {},
   "outputs": [],
   "source": [
    "from flask import Flask, url_for\n",
    "app = Flask(__name__)\n",
    "\n",
    "\n",
    "@app.route('/')\n",
    "def bienvenida():\n",
    "    return 'Bienvenida/o a la app minimal!'\n",
    "\n",
    "\n",
    "@app.route('/hola/<user>')\n",
    "def funcion_saludo(user):\n",
    "    return 'Has accedido a la pagina de saludo. Hola ...' + user\n",
    "\n",
    "\n",
    "@app.route('/proyectos/')\n",
    "def proyectos():\n",
    "    return 'Pagina de proyectos.'\n",
    "\n",
    "\n",
    "@app.route('/acerca')\n",
    "def acerca():\n",
    "    return 'Pagina de informacion sobre el autor'\n",
    "\n",
    "\n",
    "with app.test_request_context():\n",
    "    print('URL: Funcion bienvendia ->', url_for('bienvenida'))\n",
    "    print('URL: Funcion funcion_saludo ->',url_for('funcion_saludo', user='Fulano'))\n",
    "    print('URL: Funcion acerca ->',url_for('acerca'))\n",
    "    print('URL: Funcion proyectos ->',url_for('proyectos'))"
   ]
  },
  {
   "cell_type": "markdown",
   "metadata": {},
   "source": [
    "Las aplicaciones web utilizan distintos métodos HTTP (Hypertext Transfer Protocol) al momento de acceder a urls, estose se conocen tambien como verbos, dentro de los cuales se pueden reconocer `GET` consultar sobre un recurso especifico (solo reciben datos), `HEAD`, de la misma manera que `GET` solo recibe información pero acá se busca acceder al identificador de la información y no a su contenido total (cuerpo), `POST`, este método se utiliza para enviar recursos causando por lo genear un cambio de estado en el servidor y `PUT` que remplaza recursos objetivo.\n",
    "\n",
    "**Ejercicio**\n",
    "\n",
    "1. Investigue sobre los verbos HTTP existentes."
   ]
  },
  {
   "cell_type": "markdown",
   "metadata": {},
   "source": [
    "Por defecto, una ruta de Flask soo responde a consultas `GET`, sin embargo, el ecorador `app.route()` puede recibir el argumento `methods` con el cual se pueden especificar los tipos de métodos HTTP soportados por la función que decora.\n",
    "\n",
    "**Ejemplo**\n",
    "\n",
    "Para utilizar el parámetro `methods` en el enrutamiento, importamos el objeto `requests` con el cual se puede identificar que tipo de consulta. \n",
    "\n",
    "Generaremos una página de `login` desde la cual un usuario podrá registrarse, haremos uso de la función `url_for()` y de la capacidad de Flask para manejar ordenes HTML. \n",
    "\n",
    "En primer lugar, creamos la página en la cual se hará el registro, esta consiste en un archivo HTML con la siguiente estructura:"
   ]
  },
  {
   "cell_type": "code",
   "execution_count": null,
   "metadata": {},
   "outputs": [],
   "source": [
    "import os \n",
    "os.getcwd()\n",
    "\n",
    "try:\n",
    "    os.mkdir('templates')\n",
    "\n",
    "except FileExistsError:\n",
    "    print('Directorio ya existe')"
   ]
  },
  {
   "cell_type": "markdown",
   "metadata": {},
   "source": [
    "Creamos un template de login"
   ]
  },
  {
   "cell_type": "code",
   "execution_count": null,
   "metadata": {},
   "outputs": [],
   "source": [
    "%%file templates/login.html \n",
    "<html>\n",
    "   <body>\n",
    "    \n",
    "      <form action = \"http://localhost:5000/login\" method = \"post\">\n",
    "         <p>Buenas, ingresa tu nombre:</p>\n",
    "         <p><input type = \"text\" name = \"nm\" /></p>\n",
    "         <p><input type = \"submit\" value = \"submit\" /></p>\n",
    "      </form>\n",
    "    \n",
    "   </body>\n",
    "</html>"
   ]
  },
  {
   "cell_type": "markdown",
   "metadata": {},
   "source": [
    "El código anterior genera una página que consulta por la variable `name` generando una consulta `POST`. El texto ingresado en la página se almacena con el campo `nm` dentro de un diccionario asociado a la consulta `POST`. \n",
    "\n",
    "Añadiremos la función `exito` que recibe un nombre y le da la bienvenida, tambén implementamos la función de login, esta utiliza el objeto `request` para diferenciar que tipo de consulta se está realizando. Se decora dicha función utilizando el parámetro `methods`"
   ]
  },
  {
   "cell_type": "code",
   "execution_count": null,
   "metadata": {},
   "outputs": [],
   "source": [
    "%%file app_minimal.py\n",
    "from flask import Flask, redirect, url_for, request, render_template\n",
    "app = Flask(__name__)\n",
    "\n",
    "@app.route('/') \n",
    "def bienvenida():\n",
    "    return v('login.html')\n",
    "\n",
    "@app.route('/hola/<user>') \n",
    "def funcion_saludo(user):\n",
    "    return 'Has accedido a la pagina de saludo. Hola ...' + user\n",
    "\n",
    "@app.route('/proyectos/')\n",
    "def proyectos():\n",
    "    return 'Pagina de proyectos.'\n",
    "\n",
    "@app.route('/acerca')\n",
    "def acerca():\n",
    "    return 'Pagina de informacion sobre el autor'\n",
    "\n",
    "#Exito\n",
    "@app.route('/exito/<name>') \n",
    "def exito(name):\n",
    "    return f'Bienvenido {name}'  \n",
    "\n",
    "#Login\n",
    "@app.route('/login',methods = ['POST', 'GET'])\n",
    "def login():\n",
    "    if request.method == 'POST':\n",
    "        user = request.form['nm'] \n",
    "        return  redirect(url_for('exito',name = user))\n",
    "    else:\n",
    "        user = request.args.get('nm')\n",
    "        return redirect(url_for('exito',name = user))"
   ]
  },
  {
   "cell_type": "markdown",
   "metadata": {},
   "source": [
    "En el ejemplo anterior utilizamos la función `render_template`. Con esta función es posible renderizar plantillas HTML directamente desde Flask. Para usar dicha funcionalidad  se requiere ubicar las plantillas a utilizar en una carpeta llamada `templates`, en este caso, si trabajamos con estructura de módulo, las carpetas deberían seguir el patrón:\n",
    "\n",
    "```\n",
    "|- /modulo.py\n",
    "|- /templates\n",
    "|-----/template_html_a_utilizar.html\n",
    "```\n",
    "\n",
    "En el caso de trabajar con librerías:\n",
    "\n",
    "```\n",
    "|- /libreria\n",
    "|----/__init__.py\n",
    "|----/templates\n",
    "|---------/template_html_a_utilizar.html\n",
    "```\n",
    "\n",
    "Para generar plantillas (*templates*) se puede utilizr [Jinga2](jinja.pocoo.org/docs/templates/). Esta librería consiste en un lenguaje de diseño diámico sencillo y rápido. Veamos un ejemplo de template Jinga2 y observemos como interactua con el entorno de Python.\n"
   ]
  },
  {
   "cell_type": "code",
   "execution_count": null,
   "metadata": {},
   "outputs": [],
   "source": [
    "name = '--Test--'"
   ]
  },
  {
   "cell_type": "markdown",
   "metadata": {},
   "source": [
    "```html\n",
    "<!doctype html>\n",
    "<title> En Flask esto se vería así: </title>\n",
    "\n",
    "{% if name %}\n",
    "    <h1> Variable inicializada {{name}} </h1>\n",
    "\n",
    "{% else %}\n",
    "    <h1> No hay variable inicializada!</h1>\n",
    "\n",
    "{% endif %}\n",
    "```"
   ]
  },
  {
   "cell_type": "markdown",
   "metadata": {},
   "source": [
    "Observe que se tiene acceso a funcionalidades de Python mediante la sintaxis `{% %}`."
   ]
  },
  {
   "cell_type": "markdown",
   "metadata": {},
   "source": [
    "En general, podemos utilizar una estructura de herencia de plantillas"
   ]
  },
  {
   "cell_type": "code",
   "execution_count": null,
   "metadata": {},
   "outputs": [],
   "source": [
    "%%file templates/layout.html \n",
    "\n",
    "<!doctype html>\n",
    "<html>\n",
    "  <head>\n",
    "    {% block head %}\n",
    "    <link rel=\"stylesheet\" href=\"{{ url_for('static', filename='style.css')}}\">\n",
    "    <title>{% block title %} {% endblock %} - App Minimal - </title>\n",
    "    {% endblock %}\n",
    "    \n",
    "  </head>\n",
    "\n",
    "  <body>\n",
    "    \n",
    "    <div id=\"content\">\n",
    "    {% block content %}\n",
    "    \n",
    "    {% endblock %}\n",
    "    </div>\n",
    "    \n",
    "    <div id=\"footer\">\n",
    "      {% block footer %}\n",
    "        Copyright 2020 by <a href=\"https://github.com/NicoCaro/DataScienceLab\"> DaScLab </a>.\n",
    "      {% endblock %}\n",
    "    </div>\n",
    "    \n",
    "  </body>\n",
    "\n",
    "</html>"
   ]
  },
  {
   "cell_type": "markdown",
   "metadata": {},
   "source": [
    "El código anterior genera una plantilla HTML utilizando Jinga2. Esta se constituye por bloques, los bloques tienen un nombre asociado y se comportan como atributos de un objeto. En este caso el template se denomina `layout.html` y se ubica en la carpeta `template`. Los bloques definidos son `head`, `content` y `footer`. \n",
    "\n",
    "Finalmente, dentro del template utilizamos la función de Python (Flask) `url_for('static', filename='style.css')` la cual accede a la url del componente `static`. Este componente viene por defecto en las aplicaciones de flask (no fue definido en `app_minimal.py`) y permite acceder a archivos ubicados en la carpeta `\\static`. Esta debe seguir la lógica de carpetas presentada en `templates`. En la carpeta `\\static` ubicamos un código de estilo `CSS` llamada `style.css`. Esta  cambia el color de los párrafos (`<p>`), headers (`<h1>`) y del cuerpo (`body`).\n",
    "\n",
    "Podemos pensar que `layout.html` se comporta como una clase, sobre la cual se puede hacer herencia simple. Para ello crearemos una reestructuración del template de `login` para que herede los atributos de `layout.html`. Observe que se puede hacer *overriding* de manera natural."
   ]
  },
  {
   "cell_type": "code",
   "execution_count": null,
   "metadata": {},
   "outputs": [],
   "source": [
    "%%file templates/login.html\n",
    "{% extends \"layout.html\" %}\n",
    "\n",
    "{% block title %} Login {% endblock %}\n",
    "\n",
    "{% block head %}\n",
    "{{ super() }}\n",
    "Buenas, ingresa tu nombre:\n",
    "{% endblock %} \n",
    "                \n",
    "{% block content %}   \n",
    "{{ super() }}\n",
    " <form action = \"{{ url_for('login', filename='style.css')}}\", method = \"post\">\n",
    "         <p><input type = \"text\" name = \"nm\" /></p>\n",
    "         <p><input type = \"submit\" value = \"submit\" /></p>\n",
    "      </form>             \n",
    "{% endblock %}"
   ]
  },
  {
   "cell_type": "markdown",
   "metadata": {},
   "source": [
    "La orden `super()` actua de la misma forma que en un esquema de herencia de objetos. \n",
    "\n",
    "Se construye un template para la página de redirección `extio.html`"
   ]
  },
  {
   "cell_type": "code",
   "execution_count": null,
   "metadata": {},
   "outputs": [],
   "source": [
    "%%file templates/exito.html\n",
    "{% extends \"layout.html\" %}\n",
    "\n",
    "{% block title %} Exito! {% endblock %}\n",
    "\n",
    "{% block head %}\n",
    "{{ super() }}\n",
    "\n",
    "Login Exitoso\n",
    "\n",
    "{% endblock %} \n",
    "                \n",
    "{% block content %}  \n",
    "    {{ super() }}\n",
    "    Bienvenido {{name}}!\n",
    "{% endblock %}"
   ]
  },
  {
   "cell_type": "markdown",
   "metadata": {},
   "source": [
    "Finalmente cambiamos los parámetros que permiten ejecutar nuestra aplicación sobre los templates creados."
   ]
  },
  {
   "cell_type": "code",
   "execution_count": null,
   "metadata": {},
   "outputs": [],
   "source": [
    "%%file app_minimal.py\n",
    "from flask import Flask, redirect, url_for, request, render_template\n",
    "app = Flask(__name__)\n",
    "\n",
    "@app.route('/') \n",
    "def bienvenida():\n",
    "    return render_template('login.html') \n",
    "\n",
    "@app.route('/hola/<user>') \n",
    "def funcion_saludo(user):\n",
    "    return 'Has accedido a la pagina de saludo. Hola ...' + user\n",
    "\n",
    "@app.route('/proyectos/')\n",
    "def proyectos():\n",
    "    return 'Pagina de proyectos.'\n",
    "\n",
    "@app.route('/acerca')\n",
    "def acerca():\n",
    "    return 'Pagina de informacion sobre el autor'\n",
    "\n",
    "#Exito\n",
    "@app.route('/exito/<name>') \n",
    "def exito(name):\n",
    "    return render_template('exito.html', name = name)   \n",
    "\n",
    "#Login\n",
    "@app.route('/login',methods = ['POST', 'GET'])\n",
    "def login():\n",
    "    if request.method == 'POST':\n",
    "        user = request.form['nm'] \n",
    "        return  redirect(url_for('exito',name = user))\n",
    "    else:\n",
    "        user = request.args.get('nm')\n",
    "        return redirect(url_for('exito',name = user))"
   ]
  },
  {
   "cell_type": "markdown",
   "metadata": {},
   "source": [
    "## Interludio: Flujo de trabajo \n",
    "\n",
    "## Manejo de Requests\n",
    "## Construcción de una APi\n",
    "## Testeo\n",
    "## Despliegue en la Nube"
   ]
  }
 ],
 "metadata": {
  "kernelspec": {
   "display_name": "Python 3",
   "language": "python",
   "name": "python3"
  },
  "language_info": {
   "codemirror_mode": {
    "name": "ipython",
    "version": 3
   },
   "file_extension": ".py",
   "mimetype": "text/x-python",
   "name": "python",
   "nbconvert_exporter": "python",
   "pygments_lexer": "ipython3",
   "version": "3.8.3"
  },
  "nbTranslate": {
   "displayLangs": [
    "es",
    "en"
   ],
   "hotkey": "alt-t",
   "langInMainMenu": true,
   "sourceLang": "en",
   "targetLang": "es",
   "useGoogleTranslate": true
  },
  "toc": {
   "base_numbering": 1,
   "nav_menu": {},
   "number_sections": true,
   "sideBar": true,
   "skip_h1_title": false,
   "title_cell": "Table of Contents",
   "title_sidebar": "Contents",
   "toc_cell": false,
   "toc_position": {},
   "toc_section_display": true,
   "toc_window_display": false
  }
 },
 "nbformat": 4,
 "nbformat_minor": 4
}
