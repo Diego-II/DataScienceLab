{
 "cells": [
  {
   "cell_type": "markdown",
   "metadata": {},
   "source": [
    "Referencias (para equipo docente):\n",
    "- bounding box chile continental: extraído manualmente de [boundingbox.klokantech.com](https://boundingbox.klokantech.com/) \\[[[-79.6157454929,-56.72500008],[-66.07534742,-56.72500008],[-66.07534742,-17.49839982],[-79.6157454929,-17.49839982],[-79.6157454929,-56.72500008]]\\]  \n",
    "**lon**: \\[-79.6157454929, -66.07534742\\], **lat**\\[-56.72500008, -17.49839982\\]\n",
    "- extender singledispatch a métodos de [stackoverflow](https://stackoverflow.com/questions/24601722/how-can-i-use-functools-singledispatch-with-instance-methods)"
   ]
  },
  {
   "cell_type": "code",
   "execution_count": null,
   "metadata": {},
   "outputs": [],
   "source": [
    "%load_ext autoreload\n",
    "%autoreload 2\n",
    "import requests\n",
    "import json\n",
    "import numpy as np\n",
    "from scipy import stats\n",
    "from datetime import date, datetime\n",
    "from time import sleep"
   ]
  },
  {
   "cell_type": "markdown",
   "metadata": {},
   "source": [
    "# Ejercicio 1\n",
    "**Objetivo**: Calcular estadísticas descriptivas sobre los movimientos telúricos ocurridos en Chile en los últimos 100 años, haciendo uso de algunas de las herramientas del curso.\n",
    "\n",
    "En pos de dicho objetivo utilizaremos una [API gratuita del _United States Geological Survey_ (USGS)](https://earthquake.usgs.gov/fdsnws/event/1/). Una API - Aplication Programming Interface o interfaz de programación de aplicaciones - es un conjunto de rutinas, protocolos y herramientas para crear aplicaciones de software. Básicamente, una API especifica cómo deben interactuar los componentes de software. - [Por Vangie Beal en Webopedia](https://www.webopedia.com/TERM/A/API.html)\n",
    "\n",
    "En este ejercicio trabajaremos con un tipo especial de API, que son las [web API](https://en.wikipedia.org/wiki/Web_API) y particularmente con las web API que están diseñadas para descargar datos de servidores en un forma programática.\n",
    "\n",
    "En particular, utilizaremos la API de _USGS_ para recolectar la información dichos movimientos telúricos ocurridos entre 1920 y 2020. Los pasos a seguir serán los siguientes:\n",
    "1. Construir las consultas de la API\n",
    "2. Recolectar los datos interactuando con la API\n",
    "3. Analizar los resultados mediante numpy y scipy\n"
   ]
  },
  {
   "cell_type": "markdown",
   "metadata": {},
   "source": [
    "## Preliminares"
   ]
  },
  {
   "cell_type": "markdown",
   "metadata": {},
   "source": [
    "Antes de comenzar, preste especial atención a al siguiente decorador. Este extiende el decorador `functools.singledispatch` para manejar métodos en vez de funciones. Normalmente, este decorador está disponible a partir de python 3.8 [link](https://docs.python.org/3/library/functools.html#functools.singledispatchmethod), pero como es posible observar a continuación, con la ayuda de \n",
    "las herramientas que esta librería ya proporciona en Python 3.7, es posible extender fácilmente la funcionalidad de `functools.singledispatch` como es deseado:\n",
    "\n",
    "**OBS**: No se explica el esta función pues es parte del ejercicio comprender su funcionamiento. Esto será evaluado más abajo."
   ]
  },
  {
   "cell_type": "code",
   "execution_count": null,
   "metadata": {},
   "outputs": [],
   "source": [
    "from functools import singledispatch, update_wrapper\n",
    "\n",
    "\n",
    "def singledispatchmeth(func):\n",
    "\n",
    "    despachador = singledispatch(func)\n",
    "\n",
    "    def wrapper(*args, **kw):\n",
    "        return despachador.dispatch(args[1].__class__)(*args, **kw)\n",
    "    \n",
    "    wrapper.register = despachador.register\n",
    "    wrapper.registry = despachador.registry\n",
    "    update_wrapper(wrapper, func)\n",
    "    return wrapper"
   ]
  },
  {
   "cell_type": "markdown",
   "metadata": {},
   "source": [
    "**OBS**: Este decorador será utilizado en dos ocasiones en el ejercicio, por lo que vale la pena comprender su funcionamiento."
   ]
  },
  {
   "cell_type": "markdown",
   "metadata": {},
   "source": [
    "## Construcción de consultas"
   ]
  },
  {
   "cell_type": "markdown",
   "metadata": {},
   "source": [
    "Para realizar una consulta a la API de USGS utilizatemos el protocolo http, donde definimos por medio de la URL, los parámetros de nuestra consulta:\n",
    "\n",
    "    https://earthquake.usgs.gov/fdsnws/event/1/[[METODO][?PARAMETROS]] \n",
    "    \n",
    "En el campo [METODO]() utilizaremos \"application.json\" lo que implica que la respuesta entregada por la API vendrá en formato `.json`, es decir _JavaScript Object Notation_. Explicar en detalle este formato escapa del alcance del ejercicio. Para efectos prácticos es un formato que permite almacenar información mediante una escritura analoga a los `dict` de Python, donde además se permiten objetos análogos tipos `list`, `int`, `float`, `str`, `bool` entre otros.\n",
    "\n",
    "En cuanto al campo [PARAMETROS], según está explicado en la documentación de la [API](https://earthquake.usgs.gov/fdsnws/event/1/) para hacer una consulta podemos definir una diversidad de parámetros. Los que serán útiles para el ejercicio son:\n",
    "- Geográficos: que servirán para definir la zona geográfica de interés. Estos son: `minlatitude`, `minlongitude`, `maxlatitude` y `maxlongitude`.\n",
    "- Temporales: servirán para definir el periodo de consulta. Se trata de: `starttime` y `endtime`.\n",
    "\n",
    "Dado que la API entrega un máximo de 20.000 respuestas por consulta y que Chile es un país con mucha actividad sísmica es necesario realizar múltiples consultas para capturar todos movimientos telúricos en cuestión. Las múltiples consultas **variarán su periodo de interés**, pero la **zona geográfica quedará fija**."
   ]
  },
  {
   "cell_type": "markdown",
   "metadata": {},
   "source": [
    "Ya que es requerido trabajar con variables temporales, se hace uso de la clase `date` de la librería `datetime`. \n",
    "\n",
    "A modo de ejemplo para denotar el primero de enero de 1920, el objeto se puede inicializar con una tupla de largo 3 que contiene sólo enteros que serán interpretados de la forma `(año, mes, día)`. Es decir:"
   ]
  },
  {
   "cell_type": "code",
   "execution_count": null,
   "metadata": {},
   "outputs": [],
   "source": [
    "primera_fecha = date(1920, 1, 1)\n",
    "print(f'La representacion del objeto `primera_fecha` es: {repr(primera_fecha)}')\n",
    "print(f'El string asociado `primera_fecha` es: {primera_fecha}')"
   ]
  },
  {
   "cell_type": "markdown",
   "metadata": {},
   "source": [
    "1. Extienda la clase `date` de la librería `datetime` a una nueva clase que denominaremos `DateConSuma`, en la cual el operador `+` se comporte de igual forma que la clase `date`, excepto al operar con una tupla de largo tres que contenga sólo enteros. En este caso, la clase debe interpretar la tupla de la forma `(años a sumar, meses a sumar, días a sumar)`.\n",
    "    - Utilice el decorador definido arriba `singledispatchmeth`.\n",
    "    - Recuerde hacer uso de control de flujo para asegurar que se está operando con una tupla de las caracrerísticas  especificadas.\n",
    "    - Haga uso de la función `super` adecuadamente. "
   ]
  },
  {
   "cell_type": "raw",
   "metadata": {},
   "source": [
    "from datetime import date\n",
    "\n",
    "# defina la clase"
   ]
  },
  {
   "cell_type": "code",
   "execution_count": null,
   "metadata": {},
   "outputs": [],
   "source": [
    "from datetime import date\n",
    "\n",
    "# defina la clase\n",
    "class DateConSuma(date):\n",
    "    \n",
    "    @singledispatchmeth\n",
    "    def __add__(self, sumando):\n",
    "        return super().__add__(sumando)\n",
    "    \n",
    "    @__add__.register(tuple)\n",
    "    def _(self, sumando):\n",
    "        assert len(sumando) == 3, 'La operación `+` esta solo definida para tuplas de largo 3'\n",
    "        assert all([isinstance(x, int) for x in sumando])\n",
    "        nueva_fecha = self.replace(year=self.year + sumando[0])\n",
    "        nueva_fecha = nueva_fecha.replace(month=self.month + sumando[1])\n",
    "        nueva_fecha = nueva_fecha.replace(day=self.day + sumando[2])\n",
    "        return nueva_fecha"
   ]
  },
  {
   "cell_type": "markdown",
   "metadata": {},
   "source": [
    "- Compruebe que el resultado es el deseado:"
   ]
  },
  {
   "cell_type": "code",
   "execution_count": null,
   "metadata": {},
   "outputs": [],
   "source": [
    "fecha_con_suma = DateConSuma(1920, 1, 1) \n",
    "fecha_con_suma + (10, 0, 0)"
   ]
  },
  {
   "cell_type": "markdown",
   "metadata": {},
   "source": [
    "Note además que las operaciones de comparación funcionan como lo esperado:"
   ]
  },
  {
   "cell_type": "code",
   "execution_count": null,
   "metadata": {},
   "outputs": [],
   "source": [
    "f'El dia de hoy {date.today()} sucedio antes que {fecha_con_suma}? {fecha_con_suma >= date.today()}'"
   ]
  },
  {
   "cell_type": "markdown",
   "metadata": {},
   "source": [
    "Ahora que ya se tienen herramientas para trabajar con fechas, crearemos un iterable que entregue tuplas con las fechas necesarias para realizar las consultas.\n",
    "\n",
    "2. Defina la clase `IteratorFechas` que retorne objetos de la clase `DateConSuma` espaciados cada $n$ años comenzando en 1920-01-01 y finalizando en 2020-01-01. Para ello:\n",
    "    - Defina los atributos públicos `desde_fecha` y `dia_presente` en el constructor, ambos de la clase `DateConSuma`. Además el constructor dberá recibir el parametro `n` que guardará en el atributo `espaciado` que \n",
    "    - Defina el método mágico `__iter__` donde símplemente retorne el objeto.\n",
    "    - Defina el método mágico `__next__` donde retorne una tupla de largo 2 que retorne los valores espaciados por 5 años. Para entregar la fecha 5 años después utilice la operación `+` ya definida en `DateConSuma`.\n",
    "    - El output de las 3 primeras y últimas iteraciones debería ser las siguientes tuplas del objeto `IteratorFechas(5)`:\n",
    "        ```python\n",
    "        ('DateConSuma(1920, 1, 1)', 'DateConSuma(1925, 1, 1)')\n",
    "        ('DateConSuma(1925, 1, 1)', 'DateConSuma(1930, 1, 1)')\n",
    "        ('DateConSuma(1930, 1, 1)', 'DateConSuma(1935, 1, 1)')\n",
    "        [...]\n",
    "        ('DateConSuma(2005, 1, 1)', 'DateConSuma(2010, 1, 1)')\n",
    "        ('DateConSuma(2010, 1, 1)', 'DateConSuma(2015, 1, 1)')\n",
    "        ('DateConSuma(2015, 1, 1)', 'DateConSuma(2020, 1, 1)')\n",
    "\n",
    "        ```\n",
    "      Una vez entregada la última tupla i.e. ('DateConSuma(2010, 1, 1)', 'DateConSuma(2020, 1, 1)') es necesario que `__next__` levante la excepción `StopIteration` la próxima vez que sea llamado."
   ]
  },
  {
   "cell_type": "markdown",
   "metadata": {},
   "source": [
    "_Hint_ : Puede ser útil recordar como funciona un **iterator**. "
   ]
  },
  {
   "cell_type": "markdown",
   "metadata": {},
   "source": [
    "    equipo docente: El siguiente también puede ser escrito como un generador."
   ]
  },
  {
   "cell_type": "raw",
   "metadata": {},
   "source": [
    "# defina la clase\n"
   ]
  },
  {
   "cell_type": "code",
   "execution_count": null,
   "metadata": {},
   "outputs": [],
   "source": [
    "# defina la clase\n",
    "class IteratorFechas():\n",
    "    \n",
    "    def __init__(self, n):\n",
    "        self.desde_fecha = DateConSuma(1920, 1, 1)\n",
    "        self.dia_presente = date.today()\n",
    "        self.espaciado = n\n",
    "    \n",
    "    def __iter__(self):\n",
    "        return self\n",
    "    \n",
    "    def __next__(self):\n",
    "        hasta_fecha = self.desde_fecha + (self.espaciado, 0, 0)\n",
    "        \n",
    "        if hasta_fecha <= self.dia_presente:\n",
    "            viejo_desde_fecha = self.desde_fecha\n",
    "            self.desde_fecha = hasta_fecha\n",
    "            return (viejo_desde_fecha, hasta_fecha)\n",
    "        \n",
    "        else:\n",
    "            raise StopIteration()"
   ]
  },
  {
   "cell_type": "raw",
   "metadata": {},
   "source": [
    "implementacion generador (pendiente a discutir)\n",
    "def generador_fechas():\n",
    "    desde_fecha = DateConSuma(1920, 1, 1)\n",
    "    dia_presente = date.today()"
   ]
  },
  {
   "cell_type": "markdown",
   "metadata": {},
   "source": [
    "- Compruebe que la clase `GeneradorFechas` funciona como es esperado."
   ]
  },
  {
   "cell_type": "code",
   "execution_count": null,
   "metadata": {},
   "outputs": [],
   "source": [
    "for desde_, hasta_ in IteratorFechas(5):\n",
    "    print((repr(desde_), repr(hasta_)))"
   ]
  },
  {
   "cell_type": "markdown",
   "metadata": {},
   "source": [
    "Como fue enunciado anteriormente la consulta a la API de USGS se hace mediante la sintaxis:\n",
    "\n",
    "    https://earthquake.usgs.gov/fdsnws/event/1/[METODO[?PARAMETROS]] \n",
    "    \n",
    "Mencionamos además que los parámetros de interés son:\n",
    "- Geográficos: `minlatitude`, `minlongitude`, `maxlatitude` y `maxlongitude`.\n",
    "- Temporales: `starttime` y `endtime`\n",
    "\n",
    "Así, por ejemplo si se desea consultar por los eventos ocurridos entre el primero de enero de 1920 y el primero de enero de 1925 la consulta sería de la forma:\n",
    "\n",
    "[https://earthquake.usgs.gov/fdsnws/event/1/query?format=geojson&starttime=1920-01-01&endtime=1925-01-01&minlatitude=-56.72500008&minlongitude=-80&maxlatitude=-17.49839982&maxlongitude=-66.07534742](https://earthquake.usgs.gov/fdsnws/event/1/query?format=geojson&starttime=1920-01-01&endtime=1925-01-01&minlatitude=-56.72500008&minlongitude=-80&maxlatitude=-17.49839982&maxlongitude=-66.07534742)\n",
    "\n",
    "Note que los parámetros geográficos fijos a utilizar son:\n",
    "\n",
    "```python\n",
    "'minlatitude': -56.72500008, \n",
    "'minlongitude': -80,\n",
    "'maxlatitude': -17.49839982,\n",
    "'maxlongitude': -66.07534742,\n",
    "``` "
   ]
  },
  {
   "cell_type": "markdown",
   "metadata": {},
   "source": [
    "3. Para la siguiente clase `ConstructorConsultasUSGS` defina el método `construye_consulta` que use los atributos `params_fijos_dict` y `url_base`, y además reciba los argumentos `desde_fecha` y `hasta_fecha` para retornar un string de consulta.  \n",
    "A modo de ejemplo, se espera que método `ConstructorConsultasUSGS.construye_consulta(DateConSuma(1920, 1, 1), DateConSuma(1925, 1, 1))`\n",
    "retorne el string \n",
    "```python\n",
    "'https://earthquake.usgs.gov/fdsnws/event/1/query?format=geojson&starttime=1920-01-01&endtime=1925-01-01&minlatitude=-56.72500008&minlongitude=-80&maxlatitude=-17.49839982&maxlongitude=-66.07534742'\n",
    "```"
   ]
  },
  {
   "cell_type": "raw",
   "metadata": {},
   "source": [
    "# defina la clase\n"
   ]
  },
  {
   "cell_type": "code",
   "execution_count": null,
   "metadata": {},
   "outputs": [],
   "source": [
    "class ConstructorConsultasUSGS():\n",
    "    \n",
    "        \n",
    "    def __init__(self):\n",
    "\n",
    "        # atributos fijos de consulta\n",
    "        self.params_dict = {\n",
    "            'minlatitude': -56.72500008, \n",
    "            'minlongitude': -80,\n",
    "            'maxlatitude': -17.49839982,\n",
    "            'maxlongitude': -66.07534742,\n",
    "        }\n",
    "        self.url_base = \"https://earthquake.usgs.gov/fdsnws/event/1/query?format=geojson\"\n",
    "\n",
    "    def construye_consulta(self, desde_fecha, hasta_fecha):\n",
    "        \n",
    "        iter_dict = {\n",
    "            'starttime': desde_fecha,\n",
    "            'endtime': hasta_fecha\n",
    "        }\n",
    "        iter_dict = {**iter_dict, **self.params_dict}\n",
    "        lista_parametros = ['&'+str(k)+'='+str(v) for k, v in iter_dict.items()]\n",
    "        return self.url_base + ''.join(lista_parametros)\n",
    "\n"
   ]
  },
  {
   "cell_type": "markdown",
   "metadata": {},
   "source": [
    "- Compruebe que el resultado es el deseado:"
   ]
  },
  {
   "cell_type": "code",
   "execution_count": null,
   "metadata": {},
   "outputs": [],
   "source": [
    "ConstructorConsultasUSGS().construye_consulta(\n",
    "    DateConSuma(1920, 1, 1), DateConSuma(1925, 1, 1))"
   ]
  },
  {
   "cell_type": "markdown",
   "metadata": {},
   "source": [
    "4. Cree la clase `GeneradorConsulta` que herede de las clases `ConstructorConsultasUSGS` e `IteratorFechas` para logrr un iterador que entregue las consultas a la API.  \n",
    "A modo de ejemplo, las 3 primeras y últimas iteraciones deben retornar:\n",
    "```python\n",
    "'https://earthquake.usgs.gov/fdsnws/event/1/query?format=geojson&starttime=1920-01-01&endtime=1925-01-01&minlatitude=-56.72500008&minlongitude=-80&maxlatitude=-17.49839982&maxlongitude=-66.07534742'\n",
    "'https://earthquake.usgs.gov/fdsnws/event/1/query?format=geojson&starttime=1925-01-01&endtime=1930-01-01&minlatitude=-56.72500008&minlongitude=-80&maxlatitude=-17.49839982&maxlongitude=-66.07534742'\n",
    "'https://earthquake.usgs.gov/fdsnws/event/1/query?format=geojson&starttime=1930-01-01&endtime=1935-01-01&minlatitude=-56.72500008&minlongitude=-80&maxlatitude=-17.49839982&maxlongitude=-66.07534742'\n",
    "...\n",
    "'https://earthquake.usgs.gov/fdsnws/event/1/query?format=geojson&starttime=2005-01-01&endtime=2010-01-01&minlatitude=-56.72500008&minlongitude=-80&maxlatitude=-17.49839982&maxlongitude=-66.07534742'\n",
    "'https://earthquake.usgs.gov/fdsnws/event/1/query?format=geojson&starttime=2010-01-01&endtime=2015-01-01&minlatitude=-56.72500008&minlongitude=-80&maxlatitude=-17.49839982&maxlongitude=-66.07534742'\n",
    "'https://earthquake.usgs.gov/fdsnws/event/1/query?format=geojson&starttime=2015-01-01&endtime=2020-01-01&minlatitude=-56.72500008&minlongitude=-80&maxlatitude=-17.49839982&maxlongitude=-66.07534742'\n",
    "```\n",
    "Para ello haga _overridding_ de los metodos:\n",
    "    - `__init__`: haga uso de la función `super` en dos ocasiones, recordando _MRO_.\n",
    "    - `__next__`: haga uso de la función `super` en dos ocasiones."
   ]
  },
  {
   "cell_type": "raw",
   "metadata": {},
   "source": [
    "# defina la clase\n"
   ]
  },
  {
   "cell_type": "code",
   "execution_count": null,
   "metadata": {},
   "outputs": [],
   "source": [
    "class GeneradorConsultaUSGS(IteratorFechas, ConstructorConsultasUSGS):\n",
    "        \n",
    "    def __init__(self, n):\n",
    "        \n",
    "        super().__init__(n)\n",
    "        super(IteratorFechas, self).__init__()\n",
    "\n",
    "    def __next__(self):\n",
    "        \n",
    "        desde_fecha, hasta_fecha = super().__next__()\n",
    "        return super().construye_consulta(desde_fecha, hasta_fecha)\n",
    "\n"
   ]
  },
  {
   "cell_type": "markdown",
   "metadata": {},
   "source": [
    "- Compruebe que el resultado es el deseado:"
   ]
  },
  {
   "cell_type": "code",
   "execution_count": null,
   "metadata": {},
   "outputs": [],
   "source": [
    "for consulta_str in GeneradorConsultaUSGS(5):\n",
    "    print(consulta_str)"
   ]
  },
  {
   "cell_type": "markdown",
   "metadata": {},
   "source": [
    "## Recolección de datos\n",
    "\n",
    "Ahora que ya construimos la clase que itera sobre las diferentes consultas que debes ser realizadas a la API de USGS, procederemos con la recolección de los datos.\n",
    "\n",
    "Los datos seran almacendos en un diccionario con la siguiente estructura:\n",
    "```python\n",
    "{\n",
    "    'id': [id_1, id_2, ...],\n",
    "    'lugar': [lugar_1, lugar_2, ...],\n",
    "    'timestamp': [timestamp_1, timestamp_2, ...],\n",
    "    'magnitud': [magnitud_1, magnitud_2, ...],\n",
    "    'longitud': [longitud_1, longitud_2, ...],\n",
    "    'latitud': [latitud_1, latitud_2, ...]\n",
    "}\n",
    "```\n",
    "es decir contiene en las llaves `str` con los nombres del atributos a recolectar y en los valores asociados, listas que contienen los atributos respectivos de cada observación recolectada.\n",
    "\n",
    "Ya que trabajaremos este tipo de estructura, definiremos una clase que simplifique la concatenación de los resultados en cada iteración."
   ]
  },
  {
   "cell_type": "markdown",
   "metadata": {},
   "source": [
    "5. Extienda la clase `dict` definiendo la clase `DictDeListas` donde se defina el método `extiende_listas` que reciba como argumento otro objeto del tipo `DictDeListas` y concatene las listas asociadas asociadas a las mismas llaves en ambos argumentos.\n",
    "    - Haga uso del método `items`.  \n",
    "   \n",
    "   _Hint_ : Ponga atención a la celda subsiguiente de código para aclara dudas sobre el funcionamiento del método."
   ]
  },
  {
   "cell_type": "raw",
   "metadata": {},
   "source": [
    "# defina la clase\n"
   ]
  },
  {
   "cell_type": "code",
   "execution_count": null,
   "metadata": {},
   "outputs": [],
   "source": [
    "class DictDeListas(dict):\n",
    "    \n",
    "    def extiende_listas(self, dict_de_listas):\n",
    "        \n",
    "        # asegure que el argumento es del tipo DictDeListas\n",
    "        assert isinstance(dict_de_listas, DictDeListas), ValueError(\n",
    "            'El argumento `dict_de_listas` debe ser de la clase `DictDeListas`.')\n",
    "        \n",
    "        for k, l in dict_de_listas.items():\n",
    "            \n",
    "            self[k] += l\n",
    "            "
   ]
  },
  {
   "cell_type": "markdown",
   "metadata": {},
   "source": [
    "- Compruebe que el resultado es el siguiente:  \n",
    "\n",
    "```python\n",
    "{'id': ['iscgem908354',\n",
    "  'iscgem908107',\n",
    "  'iscgem908989',\n",
    "  'iscgem908986',\n",
    "  'iscgem908971',\n",
    "  'iscgem908457']}\n",
    "\n",
    "```"
   ]
  },
  {
   "cell_type": "code",
   "execution_count": null,
   "metadata": {},
   "outputs": [],
   "source": [
    "primer_dict_de_listas = DictDeListas({\n",
    "    'id': ['iscgem908354', 'iscgem908107','iscgem908989']\n",
    "})\n",
    "primer_dict_de_listas.extiende_listas(DictDeListas({\n",
    "    'id': ['iscgem908986', 'iscgem908971', 'iscgem908457']\n",
    "}))\n",
    "primer_dict_de_listas"
   ]
  },
  {
   "cell_type": "markdown",
   "metadata": {},
   "source": [
    "Ya que tenemos definido el tipo de dato que contendrá las observaciones recolectadas, ahora podemos proceder con la realización de las consultas. Para ellos utilizaremos la librería `requests` y en particular el método `get` que permite efectuar consultas mediante el método _GET_ del protocolo _HTTP_. Explicar ambos conceptos se escapa del alcance de este ejercicio. Sin embargo es necesario examinar la clase `request.Response`. Por ejemplo, al ejecutar:"
   ]
  },
  {
   "cell_type": "code",
   "execution_count": null,
   "metadata": {},
   "outputs": [],
   "source": [
    "resp = requests.get(\n",
    "    'https://earthquake.usgs.gov/fdsnws/event/1/query?format=geojson&starttime=1920-01-01&endtime=1925-01-01&minlatitude=-56.72500008&minlongitude=-80&maxlatitude=-17.49839982&maxlongitude=-66.07534742')"
   ]
  },
  {
   "cell_type": "markdown",
   "metadata": {},
   "source": [
    "Notamos que dicho objeto posee tres métodos de interés: \n",
    "- `__enter__` y `__exit__` cuya funcionalidad debería subentenderse dado lo ya visto en el curso.\n",
    "- `json`: retorna el contenido codificado con json de una respuesta, si corresponde. \n",
    "\n",
    "Observemos el contenido `json` la respuesta obtenida."
   ]
  },
  {
   "cell_type": "code",
   "execution_count": null,
   "metadata": {},
   "outputs": [],
   "source": [
    "display(resp.json())\n",
    "resp.close()"
   ]
  },
  {
   "cell_type": "markdown",
   "metadata": {},
   "source": [
    "Podemos observar que el contenido está anidado un `dict` que contiene diferentes pares de (llaves, valor) de tipo (`str`, $\\textrm{obj}$) donde $\\textrm{obj}$ puede ser de tipos `dict`, `list`, `str`, `int`, `float`, `NoneType`, etc...\n",
    "\n",
    "Para el ejercicio nos centraremos en el valor asociado a la llave `'features'`, que contiene una lista con elementos de tipo `dict` con la información relativa a cada observación. Ya que no es de interés que se estudie la estructura de este `json`, proporcionamos las de funciones lambda que aplicadas a los elementos de la lista mencionada, retornan los atributos de interés (especificados con los `str` como llaves del siguiente objeto `funciones_dict`).   \n",
    "\n",
    "**OBS**: además de el acceso elementos del diccionario `json`, la función asociada al `'timestamp'` interpretar los valores recolectados como objetos `datetime` de la librería `datetime`."
   ]
  },
  {
   "cell_type": "code",
   "execution_count": null,
   "metadata": {},
   "outputs": [],
   "source": [
    "funciones_dict = {\n",
    "    'id': lambda x: x['id'],\n",
    "    'lugar': lambda x: x['properties']['place'],\n",
    "    'timestamp': lambda x: datetime.fromtimestamp(\n",
    "        x['properties']['time'] // 1000),\n",
    "    'magnitud': lambda x: x['properties']['mag'],\n",
    "    'longitud': lambda x: x['geometry']['coordinates'][0],\n",
    "    'latitud': lambda x: x['geometry']['coordinates'][1]\n",
    "}"
   ]
  },
  {
   "cell_type": "markdown",
   "metadata": {},
   "source": [
    "Así para obtener los atributos de interés de la primera observación aplicamos:"
   ]
  },
  {
   "cell_type": "code",
   "execution_count": null,
   "metadata": {},
   "outputs": [],
   "source": [
    " {k: func(resp.json()['features'][0]) for k, func in funciones_dict.items()}"
   ]
  },
  {
   "cell_type": "markdown",
   "metadata": {},
   "source": [
    "6. Recolecte los datos haciendo uso de `funciones_dict`, en el siguiente procedimiento complete las 3 lineas indicadas con:\n",
    "    ```python\n",
    "    _ _ _ _ # Completar {n}\n",
    "    ```\n",
    "    - **Completar 1**: haga uso de la función `map`\n",
    "    - **Completar 2** y **Completar 3**: haga lo que corresponda para obtener un `DictDeListas` con la concatenación de todos los atributos de interés para todas las consultas realizadas a la API. _Hint_ : recuerde la razón por la que definimos `DictDeListas`."
   ]
  },
  {
   "cell_type": "raw",
   "metadata": {},
   "source": [
    "# inicializar el contenedor de los datos recolectados\n",
    "observaciones_dict = DictDeListas()\n",
    "\n",
    "# generar las url de las consultas a la API\n",
    "for consulta_str in GeneradorConsulta(5):\n",
    "\n",
    "    with requests.get(consulta_str) as respuesta:\n",
    "\n",
    "        assert respuesta.ok, f'Respuesta erronea de codigo: {respuesta.status_code}'\n",
    "\n",
    "        respuesta_dict = respuesta.json()\n",
    "        respuesta_features_lista = respuesta_dict['features']\n",
    "\n",
    "        # reporta numero de resultados\n",
    "        print(\n",
    "            f'{len(respuesta_dict[\"features\"])} observaciones en consulta {consulta_str}')\n",
    "\n",
    "        iter_dict = DictDeListas()\n",
    "\n",
    "        for k, func in funciones_dict.items():\n",
    "\n",
    "            iter_dict[k] = _ _ _ _ # Completar 1\n",
    "\n",
    "        if observaciones_dict:\n",
    "\n",
    "            _ _ _ _ # Completar 2\n",
    "\n",
    "        else:\n",
    "\n",
    "            _ _ _ _ # Completar 3\n",
    "\n",
    "        # espera 5 segundos antes de realizar la próxima consulta\n",
    "        sleep(5)"
   ]
  },
  {
   "cell_type": "code",
   "execution_count": null,
   "metadata": {},
   "outputs": [],
   "source": [
    "# inicializar el contenedor de los datos recolectados\n",
    "observaciones_dict = DictDeListas()\n",
    "\n",
    "# generar las url de las consultas a la API\n",
    "for consulta_str in GeneradorConsultaUSGS(5):\n",
    "\n",
    "    with requests.get(consulta_str) as respuesta:\n",
    "\n",
    "        assert respuesta.ok, f'Respuesta erronea de codigo: {respuesta.status_code}'\n",
    "\n",
    "        respuesta_dict = respuesta.json()\n",
    "        respuesta_features_lista = respuesta_dict['features']\n",
    "\n",
    "        # reporta numero de resultados\n",
    "        print(\n",
    "            f'{len(respuesta_dict[\"features\"])} observaciones en consulta {consulta_str}')\n",
    "\n",
    "        iter_dict = DictDeListas()\n",
    "\n",
    "        for k, func in funciones_dict.items():\n",
    "\n",
    "            iter_dict[k] = list(map(func, respuesta_features_lista))\n",
    "\n",
    "        if observaciones_dict:\n",
    "\n",
    "            observaciones_dict.extiende_listas(iter_dict)\n",
    "\n",
    "        else:\n",
    "\n",
    "            observaciones_dict = DictDeListas(iter_dict.copy())\n",
    "\n",
    "        # espera 5 segundos antes de realizar la próxima consulta\n",
    "        sleep(5)"
   ]
  },
  {
   "cell_type": "markdown",
   "metadata": {},
   "source": [
    "- Compruebe que la cantidad de observaciones recolectadas debería ser mayor a  63.500"
   ]
  },
  {
   "cell_type": "code",
   "execution_count": null,
   "metadata": {},
   "outputs": [],
   "source": [
    "print(f'Fueron recolectadas {len(observaciones_dict[\"id\"]):,} observaciones')"
   ]
  },
  {
   "cell_type": "markdown",
   "metadata": {},
   "source": [
    "## Análisis de datos\n",
    "Finalmente es posible proceder al análisis de los datos. Para ello se hará uso de  las librerías `numpy` y `scipy`. \n",
    "\n",
    "El primer paso será transformar las listas en numpy array segun usamdo los siguientes tipos de datos:"
   ]
  },
  {
   "cell_type": "code",
   "execution_count": null,
   "metadata": {},
   "outputs": [],
   "source": [
    "dtype_dict = {\n",
    "    'id': np.dtype('<U64'),\n",
    "    'lugar': np.dtype('<U64'),\n",
    "    'timestamp': np.dtype('<M8[ns]'),\n",
    "    'magnitud': np.dtype(float),\n",
    "    'longitud': np.dtype(float),\n",
    "    'latitud': np.dtype(float)\n",
    "}"
   ]
  },
  {
   "cell_type": "markdown",
   "metadata": {},
   "source": [
    "7. Transforme las listas de los atributos de interés contenidas en `observaciones_dict` en un `numpy.ndarray` de `dtype` específico.  Para saber que dtype corresponde a cada atributo, guíese por `dtype_dict`. Es decir, por ejemplo, para los atributos contenidos en `observaciones_dict['timestamp']` usted debe transformarlos en un `numpy.ndarray` de `dtype` `np.dtype('<M8[ns]')` \n",
    "    - Utilice comprensión de diccionarios y el método `items`."
   ]
  },
  {
   "cell_type": "raw",
   "metadata": {},
   "source": [
    "observaciones_arr_dict = _ _ _ _ # Completar"
   ]
  },
  {
   "cell_type": "code",
   "execution_count": null,
   "metadata": {},
   "outputs": [],
   "source": [
    "observaciones_arr_dict = {k: np.array(v, dtype=dtype_dict[k]) for k, v in observaciones_dict.items()}"
   ]
  },
  {
   "cell_type": "markdown",
   "metadata": {},
   "source": [
    "- Compruebe que el evento más antiguo contenido en `observaciones_arr_dict` corresponde al 3 de agosto de 1920."
   ]
  },
  {
   "cell_type": "code",
   "execution_count": null,
   "metadata": {},
   "outputs": [],
   "source": [
    "observaciones_arr_dict['timestamp'].min()"
   ]
  },
  {
   "cell_type": "markdown",
   "metadata": {},
   "source": [
    "Como fue enunciado al comienzo del documento, el objetivo del ejercicio es obtener estadísticas descriptivas de los movimientos telúricos ocurridos en Chile en los últimos 100 años. Para mostrar dichas estadísticas definiremos la función `muestra_estadisticas_descriptivas` que toma como argumento un  `numpy.ndarray` y muestra en pantalla las siguientes estadísticas según la clase de los elementos contenidos en dicho arreglo:\n",
    "- `'np.float64'` y `numpy.datetime64` (`datetime` en nanosegundos): número de observaciones, promedio, mediana, primer cuartil, tercer cuartil, minimo y maximo.\n",
    "- `'<U64'` (`str` de largo máximo 64): número de observaciones y moda.\n",
    "\n",
    "Como el comportamiento debe variar según el tipo de dato del argumento, sería conveniente usar el decorador `singledispatch`. Sin embargo al verificar:\n",
    "```python\n",
    ">>>[val.__class__ for val in observaciones_arr_dict.values()]\n",
    "[numpy.ndarray,\n",
    " numpy.ndarray,\n",
    " numpy.ndarray,\n",
    " numpy.ndarray,\n",
    " numpy.ndarray,\n",
    " numpy.ndarray]\n",
    "```\n",
    "observamos que el todos los array contenidos en `observaciones_arr_dict` pertenecen a la misma clase, `numpy.ndarray`. Por lo tanto es necesario volver a modificar el comportamiento de `singledispatch` para que sea capaz de distinguir entre el `dtype` del array que recibe como argumento."
   ]
  },
  {
   "cell_type": "markdown",
   "metadata": {},
   "source": [
    "8. Complete el código de la siguiente función para extender la funcionalidad de `singledispatch` para distinguir `dtype` del `numpy.ndarray` usado como argumento.  \n",
    "_Hint_ : inspirese de el código de `singledispatchmeth` en la Sección Preliminares."
   ]
  },
  {
   "cell_type": "raw",
   "metadata": {},
   "source": [
    "def numpydispatch(func):\n",
    "    despachador = singledispatch(func)\n",
    "\n",
    "    def wrapper(*args, **kw):\n",
    "        return despachador.dispatch(_ _ _ _ )(_ _ _ _) # Completar\n",
    "    \n",
    "    wrapper.register = despachador.register\n",
    "    update_wrapper(wrapper, func)\n",
    "    return wrapper"
   ]
  },
  {
   "cell_type": "code",
   "execution_count": null,
   "metadata": {},
   "outputs": [],
   "source": [
    "def numpydispatch(func):\n",
    "    \n",
    "    despachador = singledispatch(func)\n",
    "\n",
    "    def wrapper(*args, **kw):\n",
    "        return despachador.dispatch(args[0][0].__class__)(*args, **kw)\n",
    "    \n",
    "    wrapper.register = despachador.register\n",
    "    wrapper.registry = despachador.registry\n",
    "    update_wrapper(wrapper, func)\n",
    "    return wrapper"
   ]
  },
  {
   "cell_type": "markdown",
   "metadata": {},
   "source": [
    "- Compruebe que el resultado es el deseado:"
   ]
  },
  {
   "cell_type": "code",
   "execution_count": null,
   "metadata": {},
   "outputs": [],
   "source": [
    "@numpydispatch\n",
    "def test_numpydispatch(array):\n",
    "    pass\n",
    "    \n",
    "@test_numpydispatch.register(np.float64)\n",
    "def _(array):\n",
    "    pass\n",
    "        \n",
    "@test_numpydispatch.register(np.datetime64)\n",
    "def _(array):\n",
    "    pass\n",
    "    \n",
    "@test_numpydispatch.register(str)\n",
    "def _(array):\n",
    "    pass\n",
    "\n",
    "test_numpydispatch.registry.keys()"
   ]
  },
  {
   "cell_type": "markdown",
   "metadata": {},
   "source": [
    "9. Para concluir complete las funciones de `muestra_estadisticas_descriptivas` asociadas a arreglos que contienen elementos de clase `np.float64` y `np.str_`. Estas deben mostrar en pantalla:\n",
    "    - `'np.float64'`: número de observaciones, promedio, mediana, primer cuartil, tercer cuartil, minimo y maximo.\n",
    "    - `'<U64'` (`str` de largo máximo 64): número de observaciones y moda.  \n",
    "    \n",
    "   **OBS**: se provee la función asociada a los array con elementos de la clase `np.datetime64` pues el método `view` está fuera del alcance del ejercicio."
   ]
  },
  {
   "cell_type": "raw",
   "metadata": {},
   "source": [
    "@numpydispatch\n",
    "def muestra_estadisticas_descriptivas(array):\n",
    "    '''Define el comportamiento para objetos en general fuera de registry'''\n",
    "    print(f\"numero de observaciones: {len(array):,}\")\n",
    "        \n",
    "@muestra_estadisticas_descriptivas.register(np.datetime64)\n",
    "def _(array):\n",
    "    '''Define el comportamiento para los objetos '''\n",
    "    \n",
    "    # transforma array para que puedan calcularse las estadisticas deseadas\n",
    "    trans_array = observaciones_arr_dict['timestamp'].view('i8')\n",
    "    \n",
    "    # inicializa el contenedor de los str a mostrar en pantalla\n",
    "    lista_str = []\n",
    "    \n",
    "    # genera los str a mostrar en pantalla\n",
    "    lista_str.append(f\"numero de observaciones: {len(array):,}\")\n",
    "    lista_str.append(\n",
    "        f\"media: {trans_array.mean().astype('datetime64[ns]')}\"\n",
    "    )\n",
    "    lista_str.append(\n",
    "        f\"mediana: {np.median(trans_array).astype('datetime64[ns]')}\"\n",
    "    )\n",
    "    lista_str.append(\n",
    "        f\"primer cuartil: {np.quantile(trans_array, .25).astype('datetime64[ns]')}\"\n",
    "    )\n",
    "    lista_str.append(\n",
    "        f\"tercer cuartil: {np.quantile(trans_array, .75).astype('datetime64[ns]')}\"\n",
    "    )\n",
    "    lista_str.append(\n",
    "        f\"minimo: {trans_array.min().astype('datetime64[ns]')}\"\n",
    "    )\n",
    "    lista_str.append(\n",
    "        f\"maximo: {trans_array.max().astype('datetime64[ns]')}\"\n",
    "    )\n",
    "    \n",
    "    # muestra los elementos de la lista separados por un salto de linea\n",
    "    print('\\n'.join(lista_str))\n",
    "    \n",
    "@muestra_estadisticas_descriptivas.register(np.float64)\n",
    "def _(array):\n",
    "    \n",
    "    pass # Completar\n",
    "    \n",
    "@muestra_estadisticas_descriptivas.register(np.str_)\n",
    "def _(array):\n",
    "    \n",
    "    pass # Completar"
   ]
  },
  {
   "cell_type": "code",
   "execution_count": null,
   "metadata": {},
   "outputs": [],
   "source": [
    "@numpydispatch\n",
    "def muestra_estadisticas_descriptivas(array):\n",
    "    '''Define el comportamiento para objetos en general fuera de registry'''\n",
    "    print(f\"numero de observaciones: {len(array):,}\")\n",
    "        \n",
    "@muestra_estadisticas_descriptivas.register(np.datetime64)\n",
    "def _(array):\n",
    "    '''Define el comportamiento para los objetos '''\n",
    "    \n",
    "    # transforma array para que puedan calcularse las estadisticas deseadas\n",
    "    trans_array = observaciones_arr_dict['timestamp'].view('i8')\n",
    "    \n",
    "    # inicializa el contenedor de los str a mostrar en pantalla\n",
    "    lista_str = []\n",
    "    \n",
    "    # genera los str a mostrar en pantalla\n",
    "    lista_str.append(f\"numero de observaciones: {len(array):,}\")\n",
    "    lista_str.append(\n",
    "        f\"media: {trans_array.mean().astype('datetime64[ns]')}\"\n",
    "    )\n",
    "    lista_str.append(\n",
    "        f\"mediana: {np.median(trans_array).astype('datetime64[ns]')}\"\n",
    "    )\n",
    "    lista_str.append(\n",
    "        f\"primer cuartil: {np.quantile(trans_array, .25).astype('datetime64[ns]')}\"\n",
    "    )\n",
    "    lista_str.append(\n",
    "        f\"tercer cuartil: {np.quantile(trans_array, .75).astype('datetime64[ns]')}\"\n",
    "    )\n",
    "    lista_str.append(\n",
    "        f\"minimo: {trans_array.min().astype('datetime64[ns]')}\"\n",
    "    )\n",
    "    lista_str.append(\n",
    "        f\"maximo: {trans_array.max().astype('datetime64[ns]')}\"\n",
    "    )\n",
    "    \n",
    "    # muestra los elementos de la lista separados por un salto de linea\n",
    "    print('\\n'.join(lista_str))\n",
    "    \n",
    "@muestra_estadisticas_descriptivas.register(np.float64)\n",
    "def _(array):\n",
    "    lista_str = []\n",
    "    lista_str.append(f\"numero de observaciones: {len(array):,}\")\n",
    "    lista_str.append(f\"media: {np.nanmean(array):.2f}\")\n",
    "    lista_str.append(f\"mediana: {np.nanmedian(array):.2f}\")\n",
    "    lista_str.append(f\"primer cuartil: {np.nanquantile(array, .25):.2f}\")\n",
    "    lista_str.append(f\"tercer cuartil: {np.nanquantile(array, .75):.2f}\")\n",
    "    lista_str.append(f\"minimo: {np.nanmin(array)}\")\n",
    "    lista_str.append(f\"maximo: {np.nanmax(array)}\")\n",
    "    print('\\n'.join(lista_str))\n",
    "    \n",
    "    \n",
    "@muestra_estadisticas_descriptivas.register(np.str_)\n",
    "def _(array):\n",
    "    \n",
    "    array\n",
    "    resultados_moda = stats.mode(array, nan_policy=\"omit\")\n",
    "    \n",
    "    lista_str = []\n",
    "    lista_str.append(f\"numero de observaciones: {len(array):,}\")\n",
    "    lista_str.append(f'moda: {resultados_moda.mode[0]} ({resultados_moda.count[0]:,} ocurrencias)')\n",
    "    print('\\n'.join(lista_str))"
   ]
  },
  {
   "cell_type": "markdown",
   "metadata": {},
   "source": [
    "- Comprobamos las siguientes estadísticas descriptivas:\n",
    "    - moda('lugar'): San Juan, Argentina (más de 8.000 ocurrencias)\n",
    "    - mínimo('timestamp'): 1920-08-03\n",
    "    - media('magnitud'): aprox. 3.8\n",
    "    - mediana('longitud'): aprox. -70.7\n",
    "    - maximo('latitud'): aprox. -17.5"
   ]
  },
  {
   "cell_type": "code",
   "execution_count": null,
   "metadata": {},
   "outputs": [],
   "source": [
    "for k, val in observaciones_arr_dict.items():\n",
    "    \n",
    "    if k != 'id': \n",
    "    \n",
    "        print(f'\\nVariable: {k}')\n",
    "        muestra_estadisticas_descriptivas(val)"
   ]
  }
 ],
 "metadata": {
  "kernelspec": {
   "display_name": "Python 3",
   "language": "python",
   "name": "python3"
  },
  "language_info": {
   "codemirror_mode": {
    "name": "ipython",
    "version": 3
   },
   "file_extension": ".py",
   "mimetype": "text/x-python",
   "name": "python",
   "nbconvert_exporter": "python",
   "pygments_lexer": "ipython3",
   "version": "3.6.10"
  },
  "nbTranslate": {
   "displayLangs": [
    "es",
    "en"
   ],
   "hotkey": "alt-t",
   "langInMainMenu": true,
   "sourceLang": "en",
   "targetLang": "es",
   "useGoogleTranslate": true
  },
  "toc": {
   "base_numbering": 1,
   "nav_menu": {},
   "number_sections": true,
   "sideBar": true,
   "skip_h1_title": false,
   "title_cell": "Table of Contents",
   "title_sidebar": "Contents",
   "toc_cell": false,
   "toc_position": {},
   "toc_section_display": true,
   "toc_window_display": true
  }
 },
 "nbformat": 4,
 "nbformat_minor": 4
}
