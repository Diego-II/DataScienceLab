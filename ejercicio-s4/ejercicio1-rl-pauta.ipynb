{
 "cells": [
  {
   "cell_type": "markdown",
   "metadata": {},
   "source": [
    "Referencias (para equipo docente):\n",
    "- bounding box chile continental: extraído manualmente de [boundingbox.klokantech.com](https://boundingbox.klokantech.com/) \\[[[-79.6157454929,-56.72500008],[-66.07534742,-56.72500008],[-66.07534742,-17.49839982],[-79.6157454929,-17.49839982],[-79.6157454929,-56.72500008]]\\]  \n",
    "**lon**: \\[-79.6157454929, -66.07534742\\], **lat**\\[-56.72500008, -17.49839982\\]\n",
    "- extender singledispatch a métodos de [stackoverflow](https://stackoverflow.com/questions/24601722/how-can-i-use-functools-singledispatch-with-instance-methods)"
   ]
  },
  {
   "cell_type": "code",
   "execution_count": null,
   "metadata": {},
   "outputs": [],
   "source": [
    "%load_ext autoreload\n",
    "%autoreload 2\n",
    "import requests\n",
    "import json\n",
    "import numpy as np\n",
    "from scipy import stats\n",
    "from datetime import date, timedelta\n",
    "from time import sleep"
   ]
  },
  {
   "cell_type": "markdown",
   "metadata": {
    "lang": "en"
   },
   "source": [
    "_An Application Programming Interface (API) is a set of routines, protocols, and tools for building software applications. Basically, an API specifies how software components should interact._ - [By Vangie Beal in Webopedia](https://www.webopedia.com/TERM/A/API.html)\n",
    "\n",
    "In this workshop we will work with an special types of API's, which are the [Web API's](https://en.wikipedia.org/wiki/Web_API) and particularly with Web API's which are designed to download data from servers in a programmatic way."
   ]
  },
  {
   "cell_type": "markdown",
   "metadata": {
    "lang": "es"
   },
   "source": []
  },
  {
   "cell_type": "markdown",
   "metadata": {},
   "source": [
    "# Ejercicio 1\n",
    "**Objetivo**: Calcular estadísticas descriptivas sobre los movimientos telúricos ocurridos en Chile en los últimos 100 años, haciendo uso de algunas de las herramientas del curso.\n",
    "\n",
    "En pos de dicho objetivo utilizaremos una [API](https://earthquake.usgs.gov/fdsnws/event/1/) gratuita del _United States Geological Survey_ (USGS). Una API - Aplication Programming Interface o interfaz de programación de aplicaciones - es un conjunto de rutinas, protocolos y herramientas para crear aplicaciones de software. Básicamente, una API especifica cómo deben interactuar los componentes de software. - [Por Vangie Beal en Webopedia](https://www.webopedia.com/TERM/A/API.html)\n",
    "\n",
    "En este ejercicio trabajaremos con un tipo especial de API, que son las [web API](https://en.wikipedia.org/wiki/Web_API) y particularmente con las web API que están diseñadas para descargar datos de servidores en un forma programática\n",
    "\n",
    "Los pasos a seguir serán los siguientes:\n",
    "1. Construir las consultas\n",
    "2. Recolectar los datos\n",
    "3. Analizar los resultados\n"
   ]
  },
  {
   "cell_type": "markdown",
   "metadata": {},
   "source": [
    "## Preliminares"
   ]
  },
  {
   "cell_type": "markdown",
   "metadata": {},
   "source": [
    "Antes de comenzar, preste especial atención a al siguiente decorador. Este extiende el decorador `functools.singledispatch` para manejar métodos en vez de funciones. Normalmente, este decorador está disponible a partir de python 3.8 [link](https://docs.python.org/3/library/functools.html#functools.singledispatchmethod), pero como es posible observar a continuación, con la ayuda de \n",
    "las herramientas que esta librería ya proporciona en Python 3.7, es posible extender fácilmente la funcionalidad de `functools.singledispatch` como es deseado:\n"
   ]
  },
  {
   "cell_type": "code",
   "execution_count": null,
   "metadata": {},
   "outputs": [],
   "source": [
    "from functools import singledispatch, update_wrapper\n",
    "\n",
    "def singledispatchmeth(func):\n",
    "    \n",
    "    despachador = singledispatch(func)\n",
    "    def wrapper(*args, **kw):\n",
    "        return despachador.dispatch(args[1].__class__)(*args, **kw)\n",
    "    wrapper.register = despachador.register\n",
    "    update_wrapper(wrapper, func)\n",
    "    return wrapper"
   ]
  },
  {
   "cell_type": "markdown",
   "metadata": {},
   "source": [
    "**OBS**: Este decorador será utilizado en dos ocasiones en el ejercicio, por lo que vale la pena comprender su funcionamiento."
   ]
  },
  {
   "cell_type": "markdown",
   "metadata": {},
   "source": [
    "## Construcción de consultas"
   ]
  },
  {
   "cell_type": "markdown",
   "metadata": {},
   "source": [
    "Como está explicado en la documentación de la [API](https://earthquake.usgs.gov/fdsnws/event/1/) para hacer una consulta podemos definir una diversidad de parámetros. Los que serán útiles para el ejercicio son:\n",
    "- Geográficos: que servirán para definir la zona geográfica de interés. Estos son: `minlatitude`, `minlongitude`, `maxlatitude` y `maxlongitude`.\n",
    "- Temporales: servirán para definir el periodo de consulta. Se trata de: `starttime` y `endtime`.\n",
    "\n",
    "Dado que la API entrega un máximo de 20.000 respuestas por consulta y que Chile es un país con mucha actividad sísmica es necesario realizar múltiples consultas para capturar todos movimientos telúricos en cuestión. Las multiples consultas variarán su periodo de interés, pero la zona geográfica queadrá fija .\n"
   ]
  },
  {
   "cell_type": "markdown",
   "metadata": {},
   "source": [
    "Ya que es requerido trabajar con variables temporales, se hace uso de la clase `date` de la librería `datetime`. Para denotar el primero de enero de 1920, el objeto se puede inicializar con una tupla de largo 3 que contiene sólo enteros que serán interpretados de la forma `(año, mes, día)`. Es decir:"
   ]
  },
  {
   "cell_type": "code",
   "execution_count": null,
   "metadata": {},
   "outputs": [],
   "source": [
    "primera_fecha = date(1920, 1, 1)\n",
    "print(f'La representacion del objeto `primera_fecha` es: {repr(primera_fecha)}')\n",
    "print(f'El string asociado `primera_fecha` es: {primera_fecha}')"
   ]
  },
  {
   "cell_type": "markdown",
   "metadata": {},
   "source": [
    "1. Extienda la clase `date` de la librería `datetime` a una nueva clase que denominaremos `DateConSuma`, en la cual el operador `+` se comporte de igual forma que la clase `date`, excepto al operar con una tupla de largo tres que contenga sólo enteros. En este caso, la clase debe interpretar la tupla de la forma `(años a sumar, meses a sumar, días a sumar)`.\n",
    "    - Utilice el decorador definido arriba `singledispatchmeth`.\n",
    "    - Recuerde hacer uso de control de flujo para asegurar que se está operando con una tupla de las caracrerísticas  especificadas.\n",
    "    - Haga uso de la función `super` adecuadamente. "
   ]
  },
  {
   "cell_type": "code",
   "execution_count": null,
   "metadata": {},
   "outputs": [],
   "source": [
    "from datetime import date\n",
    "\n",
    "class DateConSuma(date):\n",
    "    \n",
    "    @singledispatchmeth\n",
    "    def __add__(self, sumando):\n",
    "        return super().__add__(sumando)\n",
    "    \n",
    "    @__add__.register(tuple)\n",
    "    def _(self, sumando):\n",
    "        assert len(sumando) == 3, 'La operación `+` esta solo definida para tuplas de largo 3'\n",
    "        assert all([isinstance(x, int) for x in sumando])\n",
    "        nueva_fecha = self.replace(year=self.year + sumando[0])\n",
    "        nueva_fecha = nueva_fecha.replace(month=self.month + sumando[1])\n",
    "        nueva_fecha = nueva_fecha.replace(day=self.day + sumando[2])\n",
    "        return nueva_fecha"
   ]
  },
  {
   "cell_type": "markdown",
   "metadata": {},
   "source": [
    "- Compruebe que el resultado es el deseado:"
   ]
  },
  {
   "cell_type": "code",
   "execution_count": null,
   "metadata": {},
   "outputs": [],
   "source": [
    "fecha_con_suma = DateConSuma(1920, 1, 1) \n",
    "fecha_con_suma + (10, 0, 0)"
   ]
  },
  {
   "cell_type": "markdown",
   "metadata": {},
   "source": [
    "Note además que las operaciones de comparación funcionan como lo esperado:"
   ]
  },
  {
   "cell_type": "code",
   "execution_count": null,
   "metadata": {},
   "outputs": [],
   "source": [
    "f'El dia de hoy {date.today()} sucedio antes que {fecha_con_suma}? {fecha_con_suma >= date.today()}'"
   ]
  },
  {
   "cell_type": "markdown",
   "metadata": {},
   "source": [
    "Ahora que ya se tienen herramientas para trabajar con fechas, crearemos un iterable que entregue tuplas con las fechas necesarias para realizar las consultas.\n",
    "\n",
    "2. Defina la clase `IteratorFechas` que entregue objetos de la clase `DateConSuma` espaciados cada 10 años comenzando en 1920-01-01 y finalizando en 2020-01-01. Para ello:\n",
    "    - Defina los atributos públicos `desde_fecha` y `dia_presente` en el constructor, ambos de la clase `DateConSuma`\n",
    "    - Defina el método mágico `__iter__` donde simplemente retorne el objeto.\n",
    "    - Defina el método mágico `__next__` donde retorne una tupla de largo 2 que retorne los valores espaciados por 5 años. El output de las 3 primeras y últimas iteraciones debería retornar las siguientes tuplas:\n",
    "        ```python\n",
    "        ('DateConSuma(1920, 1, 1)', 'DateConSuma(1925, 1, 1)')\n",
    "        ('DateConSuma(1925, 1, 1)', 'DateConSuma(1930, 1, 1)')\n",
    "        ('DateConSuma(1930, 1, 1)', 'DateConSuma(1935, 1, 1)')\n",
    "        [...]\n",
    "        ('DateConSuma(2005, 1, 1)', 'DateConSuma(2010, 1, 1)')\n",
    "        ('DateConSuma(2010, 1, 1)', 'DateConSuma(2015, 1, 1)')\n",
    "        ('DateConSuma(2015, 1, 1)', 'DateConSuma(2020, 1, 1)')\n",
    "\n",
    "        ```\n",
    "      Una vez entregada la última tupla i.e. ('DateConSuma(2010, 1, 1)', 'DateConSuma(2020, 1, 1)') es necesario que `__next__` levante la excepción `StopIteration` la próxima vez que sea llamado."
   ]
  },
  {
   "cell_type": "markdown",
   "metadata": {},
   "source": [
    "_Hint_ : Es necesario recordar como funciona un **iterable**. Además puede ser útil un método ya utilizado de la clase `date`."
   ]
  },
  {
   "cell_type": "markdown",
   "metadata": {},
   "source": [
    "    equipo docente: El siguiente también puede ser escrito como un generador."
   ]
  },
  {
   "cell_type": "code",
   "execution_count": null,
   "metadata": {},
   "outputs": [],
   "source": [
    "class IteratorFechas():\n",
    "    \n",
    "    def __init__(self):\n",
    "        self.desde_fecha = DateConSuma(1920, 1, 1)\n",
    "        self.dia_presente = date.today()\n",
    "    \n",
    "    def __iter__(self):\n",
    "        return self\n",
    "    \n",
    "    def __next__(self):\n",
    "        hasta_fecha = self.desde_fecha + (5, 0, 0)\n",
    "        \n",
    "        if hasta_fecha <= self.dia_presente:\n",
    "            viejo_desde_fecha = self.desde_fecha\n",
    "            self.desde_fecha = hasta_fecha\n",
    "            return (viejo_desde_fecha, hasta_fecha)\n",
    "        \n",
    "        else:\n",
    "            raise StopIteration()"
   ]
  },
  {
   "cell_type": "raw",
   "metadata": {},
   "source": [
    "implementacion generador (pendiente a discutir)\n",
    "def generador_fechas():\n",
    "    desde_fecha = DateConSuma(1920, 1, 1)\n",
    "    dia_presente = date.today()"
   ]
  },
  {
   "cell_type": "markdown",
   "metadata": {},
   "source": [
    "- Compruebe que la clase `GeneradorFechas` funciona como es esperado."
   ]
  },
  {
   "cell_type": "code",
   "execution_count": null,
   "metadata": {},
   "outputs": [],
   "source": [
    "for desde_, hasta_ in IteratorFechas():\n",
    "    print((repr(desde_), repr(hasta_)))"
   ]
  },
  {
   "cell_type": "markdown",
   "metadata": {},
   "source": [
    "\\todo: explicar como se generan las consultas y proponer parte de la clase como ejercicio\n",
    "3. Cree la clase `GeneradorConsulta`."
   ]
  },
  {
   "cell_type": "code",
   "execution_count": null,
   "metadata": {},
   "outputs": [],
   "source": [
    "class GeneradorConsulta(IteratorFechas):\n",
    "        \n",
    "    def __init__(self):\n",
    "        \n",
    "        super().__init__()\n",
    "        # atributos fijos de consulta\n",
    "        self.params_dict = {\n",
    "            'minlatitude': -56.72500008, \n",
    "            'minlongitude': -80,\n",
    "            'maxlatitude': -17.49839982,\n",
    "            'maxlongitude': -66.07534742,\n",
    "        }\n",
    "    \n",
    "    # privada que no puede ser modificada por el usuario\n",
    "    @property\n",
    "    def url_api(self):\n",
    "        self.__url_api = \"https://earthquake.usgs.gov/fdsnws/event/1/query?format=geojson\"\n",
    "        return self.__url_api\n",
    "\n",
    "    def __iter__(self):\n",
    "        return self\n",
    "\n",
    "    def __next__(self):\n",
    "        \n",
    "        desde_fecha, hasta_fecha = super().__next__()\n",
    "        iter_dict = {\n",
    "            'starttime': desde_fecha,\n",
    "            'endtime': hasta_fecha\n",
    "        }\n",
    "        iter_dict = {**iter_dict, **self.params_dict}\n",
    "        lista_parametros = ['&'+str(k)+'='+str(v) for k, v in iter_dict.items()]\n",
    "        return self.url_api + ''.join(lista_parametros)\n",
    "\n"
   ]
  },
  {
   "cell_type": "markdown",
   "metadata": {},
   "source": [
    "- Compruebe que el resultado es el deseado:"
   ]
  },
  {
   "cell_type": "code",
   "execution_count": null,
   "metadata": {},
   "outputs": [],
   "source": [
    "for consulta_str in GeneradorConsulta():\n",
    "    print(consulta_str)"
   ]
  },
  {
   "cell_type": "markdown",
   "metadata": {},
   "source": [
    "## Recolección de datos"
   ]
  },
  {
   "cell_type": "markdown",
   "metadata": {},
   "source": [
    "4. Extienda dict"
   ]
  },
  {
   "cell_type": "code",
   "execution_count": null,
   "metadata": {},
   "outputs": [],
   "source": [
    "class DictDeListas(dict):\n",
    "    \n",
    "    def extiende_listas(self, dict_de_listas):\n",
    "        \n",
    "        for k, l in dict_de_listas.items():\n",
    "            \n",
    "            self[k] += l\n",
    "            "
   ]
  },
  {
   "cell_type": "markdown",
   "metadata": {},
   "source": [
    "- Compruebe que el resultado es el deseado:"
   ]
  },
  {
   "cell_type": "code",
   "execution_count": null,
   "metadata": {},
   "outputs": [],
   "source": [
    "primer_dict_de_listas = DictDeListas({\n",
    "    'id': ['iscgem908354', 'iscgem908107','iscgem908989']\n",
    "})\n",
    "primer_dict_de_listas.extiende_listas({\n",
    "    'id': ['iscgem908986', 'iscgem908971', 'iscgem908457']\n",
    "})\n",
    "primer_dict_de_listas"
   ]
  },
  {
   "cell_type": "markdown",
   "metadata": {},
   "source": [
    "5. Recolecte datos segun `funciones_dict`"
   ]
  },
  {
   "cell_type": "code",
   "execution_count": null,
   "metadata": {},
   "outputs": [],
   "source": [
    "funciones_dict = {\n",
    "    'id': lambda x: x['id'],\n",
    "    'lugar': lambda x: x['properties']['place'],\n",
    "    'timestamp': lambda x: x['properties']['time'],\n",
    "    'magnitud': lambda x: x['properties']['mag'],\n",
    "    'longitud': lambda x: x['geometry']['coordinates'][0],\n",
    "    'latitud': lambda x: x['geometry']['coordinates'][1]\n",
    "}"
   ]
  },
  {
   "cell_type": "code",
   "execution_count": null,
   "metadata": {},
   "outputs": [],
   "source": [
    "observaciones_dict = DictDeListas()\n",
    "for consulta_str in GeneradorConsulta():\n",
    "    \n",
    "    with requests.get(consulta_str) as respuesta:\n",
    "        \n",
    "        assert respuesta.ok, f'Respuesta erronea de codigo: {respuesta.status_code}'\n",
    "        \n",
    "        respuesta_dict = respuesta.json()\n",
    "        respuesta_features_lista = respuesta_dict['features']\n",
    "        \n",
    "        # reporta numero de resultados\n",
    "        print(f'{len(respuesta_dict[\"features\"])} observaciones en consulta {consulta_str}' )\n",
    "        \n",
    "        propiedades_iter = [dict(filter(\n",
    "            lambda x: x[0] in ['place', 'time', 'mag'], obs['properties'].items()))\\\n",
    "            for obs in respuesta_features_lista]\n",
    "        \n",
    "        iter_dict = DictDeListas()\n",
    "        \n",
    "        for k, func in funciones_dict.items():\n",
    "            \n",
    "            iter_dict[k] = list(map(func, respuesta_features_lista))\n",
    "            \n",
    "        if observaciones_dict:\n",
    "            observaciones_dict.extiende_listas(iter_dict)\n",
    "            \n",
    "        else:\n",
    "            observaciones_dict = DictDeListas(iter_dict.copy())\n",
    "        \n",
    "        # espera 5 segundos antes de realizar la próxima consulta\n",
    "        sleep(5)\n",
    "        \n",
    "        "
   ]
  },
  {
   "cell_type": "markdown",
   "metadata": {},
   "source": [
    "## Analisis de datos"
   ]
  },
  {
   "cell_type": "markdown",
   "metadata": {},
   "source": [
    "6. Transforme las listas en numpy array segun "
   ]
  },
  {
   "cell_type": "raw",
   "metadata": {},
   "source": [
    "dt.datetime.fromtimestamp(x[\"time\"]//1000) # todo aún tengo que tratar datetimes"
   ]
  },
  {
   "cell_type": "code",
   "execution_count": null,
   "metadata": {},
   "outputs": [],
   "source": [
    "dtype_dict = {\n",
    "    'id': np.dtype('O'),\n",
    "    'lugar': np.dtype('O'),\n",
    "    'timestamp': np.dtype(float),\n",
    "    'magnitud': np.dtype(float),\n",
    "    'longitud': np.dtype(float),\n",
    "    'latitud': np.dtype(float)\n",
    "}"
   ]
  },
  {
   "cell_type": "code",
   "execution_count": null,
   "metadata": {},
   "outputs": [],
   "source": [
    "observaciones_arr_dict = {k: np.array(v, dtype=dtype_dict[k]) for k, v in observaciones_dict.items()}"
   ]
  },
  {
   "cell_type": "markdown",
   "metadata": {},
   "source": [
    "7. Adapte el código de singledispatchmeth "
   ]
  },
  {
   "cell_type": "code",
   "execution_count": null,
   "metadata": {},
   "outputs": [],
   "source": [
    "def numpydispatch(func):\n",
    "    dispatcher = singledispatch(func)\n",
    "    def wrapper(*args, **kw):\n",
    "        return dispatcher.dispatch(args[0][0].__class__)(*args, **kw)\n",
    "    wrapper.register = dispatcher.register\n",
    "    update_wrapper(wrapper, func)\n",
    "    return wrapper"
   ]
  },
  {
   "cell_type": "raw",
   "metadata": {},
   "source": [
    "# sin usar numpydispatch\n",
    "def muestra_estadisticas_descriptivas(array):\n",
    "    lista_str = []\n",
    "    lista_str.append(f\"numero de observaciones: {len(array):,}\")\n",
    "    \n",
    "    if array.dtype == np.dtype(float):\n",
    "        \n",
    "        lista_str.append(f\"media: {np.nanmean(array):.2f}\")\n",
    "        lista_str.append(f\"mediana: {np.nanmedian(array):.2f}\")\n",
    "        lista_str.append(f\"primer cuartil: {np.nanquantile(array, .25):.2f}\")\n",
    "        lista_str.append(f\"tercer cuartil: {np.nanquantile(array, .75):.2f}\")\n",
    "        lista_str.append(f\"minimo: {np.nanmin(array)}\")\n",
    "        lista_str.append(f\"maximo: {np.nanax(array)}\")\n",
    "        \n",
    "    if array.dtype == np.dtype('O'):\n",
    "        \n",
    "        lista_str.append(f'moda: {stats.mode(array, nan_policy=\"omit\")}')\n",
    "        \n",
    "\n",
    "# @muestra_estadisticas_descriptivas.register()\n",
    "    "
   ]
  },
  {
   "cell_type": "markdown",
   "metadata": {},
   "source": [
    "8. Complete el siguiente código"
   ]
  },
  {
   "cell_type": "code",
   "execution_count": null,
   "metadata": {},
   "outputs": [],
   "source": [
    "@numpydispatch\n",
    "def muestra_estadisticas_descriptivas(array):\n",
    "    lista_str = []\n",
    "    lista_str.append(f\"numero de observaciones: {len(array):,}\")\n",
    "    print('\\n'.join(lista_str))\n",
    "    \n",
    "@muestra_estadisticas_descriptivas.register(np.float64)\n",
    "def _(array):\n",
    "    lista_str = []\n",
    "    lista_str.append(f\"numero de observaciones: {len(array):,}\")\n",
    "    lista_str.append(f\"media: {np.nanmean(array):.2f}\")\n",
    "    lista_str.append(f\"mediana: {np.nanmedian(array):.2f}\")\n",
    "    lista_str.append(f\"primer cuartil: {np.nanquantile(array, .25):.2f}\")\n",
    "    lista_str.append(f\"tercer cuartil: {np.nanquantile(array, .75):.2f}\")\n",
    "    lista_str.append(f\"minimo: {np.nanmin(array)}\")\n",
    "    lista_str.append(f\"maximo: {np.nanmax(array)}\")\n",
    "    print('\\n'.join(lista_str))\n",
    "        \n",
    "@muestra_estadisticas_descriptivas.register(str)\n",
    "def _(array):\n",
    "    \n",
    "    resultados_moda = stats.mode(array, nan_policy=\"omit\")\n",
    "    \n",
    "    lista_str = []\n",
    "    lista_str.append(f\"numero de observaciones: {len(array):,}\")\n",
    "    lista_str.append(f'moda: {resultados_moda.mode[0]} ({resultados_moda.count[0]:,} ocurrencias)')\n",
    "    print('\\n'.join(lista_str))\n",
    "        \n",
    "\n",
    "# @muestra_estadisticas_descriptivas.register()\n",
    "    "
   ]
  },
  {
   "cell_type": "markdown",
   "metadata": {},
   "source": [
    "- Compruebe que el resultado es el deseado:"
   ]
  },
  {
   "cell_type": "code",
   "execution_count": null,
   "metadata": {},
   "outputs": [],
   "source": [
    "# test_dict = {}\n",
    "# test_dict['magnitud'] = np.array(observaciones_dict['magnitud'], dtype=float)\n",
    "# test_dict['lugar'] = np.array(observaciones_dict['lugar'], dtype=np.object)\n",
    "\n",
    "for k, val in observaciones_arr_dict.items():\n",
    "    \n",
    "    if k == 'id': \n",
    "        continue\n",
    "    \n",
    "    print(f'\\nVariable: {k}')\n",
    "    muestra_estadisticas_descriptivas(val)"
   ]
  },
  {
   "cell_type": "markdown",
   "metadata": {},
   "source": [
    "9. Filtrar filas que no estén en Chile  \n",
    "\n",
    "\n",
    "    \\pendiente!"
   ]
  },
  {
   "cell_type": "code",
   "execution_count": null,
   "metadata": {},
   "outputs": [],
   "source": []
  }
 ],
 "metadata": {
  "kernelspec": {
   "display_name": "Python 3",
   "language": "python",
   "name": "python3"
  },
  "language_info": {
   "codemirror_mode": {
    "name": "ipython",
    "version": 3
   },
   "file_extension": ".py",
   "mimetype": "text/x-python",
   "name": "python",
   "nbconvert_exporter": "python",
   "pygments_lexer": "ipython3",
   "version": "3.6.10"
  },
  "nbTranslate": {
   "displayLangs": [
    "es",
    "en"
   ],
   "hotkey": "alt-t",
   "langInMainMenu": true,
   "sourceLang": "en",
   "targetLang": "es",
   "useGoogleTranslate": true
  },
  "toc": {
   "base_numbering": 1,
   "nav_menu": {},
   "number_sections": true,
   "sideBar": true,
   "skip_h1_title": false,
   "title_cell": "Table of Contents",
   "title_sidebar": "Contents",
   "toc_cell": false,
   "toc_position": {},
   "toc_section_display": true,
   "toc_window_display": false
  }
 },
 "nbformat": 4,
 "nbformat_minor": 4
}
